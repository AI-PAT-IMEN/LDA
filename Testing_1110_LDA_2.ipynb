{
 "cells": [
  {
   "cell_type": "code",
   "execution_count": 1,
   "metadata": {},
   "outputs": [
    {
     "name": "stderr",
     "output_type": "stream",
     "text": [
      "D:\\anaconda\\lib\\site-packages\\numexpr\\expressions.py:21: DeprecationWarning: distutils Version classes are deprecated. Use packaging.version instead.\n",
      "  _np_version_forbids_neg_powint = LooseVersion(numpy.__version__) >= LooseVersion('1.12.0b1')\n",
      "D:\\anaconda\\lib\\site-packages\\numexpr\\expressions.py:21: DeprecationWarning: distutils Version classes are deprecated. Use packaging.version instead.\n",
      "  _np_version_forbids_neg_powint = LooseVersion(numpy.__version__) >= LooseVersion('1.12.0b1')\n",
      "D:\\anaconda\\lib\\site-packages\\fsspec\\registry.py:59: DeprecationWarning: distutils Version classes are deprecated. Use packaging.version instead.\n",
      "  minversions = {\"s3fs\": LooseVersion(\"0.3.0\"), \"gcsfs\": LooseVersion(\"0.3.0\")}\n",
      "D:\\anaconda\\lib\\site-packages\\fsspec\\registry.py:59: DeprecationWarning: distutils Version classes are deprecated. Use packaging.version instead.\n",
      "  minversions = {\"s3fs\": LooseVersion(\"0.3.0\"), \"gcsfs\": LooseVersion(\"0.3.0\")}\n",
      "D:\\anaconda\\lib\\site-packages\\plotly\\graph_objs\\__init__.py:287: DeprecationWarning:\n",
      "\n",
      "distutils Version classes are deprecated. Use packaging.version instead.\n",
      "\n",
      "D:\\anaconda\\lib\\site-packages\\plotly\\graph_objs\\__init__.py:287: DeprecationWarning:\n",
      "\n",
      "distutils Version classes are deprecated. Use packaging.version instead.\n",
      "\n",
      "D:\\anaconda\\lib\\site-packages\\plotly\\graph_objs\\__init__.py:287: DeprecationWarning:\n",
      "\n",
      "distutils Version classes are deprecated. Use packaging.version instead.\n",
      "\n",
      "D:\\anaconda\\lib\\site-packages\\plotly\\graph_objs\\__init__.py:287: DeprecationWarning:\n",
      "\n",
      "distutils Version classes are deprecated. Use packaging.version instead.\n",
      "\n",
      "D:\\anaconda\\lib\\site-packages\\dask\\compatibility.py:22: DeprecationWarning:\n",
      "\n",
      "distutils Version classes are deprecated. Use packaging.version instead.\n",
      "\n",
      "D:\\anaconda\\lib\\site-packages\\xarray\\core\\pycompat.py:22: DeprecationWarning:\n",
      "\n",
      "distutils Version classes are deprecated. Use packaging.version instead.\n",
      "\n",
      "D:\\anaconda\\lib\\site-packages\\dask\\array\\numpy_compat.py:8: DeprecationWarning:\n",
      "\n",
      "distutils Version classes are deprecated. Use packaging.version instead.\n",
      "\n",
      "C:\\Users\\USER\\AppData\\Roaming\\Python\\Python37\\site-packages\\setuptools\\_distutils\\version.py:346: DeprecationWarning:\n",
      "\n",
      "distutils Version classes are deprecated. Use packaging.version instead.\n",
      "\n",
      "D:\\anaconda\\lib\\site-packages\\dask\\array\\numpy_compat.py:9: DeprecationWarning:\n",
      "\n",
      "distutils Version classes are deprecated. Use packaging.version instead.\n",
      "\n",
      "C:\\Users\\USER\\AppData\\Roaming\\Python\\Python37\\site-packages\\setuptools\\_distutils\\version.py:346: DeprecationWarning:\n",
      "\n",
      "distutils Version classes are deprecated. Use packaging.version instead.\n",
      "\n",
      "D:\\anaconda\\lib\\site-packages\\dask\\array\\numpy_compat.py:10: DeprecationWarning:\n",
      "\n",
      "distutils Version classes are deprecated. Use packaging.version instead.\n",
      "\n",
      "C:\\Users\\USER\\AppData\\Roaming\\Python\\Python37\\site-packages\\setuptools\\_distutils\\version.py:346: DeprecationWarning:\n",
      "\n",
      "distutils Version classes are deprecated. Use packaging.version instead.\n",
      "\n",
      "D:\\anaconda\\lib\\site-packages\\dask\\array\\numpy_compat.py:11: DeprecationWarning:\n",
      "\n",
      "distutils Version classes are deprecated. Use packaging.version instead.\n",
      "\n",
      "C:\\Users\\USER\\AppData\\Roaming\\Python\\Python37\\site-packages\\setuptools\\_distutils\\version.py:346: DeprecationWarning:\n",
      "\n",
      "distutils Version classes are deprecated. Use packaging.version instead.\n",
      "\n",
      "D:\\anaconda\\lib\\site-packages\\dask\\array\\numpy_compat.py:50: DeprecationWarning:\n",
      "\n",
      "distutils Version classes are deprecated. Use packaging.version instead.\n",
      "\n",
      "C:\\Users\\USER\\AppData\\Roaming\\Python\\Python37\\site-packages\\setuptools\\_distutils\\version.py:346: DeprecationWarning:\n",
      "\n",
      "distutils Version classes are deprecated. Use packaging.version instead.\n",
      "\n",
      "D:\\anaconda\\lib\\site-packages\\dask\\array\\numpy_compat.py:200: DeprecationWarning:\n",
      "\n",
      "distutils Version classes are deprecated. Use packaging.version instead.\n",
      "\n",
      "D:\\anaconda\\lib\\site-packages\\dask\\array\\numpy_compat.py:200: DeprecationWarning:\n",
      "\n",
      "distutils Version classes are deprecated. Use packaging.version instead.\n",
      "\n",
      "D:\\anaconda\\lib\\site-packages\\xarray\\core\\pycompat.py:37: DeprecationWarning:\n",
      "\n",
      "distutils Version classes are deprecated. Use packaging.version instead.\n",
      "\n",
      "D:\\anaconda\\lib\\site-packages\\xarray\\core\\pycompat.py:37: DeprecationWarning:\n",
      "\n",
      "distutils Version classes are deprecated. Use packaging.version instead.\n",
      "\n",
      "C:\\Users\\USER\\AppData\\Roaming\\Python\\Python37\\site-packages\\setuptools\\_distutils\\version.py:346: DeprecationWarning:\n",
      "\n",
      "distutils Version classes are deprecated. Use packaging.version instead.\n",
      "\n",
      "C:\\Users\\USER\\AppData\\Roaming\\Python\\Python37\\site-packages\\setuptools\\_distutils\\version.py:346: DeprecationWarning:\n",
      "\n",
      "distutils Version classes are deprecated. Use packaging.version instead.\n",
      "\n",
      "D:\\anaconda\\lib\\site-packages\\xarray\\core\\npcompat.py:89: DeprecationWarning:\n",
      "\n",
      "distutils Version classes are deprecated. Use packaging.version instead.\n",
      "\n",
      "C:\\Users\\USER\\AppData\\Roaming\\Python\\Python37\\site-packages\\setuptools\\_distutils\\version.py:346: DeprecationWarning:\n",
      "\n",
      "distutils Version classes are deprecated. Use packaging.version instead.\n",
      "\n",
      "D:\\anaconda\\lib\\site-packages\\xarray\\core\\pdcompat.py:45: DeprecationWarning:\n",
      "\n",
      "distutils Version classes are deprecated. Use packaging.version instead.\n",
      "\n",
      "C:\\Users\\USER\\AppData\\Roaming\\Python\\Python37\\site-packages\\setuptools\\_distutils\\version.py:346: DeprecationWarning:\n",
      "\n",
      "distutils Version classes are deprecated. Use packaging.version instead.\n",
      "\n",
      "D:\\anaconda\\lib\\site-packages\\distributed\\utils.py:1207: DeprecationWarning:\n",
      "\n",
      "AnyThreadEventLoopPolicy is deprecated, use asyncio.run or asyncio.new_event_loop instead\n",
      "\n",
      "D:\\anaconda\\lib\\site-packages\\sphinx\\util\\docutils.py:49: DeprecationWarning:\n",
      "\n",
      "distutils Version classes are deprecated. Use packaging.version instead.\n",
      "\n",
      "D:\\anaconda\\lib\\site-packages\\plotly\\graph_objs\\__init__.py:287: DeprecationWarning:\n",
      "\n",
      "distutils Version classes are deprecated. Use packaging.version instead.\n",
      "\n",
      "D:\\anaconda\\lib\\site-packages\\plotly\\graph_objs\\__init__.py:287: DeprecationWarning:\n",
      "\n",
      "distutils Version classes are deprecated. Use packaging.version instead.\n",
      "\n",
      "D:\\anaconda\\lib\\site-packages\\plotly\\graph_objs\\__init__.py:287: DeprecationWarning:\n",
      "\n",
      "distutils Version classes are deprecated. Use packaging.version instead.\n",
      "\n",
      "D:\\anaconda\\lib\\site-packages\\plotly\\graph_objs\\__init__.py:287: DeprecationWarning:\n",
      "\n",
      "distutils Version classes are deprecated. Use packaging.version instead.\n",
      "\n",
      "D:\\anaconda\\lib\\site-packages\\plotly\\graph_objs\\__init__.py:287: DeprecationWarning:\n",
      "\n",
      "distutils Version classes are deprecated. Use packaging.version instead.\n",
      "\n",
      "D:\\anaconda\\lib\\site-packages\\plotly\\graph_objs\\__init__.py:287: DeprecationWarning:\n",
      "\n",
      "distutils Version classes are deprecated. Use packaging.version instead.\n",
      "\n",
      "D:\\anaconda\\lib\\site-packages\\plotly\\graph_objs\\__init__.py:287: DeprecationWarning:\n",
      "\n",
      "distutils Version classes are deprecated. Use packaging.version instead.\n",
      "\n",
      "D:\\anaconda\\lib\\site-packages\\plotly\\graph_objs\\__init__.py:287: DeprecationWarning:\n",
      "\n",
      "distutils Version classes are deprecated. Use packaging.version instead.\n",
      "\n",
      "D:\\anaconda\\lib\\site-packages\\nbformat\\notebooknode.py:4: DeprecationWarning:\n",
      "\n",
      "Using or importing the ABCs from 'collections' instead of from 'collections.abc' is deprecated, and in 3.8 it will stop working\n",
      "\n"
     ]
    },
    {
     "data": {
      "text/html": [
       "        <script type=\"text/javascript\">\n",
       "        window.PlotlyConfig = {MathJaxConfig: 'local'};\n",
       "        if (window.MathJax) {MathJax.Hub.Config({SVG: {font: \"STIX-Web\"}});}\n",
       "        if (typeof require !== 'undefined') {\n",
       "        require.undef(\"plotly\");\n",
       "        requirejs.config({\n",
       "            paths: {\n",
       "                'plotly': ['https://cdn.plot.ly/plotly-2.9.0.min']\n",
       "            }\n",
       "        });\n",
       "        require(['plotly'], function(Plotly) {\n",
       "            window._Plotly = Plotly;\n",
       "        });\n",
       "        }\n",
       "        </script>\n",
       "        "
      ]
     },
     "metadata": {},
     "output_type": "display_data"
    },
    {
     "data": {
      "text/html": [
       "        <script type=\"text/javascript\">\n",
       "        window.PlotlyConfig = {MathJaxConfig: 'local'};\n",
       "        if (window.MathJax) {MathJax.Hub.Config({SVG: {font: \"STIX-Web\"}});}\n",
       "        if (typeof require !== 'undefined') {\n",
       "        require.undef(\"plotly\");\n",
       "        requirejs.config({\n",
       "            paths: {\n",
       "                'plotly': ['https://cdn.plot.ly/plotly-2.9.0.min']\n",
       "            }\n",
       "        });\n",
       "        require(['plotly'], function(Plotly) {\n",
       "            window._Plotly = Plotly;\n",
       "        });\n",
       "        }\n",
       "        </script>\n",
       "        "
      ]
     },
     "metadata": {},
     "output_type": "display_data"
    }
   ],
   "source": [
    "from konlpy.tag import Mecab\n",
    "from tqdm import tqdm\n",
    "import re\n",
    "from gensim.models.ldamodel import LdaModel\n",
    "from gensim.models.callbacks import CoherenceMetric\n",
    "from gensim import corpora\n",
    "from gensim.models.callbacks import PerplexityMetric\n",
    "import logging\n",
    "import pickle\n",
    "import pyLDAvis.gensim_models\n",
    "from gensim.models.coherencemodel import CoherenceModel\n",
    "import matplotlib.pyplot as plt\n",
    "\n",
    "\n",
    "import MeCab\n",
    "import konlpy\n",
    "from sklearn.feature_extraction.text import CountVectorizer\n",
    "import re\n",
    "\n",
    "\n",
    "# 필요 라이브러리 임포트\n",
    "import tensorflow as tf\n",
    "import bert\n",
    "import os\n",
    "# from konlpy.tag import Mecab\n",
    "import pandas as pd\n",
    "import numpy as np\n",
    "from tensorflow import keras\n",
    "from tensorflow.keras.layers import Dense\n",
    "from tqdm import tqdm\n",
    "from korpat_tokenizer import Tokenizer\n",
    "\n",
    "import plotly.graph_objects as og\n",
    "import cufflinks as cf\n",
    "import chart_studio.plotly as py\n",
    "from konlpy.tag import Mecab\n",
    "cf.go_offline(connected = True)\n",
    "\n",
    "\n",
    "import pandas as pd\n",
    "import cufflinks as cf\n",
    "import chart_studio.plotly as py\n",
    "import plotly.graph_objects as go\n",
    "\n",
    "cf.go_offline(connected= True)\n",
    "\n",
    "from sklearn.decomposition import LatentDirichletAllocation"
   ]
  },
  {
   "cell_type": "code",
   "execution_count": 2,
   "metadata": {},
   "outputs": [],
   "source": [
    "df1 = pd.read_csv('ABC.csv',index_col = 0)"
   ]
  },
  {
   "cell_type": "code",
   "execution_count": 38,
   "metadata": {},
   "outputs": [],
   "source": [
    "idx = df1.reset_index()[['요약']].drop_duplicates().index"
   ]
  },
  {
   "cell_type": "code",
   "execution_count": 39,
   "metadata": {},
   "outputs": [
    {
     "data": {
      "text/plain": [
       "Int64Index([   0,    1,    2,    3,    4,    5,    6,    7,    8,    9,\n",
       "            ...\n",
       "            6407, 6408, 6409, 6410, 6411, 6412, 6413, 6414, 6415, 6416],\n",
       "           dtype='int64', length=6189)"
      ]
     },
     "execution_count": 39,
     "metadata": {},
     "output_type": "execute_result"
    }
   ],
   "source": [
    "idx"
   ]
  },
  {
   "cell_type": "code",
   "execution_count": 40,
   "metadata": {},
   "outputs": [],
   "source": [
    "df2 = df1.reset_index().copy()"
   ]
  },
  {
   "cell_type": "code",
   "execution_count": 42,
   "metadata": {},
   "outputs": [],
   "source": [
    "df3 = df2.iloc[idx].copy()"
   ]
  },
  {
   "cell_type": "code",
   "execution_count": 55,
   "metadata": {},
   "outputs": [
    {
     "data": {
      "text/plain": [
       "1"
      ]
     },
     "execution_count": 55,
     "metadata": {},
     "output_type": "execute_result"
    }
   ],
   "source": [
    "df3[df3['same_patent'] == 'ABC']\n",
    "1"
   ]
  },
  {
   "cell_type": "code",
   "execution_count": 83,
   "metadata": {},
   "outputs": [],
   "source": [
    "lst_all = []\n",
    "for j in df3[df3['same_patent'] == 'ABC'].iloc[:,-1]:\n",
    "    lst_all.append([i.strip() for i in j.replace('[','').replace(']','').replace(\"'\",'').split(',')])"
   ]
  },
  {
   "cell_type": "code",
   "execution_count": 85,
   "metadata": {},
   "outputs": [
    {
     "data": {
      "text/plain": [
       "23"
      ]
     },
     "execution_count": 85,
     "metadata": {},
     "output_type": "execute_result"
    }
   ],
   "source": [
    "len(lst_all)"
   ]
  },
  {
   "cell_type": "code",
   "execution_count": 89,
   "metadata": {},
   "outputs": [
    {
     "data": {
      "text/plain": [
       "[[],\n",
       " [],\n",
       " [],\n",
       " [],\n",
       " [],\n",
       " [],\n",
       " [],\n",
       " [],\n",
       " [],\n",
       " [],\n",
       " [],\n",
       " [],\n",
       " [],\n",
       " [],\n",
       " [],\n",
       " [],\n",
       " [],\n",
       " [],\n",
       " [],\n",
       " [],\n",
       " [],\n",
       " [],\n",
       " []]"
      ]
     },
     "execution_count": 89,
     "metadata": {},
     "output_type": "execute_result"
    }
   ],
   "source": [
    "corpus"
   ]
  },
  {
   "cell_type": "code",
   "execution_count": 91,
   "metadata": {},
   "outputs": [
    {
     "name": "stdout",
     "output_type": "stream",
     "text": [
      "Number of unique tokens: 477\n",
      "Number of documents: 23\n",
      "\n",
      "Coherence Score (c_v):  0.39815794172177726\n",
      "\n",
      "Coherence Score (u_mass):  -1.5905934458244535\n"
     ]
    },
    {
     "name": "stderr",
     "output_type": "stream",
     "text": [
      "D:\\anaconda\\lib\\site-packages\\pyLDAvis\\_prepare.py:247: FutureWarning:\n",
      "\n",
      "In a future version of pandas all arguments of DataFrame.drop except for the argument 'labels' will be keyword-only\n",
      "\n"
     ]
    }
   ],
   "source": [
    "from konlpy.tag import Mecab\n",
    "from tqdm import tqdm\n",
    "import re\n",
    "from gensim.models.ldamodel import LdaModel\n",
    "from gensim.models.callbacks import CoherenceMetric\n",
    "from gensim import corpora\n",
    "from gensim.models.callbacks import PerplexityMetric\n",
    "import logging\n",
    "import pickle\n",
    "import pyLDAvis.gensim_models\n",
    "from gensim.models.coherencemodel import CoherenceModel\n",
    "import matplotlib.pyplot as plt\n",
    "\n",
    "\n",
    "if __name__ == '__main__':\n",
    "\n",
    "\n",
    "    # 정수 인코딩과 빈도수 생성\n",
    "    dictionary = corpora.Dictionary(lst_all)\n",
    "\n",
    "    # 출현빈도가 적거나 자주 등장하는 단어는 제거\n",
    "#     dictionary.filter_extremes(no_below=0, no_above=0.05)\n",
    "    \n",
    "    corpus = [dictionary.doc2bow(text) for text in lst_all]\n",
    "    print('Number of unique tokens: %d' % len(dictionary))\n",
    "    print('Number of documents: %d' % len(corpus))\n",
    "    \n",
    "    perplexity_logger = PerplexityMetric(corpus=corpus, logger='shell')\n",
    "    coherence_logger = CoherenceMetric(corpus=corpus, coherence=\"u_mass\", logger='shell')\n",
    "\n",
    "\n",
    "\n",
    "    lda_model = LdaModel(corpus, id2word = dictionary,alpha='auto', num_topics=2, passes=30, callbacks=[coherence_logger, perplexity_logger])\n",
    "    \n",
    "    coherence_model_lda = CoherenceModel(model=lda_model, texts=lst_all, dictionary=dictionary, coherence='c_v')\n",
    "    coherence_lda = coherence_model_lda.get_coherence()\n",
    "    print('\\nCoherence Score (c_v): ', coherence_lda)\n",
    "\n",
    "    # Compute Coherence Score using UMass\n",
    "    coherence_model_lda = CoherenceModel(model=lda_model, texts=lst_all, dictionary=dictionary, coherence=\"u_mass\")\n",
    "    coherence_lda = coherence_model_lda.get_coherence()\n",
    "    print('\\nCoherence Score (u_mass): ', coherence_lda)\n",
    "\n",
    "\n",
    "    # 저장\n",
    "    pickle.dump(corpus, open('corpus.pkl', 'wb'))\n",
    "    dictionary.save('lda_dictionary.gensim')\n",
    "    lda_model.save('lda_model.gensim')\n",
    "\n",
    "    # pyLDAvis html 저장\n",
    "    lda_visualization = pyLDAvis.gensim_models.prepare(lda_model, corpus, dictionary, sort_topics=False)\n",
    "    pyLDAvis.save_html(lda_visualization, 'testing_5_ABC.html')\n",
    "    pyLDAvis.display(lda_visualization)\n",
    "\n"
   ]
  },
  {
   "cell_type": "code",
   "execution_count": null,
   "metadata": {},
   "outputs": [],
   "source": []
  },
  {
   "cell_type": "code",
   "execution_count": null,
   "metadata": {},
   "outputs": [],
   "source": []
  },
  {
   "cell_type": "code",
   "execution_count": null,
   "metadata": {},
   "outputs": [],
   "source": []
  },
  {
   "cell_type": "code",
   "execution_count": null,
   "metadata": {},
   "outputs": [],
   "source": []
  },
  {
   "cell_type": "code",
   "execution_count": null,
   "metadata": {},
   "outputs": [],
   "source": []
  },
  {
   "cell_type": "code",
   "execution_count": null,
   "metadata": {},
   "outputs": [],
   "source": []
  },
  {
   "cell_type": "code",
   "execution_count": null,
   "metadata": {},
   "outputs": [],
   "source": []
  },
  {
   "cell_type": "code",
   "execution_count": null,
   "metadata": {},
   "outputs": [],
   "source": []
  },
  {
   "cell_type": "code",
   "execution_count": null,
   "metadata": {},
   "outputs": [],
   "source": []
  },
  {
   "cell_type": "code",
   "execution_count": null,
   "metadata": {},
   "outputs": [],
   "source": []
  },
  {
   "cell_type": "code",
   "execution_count": null,
   "metadata": {},
   "outputs": [],
   "source": []
  },
  {
   "cell_type": "code",
   "execution_count": null,
   "metadata": {},
   "outputs": [],
   "source": []
  },
  {
   "cell_type": "code",
   "execution_count": null,
   "metadata": {},
   "outputs": [],
   "source": []
  },
  {
   "cell_type": "code",
   "execution_count": null,
   "metadata": {},
   "outputs": [],
   "source": []
  },
  {
   "cell_type": "code",
   "execution_count": null,
   "metadata": {},
   "outputs": [],
   "source": []
  },
  {
   "cell_type": "code",
   "execution_count": null,
   "metadata": {},
   "outputs": [],
   "source": []
  },
  {
   "cell_type": "code",
   "execution_count": null,
   "metadata": {},
   "outputs": [],
   "source": []
  },
  {
   "cell_type": "code",
   "execution_count": null,
   "metadata": {},
   "outputs": [],
   "source": []
  },
  {
   "cell_type": "code",
   "execution_count": null,
   "metadata": {},
   "outputs": [],
   "source": []
  },
  {
   "cell_type": "code",
   "execution_count": null,
   "metadata": {},
   "outputs": [],
   "source": []
  },
  {
   "cell_type": "code",
   "execution_count": null,
   "metadata": {},
   "outputs": [],
   "source": []
  },
  {
   "cell_type": "code",
   "execution_count": null,
   "metadata": {},
   "outputs": [],
   "source": []
  },
  {
   "cell_type": "code",
   "execution_count": null,
   "metadata": {},
   "outputs": [],
   "source": []
  },
  {
   "cell_type": "code",
   "execution_count": null,
   "metadata": {},
   "outputs": [],
   "source": []
  },
  {
   "cell_type": "code",
   "execution_count": null,
   "metadata": {},
   "outputs": [],
   "source": []
  },
  {
   "cell_type": "code",
   "execution_count": null,
   "metadata": {},
   "outputs": [],
   "source": []
  },
  {
   "cell_type": "code",
   "execution_count": null,
   "metadata": {},
   "outputs": [],
   "source": []
  },
  {
   "cell_type": "code",
   "execution_count": null,
   "metadata": {},
   "outputs": [],
   "source": []
  },
  {
   "cell_type": "code",
   "execution_count": null,
   "metadata": {},
   "outputs": [],
   "source": []
  },
  {
   "cell_type": "code",
   "execution_count": null,
   "metadata": {},
   "outputs": [],
   "source": []
  },
  {
   "cell_type": "code",
   "execution_count": null,
   "metadata": {},
   "outputs": [],
   "source": []
  },
  {
   "cell_type": "code",
   "execution_count": null,
   "metadata": {},
   "outputs": [],
   "source": []
  },
  {
   "cell_type": "code",
   "execution_count": null,
   "metadata": {},
   "outputs": [],
   "source": []
  },
  {
   "cell_type": "code",
   "execution_count": null,
   "metadata": {},
   "outputs": [],
   "source": []
  }
 ],
 "metadata": {
  "hide_input": false,
  "kernelspec": {
   "display_name": "Python 3",
   "language": "python",
   "name": "python3"
  },
  "language_info": {
   "codemirror_mode": {
    "name": "ipython",
    "version": 3
   },
   "file_extension": ".py",
   "mimetype": "text/x-python",
   "name": "python",
   "nbconvert_exporter": "python",
   "pygments_lexer": "ipython3",
   "version": "3.7.4"
  },
  "toc": {
   "base_numbering": 1,
   "nav_menu": {},
   "number_sections": true,
   "sideBar": true,
   "skip_h1_title": false,
   "title_cell": "Table of Contents",
   "title_sidebar": "Contents",
   "toc_cell": false,
   "toc_position": {},
   "toc_section_display": true,
   "toc_window_display": false
  },
  "varInspector": {
   "cols": {
    "lenName": 16,
    "lenType": 16,
    "lenVar": 40
   },
   "kernels_config": {
    "python": {
     "delete_cmd_postfix": "",
     "delete_cmd_prefix": "del ",
     "library": "var_list.py",
     "varRefreshCmd": "print(var_dic_list())"
    },
    "r": {
     "delete_cmd_postfix": ") ",
     "delete_cmd_prefix": "rm(",
     "library": "var_list.r",
     "varRefreshCmd": "cat(var_dic_list()) "
    }
   },
   "types_to_exclude": [
    "module",
    "function",
    "builtin_function_or_method",
    "instance",
    "_Feature"
   ],
   "window_display": false
  }
 },
 "nbformat": 4,
 "nbformat_minor": 2
}
