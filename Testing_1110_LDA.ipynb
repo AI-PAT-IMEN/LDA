{
 "cells": [
  {
   "cell_type": "markdown",
   "metadata": {},
   "source": [
    "# 라이브러리"
   ]
  },
  {
   "cell_type": "code",
   "execution_count": 3,
   "metadata": {},
   "outputs": [
    {
     "data": {
      "text/html": [
       "        <script type=\"text/javascript\">\n",
       "        window.PlotlyConfig = {MathJaxConfig: 'local'};\n",
       "        if (window.MathJax) {MathJax.Hub.Config({SVG: {font: \"STIX-Web\"}});}\n",
       "        if (typeof require !== 'undefined') {\n",
       "        require.undef(\"plotly\");\n",
       "        requirejs.config({\n",
       "            paths: {\n",
       "                'plotly': ['https://cdn.plot.ly/plotly-2.9.0.min']\n",
       "            }\n",
       "        });\n",
       "        require(['plotly'], function(Plotly) {\n",
       "            window._Plotly = Plotly;\n",
       "        });\n",
       "        }\n",
       "        </script>\n",
       "        "
      ]
     },
     "metadata": {},
     "output_type": "display_data"
    }
   ],
   "source": [
    "import MeCab\n",
    "import konlpy\n",
    "from sklearn.feature_extraction.text import CountVectorizer\n",
    "import re\n",
    "\n",
    "\n",
    "# 필요 라이브러리 임포트\n",
    "import tensorflow as tf\n",
    "import bert\n",
    "import os\n",
    "# from konlpy.tag import Mecab\n",
    "import pandas as pd\n",
    "import numpy as np\n",
    "from tensorflow import keras\n",
    "from tensorflow.keras.layers import Dense\n",
    "from tqdm import tqdm\n",
    "from korpat_tokenizer import Tokenizer\n",
    "\n",
    "import plotly.graph_objects as og\n",
    "import cufflinks as cf\n",
    "import chart_studio.plotly as py\n",
    "from konlpy.tag import Mecab\n",
    "cf.go_offline(connected = True)\n"
   ]
  },
  {
   "cell_type": "code",
   "execution_count": 2,
   "metadata": {},
   "outputs": [
    {
     "data": {
      "text/html": [
       "        <script type=\"text/javascript\">\n",
       "        window.PlotlyConfig = {MathJaxConfig: 'local'};\n",
       "        if (window.MathJax) {MathJax.Hub.Config({SVG: {font: \"STIX-Web\"}});}\n",
       "        if (typeof require !== 'undefined') {\n",
       "        require.undef(\"plotly\");\n",
       "        requirejs.config({\n",
       "            paths: {\n",
       "                'plotly': ['https://cdn.plot.ly/plotly-2.9.0.min']\n",
       "            }\n",
       "        });\n",
       "        require(['plotly'], function(Plotly) {\n",
       "            window._Plotly = Plotly;\n",
       "        });\n",
       "        }\n",
       "        </script>\n",
       "        "
      ]
     },
     "metadata": {},
     "output_type": "display_data"
    }
   ],
   "source": [
    "import pandas as pd\n",
    "import cufflinks as cf\n",
    "import chart_studio.plotly as py\n",
    "import plotly.graph_objects as go\n",
    "\n",
    "cf.go_offline(connected= True)\n",
    "\n",
    "from sklearn.decomposition import LatentDirichletAllocation"
   ]
  },
  {
   "cell_type": "code",
   "execution_count": 5,
   "metadata": {},
   "outputs": [],
   "source": [
    "direct = 'C:/Users/USER/Documents/Jupyter Notebook/AI_IMEN/korpatbert_v1.0/pretrained/'\n",
    "\n",
    "df_block = pd.read_csv('블록체인_2_상세.csv',index_col = 0).reset_index(drop = True)\n",
    "df_ML = pd.read_csv('머신러닝_상세.csv',index_col = 0).reset_index(drop = True)\n",
    "df_supply = pd.read_csv('유통_상세.csv',index_col = 0).reset_index(drop = True)"
   ]
  },
  {
   "cell_type": "code",
   "execution_count": 9,
   "metadata": {},
   "outputs": [],
   "source": [
    "df_all = pd.concat([df_block,df_ML,df_supply], axis=0)"
   ]
  },
  {
   "cell_type": "code",
   "execution_count": 30,
   "metadata": {},
   "outputs": [],
   "source": [
    "df_all_2 = df_all[df_all['요약'].notnull()]"
   ]
  },
  {
   "cell_type": "code",
   "execution_count": 31,
   "metadata": {},
   "outputs": [
    {
     "name": "stdout",
     "output_type": "stream",
     "text": [
      "<class 'pandas.core.frame.DataFrame'>\n",
      "Int64Index: 24612 entries, 0 to 7519\n",
      "Data columns (total 29 columns):\n",
      " #   Column            Non-Null Count  Dtype  \n",
      "---  ------            --------------  -----  \n",
      " 0   (51) Int. CL      24612 non-null  object \n",
      " 1   (52) CPC          24612 non-null  object \n",
      " 2   (21) 출원번호/일자      22079 non-null  object \n",
      " 3   (71) 출원인          24612 non-null  object \n",
      " 4   (11) 등록번호/일자      14211 non-null  object \n",
      " 5   (65) 공개번호/일자      18592 non-null  object \n",
      " 6   (11) 공고번호/일자      0 non-null      float64\n",
      " 7   (86) 국제출원번호/일자    2532 non-null   object \n",
      " 8   (87) 국제공개번호/일자    24612 non-null  object \n",
      " 9   (30) 우선권정보        24612 non-null  object \n",
      " 10  법적상태              24612 non-null  object \n",
      " 11  심사진행상태            24612 non-null  object \n",
      " 12  심판사항              24612 non-null  object \n",
      " 13  구분                24612 non-null  object \n",
      " 14  원출원번호/일자          1272 non-null   object \n",
      " 15  관련 출원번호           24612 non-null  object \n",
      " 16  기술이전 희망           140 non-null    object \n",
      " 17  심사청구여부/일자         24612 non-null  object \n",
      " 18  심사청구항수            24441 non-null  float64\n",
      " 19  (21) 출원번호/일자(국제)  2533 non-null   object \n",
      " 20  번역문제출일자           2517 non-null   object \n",
      " 21  원출원번호/일자(국제)      167 non-null    object \n",
      " 22  제목                24612 non-null  object \n",
      " 23  출원인               24612 non-null  object \n",
      " 24  피인용 횟수            24612 non-null  float64\n",
      " 25  IPC               24612 non-null  object \n",
      " 26  출원번호(일자)          24612 non-null  object \n",
      " 27  최종권리자             14207 non-null  object \n",
      " 28  요약                24612 non-null  object \n",
      "dtypes: float64(3), object(26)\n",
      "memory usage: 5.6+ MB\n"
     ]
    }
   ],
   "source": [
    "df_all_2.info()"
   ]
  },
  {
   "cell_type": "code",
   "execution_count": 32,
   "metadata": {},
   "outputs": [
    {
     "data": {
      "text/plain": [
       "0       ['G06Q40/04(2013.01)', 'G06Q20/38(2013.01)', '...\n",
       "1       ['H04L9/0825(2013.01)', 'H04L67/1044(2013.01)'...\n",
       "2       ['H04L9/085(2013.01)', 'H04L9/0825(2013.01)', ...\n",
       "3       ['G06F21/6245(2013.01)', 'G06F21/31(2013.01)',...\n",
       "4            ['G06Q40/06(2013.01)', 'G06Q40/04(2013.01)']\n",
       "                              ...                        \n",
       "7515    ['A61F13/0286(2013.01)', 'A61F13/00063(2013.01...\n",
       "7516    ['B65H35/04(2013.01)', 'B65H16/005(2013.01)', ...\n",
       "7517    ['A41D27/08(2013.01)', 'A41D1/06(2013.01)', 'A...\n",
       "7518         ['B65D81/03(2013.01)', 'B65D65/44(2013.01)']\n",
       "7519    ['B02C4/06(2013.01)', 'B02C4/286(2013.01)', 'B...\n",
       "Name: (52) CPC , Length: 24612, dtype: object"
      ]
     },
     "execution_count": 32,
     "metadata": {},
     "output_type": "execute_result"
    }
   ],
   "source": [
    "df_all_2['(52) CPC ']"
   ]
  },
  {
   "cell_type": "code",
   "execution_count": 35,
   "metadata": {},
   "outputs": [
    {
     "data": {
      "text/plain": [
       "False    24612\n",
       "Name: (52) CPC , dtype: int64"
      ]
     },
     "execution_count": 35,
     "metadata": {},
     "output_type": "execute_result"
    }
   ],
   "source": [
    "df_all_2['(52) CPC '].isnull().value_counts()"
   ]
  },
  {
   "cell_type": "code",
   "execution_count": 34,
   "metadata": {},
   "outputs": [],
   "source": [
    "lst_all = []\n",
    "lst_all_2 = []\n",
    "for idx,i in enumerate(df_all_2['(52) CPC ']):\n",
    "    lst_a = []\n",
    "    for j in i.replace('[','').replace(']','').split(\"'\"):\n",
    "        if len(j.strip()) != 1:\n",
    "            lst_a.append(j.split('(')[0])\n",
    "#                 if len(k.replace('\\n','').replace('.....','').strip()) != 0:\n",
    "#                     lst_a.append(k)\n",
    "#                 else:\n",
    "#                     lst_a.append('')\n",
    "            lst_a = [item[:4] for item in lst_a if item != '' and item != '\\n' and item != '.....']\n",
    "            \n",
    "        \n",
    "    lst_all.append(set(lst_a))\n",
    "    lst_all_2 += lst_a\n",
    "    "
   ]
  },
  {
   "cell_type": "code",
   "execution_count": 36,
   "metadata": {},
   "outputs": [
    {
     "data": {
      "text/plain": [
       "[{'G06F', 'G06Q'},\n",
       " {'G06F', 'H04L'},\n",
       " {'G06F', 'H04L'},\n",
       " {'G06F', 'H04L'},\n",
       " {'G06Q'},\n",
       " {'G06F', 'H04L'},\n",
       " {'G06Q', 'H04L', 'Y02P'},\n",
       " {'H04L'},\n",
       " {'G06Q'},\n",
       " {'G06F', 'G06T', 'G06V', 'G16H', 'H04L'},\n",
       " {'G06F', 'G06Q', 'H04L'},\n",
       " {'G06F', 'G06N', 'G06Q'},\n",
       " {'G06Q', 'H04L'},\n",
       " {'G06F', 'G06Q', 'H04L'},\n",
       " {'G06F', 'G06Q', 'H04L'},\n",
       " {'G06Q'},\n",
       " {'G06F', 'H04L'},\n",
       " {'G06Q'},\n",
       " {'G06Q', 'H04L', 'Y04S'},\n",
       " {'G06Q', 'H04L'},\n",
       " {'H04L'},\n",
       " {'G06Q', 'H04L', 'Y04S'},\n",
       " {'G06Q'},\n",
       " {'G06Q', 'H04L'},\n",
       " {'G06Q', 'H04L'},\n",
       " {'G06F', 'G16H'},\n",
       " {'G06Q'},\n",
       " {'G06Q', 'H04L'},\n",
       " {'G06Q'},\n",
       " {'G06Q', 'H04L'},\n",
       " {'G06Q', 'G06V', 'H04L'},\n",
       " {'G06F', 'G06K', 'G06N', 'G06Q', 'G06T', 'H04L'},\n",
       " {'G06Q'},\n",
       " {'G06Q', 'G06V', 'H04L'},\n",
       " {'G06F', 'G06Q', 'H04L'},\n",
       " {'G06K', 'G06Q', 'H04L'},\n",
       " {'G06Q'},\n",
       " {'H04L'},\n",
       " {'G06Q', 'H04L'},\n",
       " {'G06K', 'G06Q'},\n",
       " {'H04L'},\n",
       " {'G06Q', 'H02J', 'H04L'},\n",
       " {'G06Q', 'H02J', 'Y04S'},\n",
       " {'H04L'},\n",
       " {'G06Q'},\n",
       " {'G06F', 'G06Q', 'H04L'},\n",
       " {'G06F'},\n",
       " {'G06F', 'H04L'},\n",
       " {'G06F'},\n",
       " {'G06Q'},\n",
       " {'G05B', 'H04L'},\n",
       " {'G06Q', 'H04L'},\n",
       " {'G06F', 'G06N', 'H04L'},\n",
       " {'G06F', 'G06Q', 'H04L'},\n",
       " {'H04L', 'H04N'},\n",
       " {'G06F', 'G06Q', 'H04L'},\n",
       " {'G06F', 'H04L'},\n",
       " {'G06Q', 'H04L'},\n",
       " {'G06Q', 'H04L'},\n",
       " {'G06Q', 'H04L'},\n",
       " {'G06F', 'H04L'},\n",
       " {'G06Q'},\n",
       " {'G06Q'},\n",
       " {'G06F', 'G06Q'},\n",
       " {'G06Q', 'H04L'},\n",
       " {'G06Q'},\n",
       " {'G06Q', 'H04L'},\n",
       " {'G06Q', 'H04L'},\n",
       " {'H04L'},\n",
       " {'G06Q'},\n",
       " {'G06Q', 'H04L'},\n",
       " {'H04L'},\n",
       " {'G06F', 'H04L'},\n",
       " {'H04L'},\n",
       " {'G06Q', 'H04L'},\n",
       " {'H04L'},\n",
       " {'G06F', 'H04L'},\n",
       " {'H04L'},\n",
       " {'G06Q'},\n",
       " {'G06Q', 'H04L'},\n",
       " {'G06Q', 'H04L'},\n",
       " {'H04L'},\n",
       " {'G06F', 'H04L'},\n",
       " {'G06Q', 'G06Y'},\n",
       " {'G06Q', 'H04L'},\n",
       " {'G16H', 'H04L'},\n",
       " {'G06Q', 'H04L'},\n",
       " {'G06F', 'G06Q'},\n",
       " {'G06F', 'H04L'},\n",
       " {'G06F', 'G06Q'},\n",
       " {'G06F'},\n",
       " {'G06F', 'H04L'},\n",
       " {'G06Q', 'H04L'},\n",
       " {'G06Q', 'H04L'},\n",
       " {'G06N', 'H04L'},\n",
       " {'B64C', 'G06Q', 'G06T', 'H04L'},\n",
       " {'G06F'},\n",
       " {'G06Q', 'H04L'},\n",
       " {'G06F', 'G06Q', 'G16H', 'H04L'},\n",
       " {'G06Q'},\n",
       " {'G06Q', 'H04L'},\n",
       " {'G06F', 'H04L'},\n",
       " {'G06Q', 'H04L'},\n",
       " {'G06F', 'G06Q'},\n",
       " {'G06Q', 'H04L'},\n",
       " {'G06N', 'G08B', 'H04L', 'H04N'},\n",
       " {'G06Q'},\n",
       " {'G06Q', 'H04L'},\n",
       " {'G06Q', 'H04L'},\n",
       " {'G06Q', 'H04L'},\n",
       " {'G06F', 'H04L'},\n",
       " {'G06F', 'H04L'},\n",
       " {'G06F'},\n",
       " {'G06F', 'H04L'},\n",
       " {'G16H', 'H04L'},\n",
       " {'G06F', 'H04L'},\n",
       " {'H04L', 'H04N'},\n",
       " {'A63F'},\n",
       " {'G06F', 'G06N', 'G06Q', 'H04L'},\n",
       " {'G06Q', 'H04L'},\n",
       " {'G06K', 'G06Q'},\n",
       " {'G06F'},\n",
       " {'G06F', 'H04L'},\n",
       " {'G06F', 'G16H', 'H04L'},\n",
       " {'G06N', 'G08B', 'H04L', 'H04N'},\n",
       " {'G06Q', 'H04L'},\n",
       " {'G06F', 'H04L'},\n",
       " {'G06F', 'G06N', 'G06Q', 'H04L'},\n",
       " {'G06F', 'G06Q', 'G06T', 'H04L'},\n",
       " {'H04L'},\n",
       " {'G06Q'},\n",
       " {'G06Q', 'G08B', 'H04L', 'H04N'},\n",
       " {'G06F', 'G06Q', 'H04L'},\n",
       " {'G06F', 'G06Q', 'G16H', 'H04L'},\n",
       " {'G06Q', 'H04L'},\n",
       " {'G06Q', 'H04L'},\n",
       " {'G06Q'},\n",
       " {'G06Q'},\n",
       " {'G06Q', 'H04L'},\n",
       " {'G06Q'},\n",
       " {'H04L'},\n",
       " {'H04L'},\n",
       " {'G06N', 'G06Q', 'H04L'},\n",
       " {'G05B', 'G06Q', 'H04L'},\n",
       " {'G06F', 'G06Q'},\n",
       " {'G06F', 'H04L'},\n",
       " {'G06Q', 'H04L'},\n",
       " {'G06Q', 'H02J', 'H04L', 'Y04S'},\n",
       " {'G06Q', 'H04L'},\n",
       " {'H04L'},\n",
       " {'G06Q'},\n",
       " {'H04L'},\n",
       " {'G06Q'},\n",
       " {'B60L', 'B60Y', 'G01R', 'G06Q', 'Y02T'},\n",
       " {'A63F', 'H04L'},\n",
       " {'G06Q', 'H04L'},\n",
       " {'G06Q'},\n",
       " {'A61B', 'G06Q', 'G16H'},\n",
       " {'G06N', 'G06Q'},\n",
       " {'H04L'},\n",
       " {'G06F', 'H04L'},\n",
       " {'G08B', 'G16H', 'H04L'},\n",
       " {'G06F', 'G06Q', 'H04L'},\n",
       " {'G06F', 'G06Q', 'H04L'},\n",
       " {'H04L'},\n",
       " {'H04L'},\n",
       " {'G06Q'},\n",
       " {'H04L'},\n",
       " {'G06Q'},\n",
       " {'G06F', 'H04L'},\n",
       " {'H04L'},\n",
       " {'G06F', 'G06Q', 'H04L'},\n",
       " {'H04L'},\n",
       " {'G06Q'},\n",
       " {'H04L'},\n",
       " {'G06Q', 'H04L'},\n",
       " {'H04L'},\n",
       " {'H04L'},\n",
       " {'H04L'},\n",
       " {'G06Q', 'H04L'},\n",
       " {'G06Q'},\n",
       " {'H04L'},\n",
       " {'G06Q', 'H04L'},\n",
       " {'G06Q', 'H04L'},\n",
       " {'H04L'},\n",
       " {'G06Q'},\n",
       " {'G06F', 'H04L'},\n",
       " {'G06K', 'G06Q'},\n",
       " {'G06Q'},\n",
       " {'G06Q'},\n",
       " {'G06Q', 'H04L'},\n",
       " {'A63F', 'H04L'},\n",
       " {'G06Q', 'H04L'},\n",
       " {'G06N', 'G06Q', 'H04L'},\n",
       " {'G06Q', 'H04L'},\n",
       " {'A63F', 'H04L'},\n",
       " {'G06Q'},\n",
       " {'G06F', 'H04L'},\n",
       " {'G06Q'},\n",
       " {'G06Q', 'H02J', 'Y04S'},\n",
       " {'G06Q', 'H04L'},\n",
       " {'G06Q'},\n",
       " {'H04L'},\n",
       " {'H04L', 'H04W'},\n",
       " {'G06Q', 'H04L'},\n",
       " {'G06Q', 'H04L'},\n",
       " {'G06Q', 'H04L'},\n",
       " {'G06Q'},\n",
       " {'G06Q'},\n",
       " {'G06Q', 'G16H', 'H04L'},\n",
       " {'G06Q', 'H04L'},\n",
       " {'G06Q'},\n",
       " {'G06Q', 'H04L'},\n",
       " {'G06F', 'G06Q', 'H04L'},\n",
       " {'G06F', 'H04L'},\n",
       " {'G06Q'},\n",
       " {'G06F', 'H04L'},\n",
       " {'G06Q', 'H04L'},\n",
       " {'G06F', 'G06Q', 'H04L'},\n",
       " {'H04L'},\n",
       " {'G06Q'},\n",
       " {'G06Q'},\n",
       " {'G06Q', 'H04L'},\n",
       " {'B60L', 'G01R', 'G06Q', 'H04L'},\n",
       " {'H04L'},\n",
       " {'G06Q', 'H04L'},\n",
       " {'G06Q', 'H04L'},\n",
       " {'G06F', 'G16H', 'H04L'},\n",
       " {'G06Q', 'H04L'},\n",
       " {'G06Q', 'H04L'},\n",
       " {'G06Q', 'H04L'},\n",
       " {'G06Q'},\n",
       " {'G06N'},\n",
       " {'H04L'},\n",
       " {'A63F', 'H04L'},\n",
       " {'G06Q', 'H04L'},\n",
       " {'H04L'},\n",
       " {'G06F', 'G06Q', 'H04L'},\n",
       " {'G16Y', 'H04L'},\n",
       " {'G06Q'},\n",
       " {'G06Q'},\n",
       " {'G06F', 'G06Q', 'H04L'},\n",
       " {'G06Q', 'H04L'},\n",
       " {'G06F', 'G06Q'},\n",
       " {'G06Q'},\n",
       " {'G06Q'},\n",
       " {'B64B', 'B64C', 'B64D', 'G06Q', 'H04L', 'Y02T'},\n",
       " {'G06Q'},\n",
       " {'G06Q', 'H04L'},\n",
       " {'G06Q', 'H04L'},\n",
       " {'G06F', 'H04L'},\n",
       " {'G06Q', 'H04L'},\n",
       " {'G06Q', 'H04L'},\n",
       " {'G06Q', 'H04L'},\n",
       " {'G06Q', 'H04L'},\n",
       " {'G06Q', 'G07C', 'H04L'},\n",
       " {'G06Q'},\n",
       " {'G06F', 'H04L', 'H04N'},\n",
       " {'G06F', 'G06Q', 'H04L'},\n",
       " {'G06Q', 'G16Y', 'H02J'},\n",
       " {'G06F', 'H04L'},\n",
       " {'H04L'},\n",
       " {'G06Q'},\n",
       " {'G06Q'},\n",
       " {'G06Q', 'H04L', 'Y02E'},\n",
       " {'G06Q', 'H04L'},\n",
       " {'G06Q', 'G16H'},\n",
       " {'G06Q', 'G06V', 'H04L'},\n",
       " {'H04L', 'H04N'},\n",
       " {'G06Q', 'H04L', 'Y04S'},\n",
       " {'G06K', 'G06Q'},\n",
       " {'G06F', 'G16Y', 'H04L'},\n",
       " {'G06F', 'G06Q', 'H04L'},\n",
       " {'G06F', 'G06Q'},\n",
       " {'G06Q', 'H04L'},\n",
       " {'G06Q', 'H04L'},\n",
       " {'G06F', 'H04L'},\n",
       " {'G06F', 'G06K', 'G06Q', 'H04L'},\n",
       " {'A63F', 'G07F', 'H04L'},\n",
       " {'G06F', 'G06Q', 'H04L'},\n",
       " {'G06F', 'H04L'},\n",
       " {'G06N', 'G06Q', 'H04L'},\n",
       " {'G06F', 'H04L'},\n",
       " {'G06Q', 'H04L'},\n",
       " {'G16Y', 'H04L'},\n",
       " {'G06F', 'H04L'},\n",
       " {'G06N', 'G06Q', 'H04L'},\n",
       " {'G06F'},\n",
       " {'G06F'},\n",
       " {'G06Q'},\n",
       " {'G06Q'},\n",
       " {'G06Q', 'H04L'},\n",
       " {'G05B', 'G06Q', 'H04L'},\n",
       " {'G06Q', 'H04L'},\n",
       " {'G06Q', 'H04L'},\n",
       " {'H04L'},\n",
       " {'G06F', 'H04L'},\n",
       " {'G06F', 'G16H', 'H04L'},\n",
       " {'G06Q', 'H04L'},\n",
       " {'H04L'},\n",
       " {'G06F', 'G06Q'},\n",
       " {'G06F', 'G06Q', 'H04L'},\n",
       " {'G06Q', 'H04L'},\n",
       " {'G06Q'},\n",
       " {'G06Q'},\n",
       " {'G06Q', 'H04L'},\n",
       " {'G06Q', 'H04L'},\n",
       " {'G06Q', 'H04L'},\n",
       " {'G06Q', 'H04L'},\n",
       " {'G06F', 'H04L'},\n",
       " {'G06F', 'G06Q', 'H04L'},\n",
       " {'G06F', 'H04L'},\n",
       " {'H04L'},\n",
       " {'G06Q', 'H04W'},\n",
       " {'H04L'},\n",
       " {'A63F', 'G06Q', 'H04L'},\n",
       " {'G06Q'},\n",
       " {'G06F', 'H04L'},\n",
       " {'G06F'},\n",
       " {'H04L'},\n",
       " {'G06Q'},\n",
       " {'G06F', 'G06V', 'H04L'},\n",
       " {'G06Q'},\n",
       " {'G06Q', 'H04L'},\n",
       " {'G06F', 'G06Q', 'H04L'},\n",
       " {'G06F'},\n",
       " {'G06Q', 'H04W'},\n",
       " {'G06Q', 'H04L'},\n",
       " {'G06Q'},\n",
       " {'G06F', 'G06Q', 'H04L'},\n",
       " {'G06F', 'G06Q', 'H04L'},\n",
       " {'G06Q'},\n",
       " {'G06Q'},\n",
       " {'H04L'},\n",
       " {'G06Q'},\n",
       " {'G06F', 'G06Q', 'H04L'},\n",
       " {'G06Q'},\n",
       " {'G06F', 'H04L'},\n",
       " {'H04L', 'H04N'},\n",
       " {'G06Q'},\n",
       " {'G06Q'},\n",
       " {'G06Q', 'H04L'},\n",
       " {'G06Q'},\n",
       " {'G06Q'},\n",
       " {'G06Q', 'H04L'},\n",
       " {'H04L'},\n",
       " {'G06Q', 'H04L'},\n",
       " {'G06F', 'H04L'},\n",
       " {'G06Q', 'H04L'},\n",
       " {'G06Q', 'H04L'},\n",
       " {'G06Q', 'H04L'},\n",
       " {'G06K', 'G06Q'},\n",
       " {'G06Q', 'H04L'},\n",
       " {'H04L'},\n",
       " {'G06Q', 'H04L'},\n",
       " {'H04L'},\n",
       " {'G06Q', 'G08B'},\n",
       " {'G06Q', 'H04L'},\n",
       " {'G06Q'},\n",
       " {'A61B', 'G16H', 'H04L'},\n",
       " {'G06Q', 'H04L'},\n",
       " {'E05F', 'G07C', 'H04L'},\n",
       " {'G06F', 'H04L'},\n",
       " {'G06F', 'G06Q', 'H04L'},\n",
       " {'H04L'},\n",
       " {'G06Q', 'H04L'},\n",
       " {'G06Q', 'H04L'},\n",
       " {'G06F', 'H04L'},\n",
       " {'G06Q'},\n",
       " {'G06Q', 'H04L'},\n",
       " {'G06F', 'H04L'},\n",
       " {'G06Q'},\n",
       " {'G06F', 'H04L'},\n",
       " {'G06Q', 'G06T'},\n",
       " {'G06F', 'G06Q', 'H04L'},\n",
       " {'G06Q', 'H04L'},\n",
       " {'G06Q'},\n",
       " {'G06Q', 'H04L'},\n",
       " {'G06Q', 'H04L'},\n",
       " {'G06Q', 'H04L'},\n",
       " {'G06Q', 'H04L', 'Y04S'},\n",
       " {'G06Q'},\n",
       " {'G06Q', 'G06T', 'G06V', 'H04L'},\n",
       " {'H04L'},\n",
       " {'G06Q'},\n",
       " {'G06Q'},\n",
       " {'G06Q', 'H04L'},\n",
       " {'A63B', 'G16H'},\n",
       " {'G06Q', 'H04L'},\n",
       " {'G06Q', 'H04L'},\n",
       " {'G06Q'},\n",
       " {'G06Q', 'H04L'},\n",
       " {'G06F', 'H04L'},\n",
       " {'G06Q', 'G07C', 'H04L'},\n",
       " {'A63B', 'G16H'},\n",
       " {'G06K', 'G06N', 'G06Q', 'H04L'},\n",
       " {'G06Q'},\n",
       " {'G06Q'},\n",
       " {'H04L'},\n",
       " {'G06Q', 'H04L'},\n",
       " {'G06Q', 'H04L'},\n",
       " {'G06Q'},\n",
       " {'G06F', 'G16H', 'H04L'},\n",
       " {'H04L', 'H04N'},\n",
       " {'G06F', 'H04L'},\n",
       " {'G06F', 'G06Q', 'G06T'},\n",
       " {'G06Q', 'H04L'},\n",
       " {'G06Q'},\n",
       " {'G06Q', 'H04L'},\n",
       " {'G06Q', 'H04L', 'Y04S'},\n",
       " {'G06Q'},\n",
       " {'G06Q', 'H04L'},\n",
       " {'G06Q', 'H04L'},\n",
       " {'G06Q'},\n",
       " {'G16H', 'H04L'},\n",
       " {'G06F', 'H04L'},\n",
       " {'G06Q'},\n",
       " {'G06Q', 'H04L'},\n",
       " {'G06F', 'G06Q', 'H04L', 'H04N'},\n",
       " {'G06Q'},\n",
       " {'G06Q', 'H04L'},\n",
       " {'G06F', 'H04L'},\n",
       " {'G06Q'},\n",
       " {'G06Q', 'H04L', 'H04W'},\n",
       " {'G06Q'},\n",
       " {'G06F', 'G16H'},\n",
       " {'G06F', 'G06Q', 'H04L'},\n",
       " {'G06Q', 'H04L'},\n",
       " {'G06Q', 'H04L'},\n",
       " {'G06F', 'H04L'},\n",
       " {'G06F', 'H04L'},\n",
       " {'G06F', 'H04L'},\n",
       " {'G16H', 'H04L'},\n",
       " {'G06Q'},\n",
       " {'G06Q'},\n",
       " {'H04L'},\n",
       " {'G06K', 'G06Q', 'H04L'},\n",
       " {'H04L'},\n",
       " {'G06Q', 'H04L'},\n",
       " {'G06Q'},\n",
       " {'H04L'},\n",
       " {'G06F', 'G06Q', 'H04L'},\n",
       " {'G06Q', 'H04L'},\n",
       " {'G06Q', 'H04L'},\n",
       " {'G06N', 'G06Q', 'H04L'},\n",
       " {'G06Q'},\n",
       " {'G01R', 'G06Q', 'H02J', 'H04L', 'Y04S'},\n",
       " {'G06F', 'G06Q', 'H04L'},\n",
       " {'H04L'},\n",
       " {'H04L'},\n",
       " {'G06Q'},\n",
       " {'H04L'},\n",
       " {'G06Q'},\n",
       " {'G06F', 'H04L'},\n",
       " {'G06Q', 'G06V', 'H02S', 'H04L'},\n",
       " {'G06F', 'H04L'},\n",
       " {'G06N', 'G06Q', 'H04L'},\n",
       " {'G06N', 'G06Q', 'H04L'},\n",
       " {'G08C', 'H04L'},\n",
       " {'H04L'},\n",
       " {'G06Q', 'G08B', 'H04L'},\n",
       " {'G06N', 'G06Q', 'H04L'},\n",
       " {'G06Q', 'H04L'},\n",
       " {'G06Q', 'H04L'},\n",
       " {'G06Q', 'H04L'},\n",
       " {'G06Q', 'H04L'},\n",
       " {'G06Q', 'H04L'},\n",
       " {'H04L'},\n",
       " {'G06Q', 'H04L'},\n",
       " {'G06Q', 'H04L'},\n",
       " {'G16Y', 'H04L'},\n",
       " {'H04L'},\n",
       " {'H04L'},\n",
       " {'G06Q'},\n",
       " {'G06Q'},\n",
       " {'G06Q'},\n",
       " {'G06Q'},\n",
       " {'G06F', 'H04L'},\n",
       " {'G06F', 'H04L'},\n",
       " {'G06Q', 'H04L'},\n",
       " {'G06F', 'H04L'},\n",
       " {'G06F', 'H04L'},\n",
       " {'G08B', 'G16H', 'H04L'},\n",
       " {'G06Q', 'H04L'},\n",
       " {'G06F', 'G06Q'},\n",
       " {'G06Q', 'H04L'},\n",
       " {'H04L'},\n",
       " {'H04L'},\n",
       " {'G06Q'},\n",
       " {'G06F', 'G06Q', 'H04L'},\n",
       " {'G06Q', 'H04L'},\n",
       " {'G06Q', 'H04L'},\n",
       " {'G06Q', 'H04L'},\n",
       " {'G06Q', 'H04L'},\n",
       " {'G08B', 'G16H', 'H04L', 'H04W'},\n",
       " {'G06N', 'G06Q'},\n",
       " {'G06Q', 'H04L'},\n",
       " {'G06Q'},\n",
       " {'H04L'},\n",
       " {'G06F', 'H04L'},\n",
       " {'G06N', 'G06Q'},\n",
       " {'G06F', 'G06Q', 'H04L'},\n",
       " {'G06Q', 'H04L'},\n",
       " {'G06F', 'H04L'},\n",
       " {'G06F', 'H04L'},\n",
       " {'G06Q', 'H04L'},\n",
       " {'G06F', 'G07C', 'H04L', 'H04M'},\n",
       " {'G06N', 'G06Q'},\n",
       " {'G06Q'},\n",
       " {'G06Q'},\n",
       " {'G06N', 'G06T', 'H04L', 'H04N'},\n",
       " {'G06Q'},\n",
       " {'G06Q'},\n",
       " {'G06Q'},\n",
       " {'G16H', 'H04L'},\n",
       " {'G06F', 'G06Q', 'H04L'},\n",
       " {'G06F', 'G06N', 'H04L'},\n",
       " {'G06Q', 'H04L'},\n",
       " {'G06Q'},\n",
       " {'H04L'},\n",
       " {'G06F', 'H04L'},\n",
       " {'G06Q'},\n",
       " {'G06N', 'G06Q'},\n",
       " {'H04L'},\n",
       " {'G06Q', 'H04N'},\n",
       " {'G06F', 'G06Q', 'G06T', 'H04L'},\n",
       " {'G06F'},\n",
       " {'G06F', 'G06Q', 'H04L'},\n",
       " {'G06Q', 'H04L'},\n",
       " {'G06Q', 'H04L'},\n",
       " {'G06Q'},\n",
       " {'G06F', 'H04L'},\n",
       " {'G06F', 'G06Q', 'H04L'},\n",
       " {'G06Q'},\n",
       " {'G06F', 'G06K', 'G06Q'},\n",
       " {'G06F'},\n",
       " {'G06T', 'H04L'},\n",
       " {'G06Q', 'H04L'},\n",
       " {'G06Q', 'H04L'},\n",
       " {'G06F', 'H04L'},\n",
       " {'G06Q'},\n",
       " {'G06F', 'H04L'},\n",
       " {'G06F', 'G06Q', 'H04L', 'H04Q'},\n",
       " {'G06Q'},\n",
       " {'G06Q', 'H02J'},\n",
       " {'G06Q', 'G06V', 'H02S', 'H04L'},\n",
       " {'B01D', 'F24F', 'G01N', 'G06Q', 'G08B', 'G16Y', 'H04L'},\n",
       " {'G06Q', 'H04L'},\n",
       " {'H04L'},\n",
       " {'H04L'},\n",
       " {'G06Q', 'H04L'},\n",
       " {'G06Q', 'H04L'},\n",
       " {'G06Q'},\n",
       " {'G06F', 'G06Q'},\n",
       " {'H04L'},\n",
       " {'G06Q'},\n",
       " {'G06Q', 'H04L'},\n",
       " {'G06Q', 'H04L'},\n",
       " {'G06Q'},\n",
       " {'G06Q'},\n",
       " {'G06F', 'H04L'},\n",
       " {'G06F', 'H04L'},\n",
       " {'G06Q', 'G16H', 'H04L'},\n",
       " {'G06Q'},\n",
       " {'G06F', 'H04L'},\n",
       " {'G06Q'},\n",
       " {'H04L'},\n",
       " {'H04L'},\n",
       " {'H04L'},\n",
       " {'G06F', 'G06Q', 'H04L'},\n",
       " {'G06Q', 'H04L'},\n",
       " {'G06N', 'G06Q', 'H04L', 'Y04S'},\n",
       " {'G06Q', 'H04L'},\n",
       " {'H04L'},\n",
       " {'H04L'},\n",
       " {'H04L'},\n",
       " {'G06Q'},\n",
       " {'A63F', 'H04L'},\n",
       " {'G06Q', 'H04L'},\n",
       " {'G06Q', 'H04L'},\n",
       " {'G06Q', 'G16H'},\n",
       " {'G06Q', 'H04L'},\n",
       " {'B60L', 'G06Q', 'H04L'},\n",
       " {'G06Q', 'H04L'},\n",
       " {'G06F', 'H04L'},\n",
       " {'G06Q', 'H04L'},\n",
       " {'H04L', 'H04W'},\n",
       " {'G06Q', 'H04L'},\n",
       " {'G06Q', 'Y04S'},\n",
       " {'G06Q', 'H04L'},\n",
       " {'G06Q', 'H04L'},\n",
       " {'G06F', 'H04L'},\n",
       " {'G06Q', 'H04L'},\n",
       " {'H04L'},\n",
       " {'G16H', 'H04L'},\n",
       " {'G07C'},\n",
       " {'G06Q', 'H04L'},\n",
       " {'G06Q', 'G08B'},\n",
       " {'G06Q', 'H04L'},\n",
       " {'H04L'},\n",
       " {'G06Q', 'H04L'},\n",
       " {'H04L'},\n",
       " {'H04L'},\n",
       " {'G06Q', 'H04L'},\n",
       " {'G06F', 'H04L'},\n",
       " {'G06F', 'H04L'},\n",
       " {'G06Q', 'H04L'},\n",
       " {'H04L'},\n",
       " {'G06Q', 'H04L'},\n",
       " {'H04L'},\n",
       " {'G06Q', 'H04L'},\n",
       " {'H04L'},\n",
       " {'G16H', 'H04L'},\n",
       " {'G06F', 'G06Q', 'H04L'},\n",
       " {'G06N', 'G06Q', 'H04L'},\n",
       " {'G06F', 'H04L'},\n",
       " {'H04L'},\n",
       " {'G06F', 'H04L'},\n",
       " {'G06Q'},\n",
       " {'G06F', 'G06Q'},\n",
       " {'G06Q'},\n",
       " {'G06F', 'G06Q'},\n",
       " {'G06F', 'G06Q'},\n",
       " {'G06Q', 'H04L'},\n",
       " {'G06Q'},\n",
       " {'G06F', 'G06Q'},\n",
       " {'H04L'},\n",
       " {'G16H', 'H04L'},\n",
       " {'G06Q'},\n",
       " {'H04L', 'H04N'},\n",
       " {'G06F', 'H04L'},\n",
       " {'H04L'},\n",
       " {'G06Q', 'H04L'},\n",
       " {'H04L'},\n",
       " {'G01S', 'G06F', 'G06V', 'H04L'},\n",
       " {'H04L'},\n",
       " {'H04L'},\n",
       " {'G06Q', 'H04L'},\n",
       " {'G06F', 'G06Q', 'H04L'},\n",
       " {'G06Q', 'H04L'},\n",
       " {'G06Q'},\n",
       " {'H04L'},\n",
       " {'B60L', 'B60Y', 'Y02T'},\n",
       " {'H04L'},\n",
       " {'G06Q', 'G06T', 'H04L'},\n",
       " {'H04L'},\n",
       " {'H04L'},\n",
       " {'G06F', 'H04L'},\n",
       " {'H04L'},\n",
       " {'H04L'},\n",
       " {'H04L'},\n",
       " {'H04L'},\n",
       " {'G06Q', 'G07C', 'H04L'},\n",
       " {'G06Q', 'H04L'},\n",
       " {'H04L'},\n",
       " {'H04L'},\n",
       " {'H04L'},\n",
       " {'G06F'},\n",
       " {'G06Q'},\n",
       " {'G06F', 'G06Q'},\n",
       " {'H04L'},\n",
       " {'G06Q', 'H02J', 'H04L', 'Y04S'},\n",
       " {'G06Q'},\n",
       " {'H04L'},\n",
       " {'G06Q'},\n",
       " {'H04L'},\n",
       " {'H04L'},\n",
       " {'G06F', 'G06Q', 'H04L'},\n",
       " {'G06F', 'G10L', 'H04L'},\n",
       " {'H04L'},\n",
       " {'H04L'},\n",
       " {'G06F', 'H04L'},\n",
       " {'G06Q'},\n",
       " {'G06F', 'H04L'},\n",
       " {'G06K', 'G06Q'},\n",
       " {'G06F', 'G06Q'},\n",
       " {'G06Q', 'G16H'},\n",
       " {'G06Q'},\n",
       " {'G06Q'},\n",
       " {'G06Q', 'H04L'},\n",
       " {'H04L'},\n",
       " {'G06Q', 'H04L'},\n",
       " {'G06F', 'G06N', 'G06Q', 'H04L'},\n",
       " {'G06Q'},\n",
       " {'G06Q', 'H04L'},\n",
       " {'G06F', 'H04L'},\n",
       " {'G06Q'},\n",
       " {'G06Q', 'H04W'},\n",
       " {'H04L'},\n",
       " {'H04L'},\n",
       " {'G06Q'},\n",
       " {'G06F', 'H04L'},\n",
       " {'G06F', 'G06N', 'G06Q'},\n",
       " {'G06F', 'G06Q'},\n",
       " {'G06N', 'G06Q', 'Y04S'},\n",
       " {'G06Q'},\n",
       " {'H04L'},\n",
       " {'G06F', 'H04L'},\n",
       " {'G06N', 'G06Q'},\n",
       " {'G06F', 'H04L'},\n",
       " {'G06Q'},\n",
       " {'G06Q'},\n",
       " {'G06F', 'G06Q', 'G09B'},\n",
       " {'G06Q'},\n",
       " {'G06Q', 'G07C', 'H04L'},\n",
       " {'G06Q'},\n",
       " {'G06Q', 'H04L'},\n",
       " {'G06Q', 'H04L'},\n",
       " {'G06F', 'G06K', 'G06N', 'G06Q', 'H04L'},\n",
       " {'G06Q', 'H04L'},\n",
       " {'G06Q', 'H04L'},\n",
       " {'G06F', 'H04L'},\n",
       " {'G06Q'},\n",
       " {'G06Q'},\n",
       " {'G06Q'},\n",
       " {'G06F', 'G06K', 'G06Q', 'H04L'},\n",
       " {'H04L'},\n",
       " {'G06Q', 'H04L'},\n",
       " {'G06F', 'H04L'},\n",
       " {'G06Q', 'G16H'},\n",
       " {'H04L', 'H04W'},\n",
       " {'G06F', 'H04L'},\n",
       " {'G06F', 'G06Q', 'H04L'},\n",
       " {'H04L', 'H04M', 'H04W'},\n",
       " {'G06F', 'H04L'},\n",
       " {'G06Q'},\n",
       " {'H04L', 'H04W'},\n",
       " {'H04L'},\n",
       " {'G06F', 'H04L'},\n",
       " {'G06Q', 'H04L'},\n",
       " {'G06F', 'H04L'},\n",
       " {'G06Q', 'G16H', 'H04L'},\n",
       " {'H04L'},\n",
       " {'G06F', 'H04L'},\n",
       " {'G06Q'},\n",
       " {'G08G', 'H04L'},\n",
       " {'G06Q', 'H04L'},\n",
       " {'G06F', 'G06N', 'G06Q', 'H04L'},\n",
       " {'G06Q', 'G16H', 'H04L'},\n",
       " {'G06Q', 'H04L'},\n",
       " {'G06Q'},\n",
       " {'G06Q'},\n",
       " {'G06Q'},\n",
       " {'G06Q'},\n",
       " {'G06F', 'H04L', 'H04N'},\n",
       " {'G06Q'},\n",
       " {'G06Q', 'H04L'},\n",
       " {'G06Q'},\n",
       " {'G06Q', 'H04L'},\n",
       " {'H04L'},\n",
       " {'G06K', 'G06Q'},\n",
       " {'A61B', 'G06K', 'G06Q', 'G16H', 'H04L', 'H04W'},\n",
       " {'H04L'},\n",
       " {'G06Q', 'H04L'},\n",
       " {'F03G', 'G06Q', 'H04L'},\n",
       " {'G06Q', 'H04L'},\n",
       " {'G06Q'},\n",
       " {'G06N', 'G06Q'},\n",
       " {'G06Q', 'H04L'},\n",
       " {'G06Q', 'H04L'},\n",
       " {'H04L'},\n",
       " {'G16H', 'H04L'},\n",
       " {'G06Q'},\n",
       " {'G06Q'},\n",
       " {'G06F', 'G06N', 'G06Q', 'H04L'},\n",
       " {'H04L', 'H04W'},\n",
       " {'H04L'},\n",
       " {'G06Q', 'H04L'},\n",
       " {'G06N', 'G06Q', 'H04L', 'Y04S'},\n",
       " {'G06Q', 'H04L', 'Y04S'},\n",
       " {'G06K', 'G06Q'},\n",
       " {'G06F', 'G06Q', 'H04L'},\n",
       " {'G06Q'},\n",
       " {'G06F', 'G06Q', 'H04L'},\n",
       " {'G06Q'},\n",
       " {'G06F', 'G06Q', 'H04L'},\n",
       " {'G06Q'},\n",
       " {'G06Q'},\n",
       " {'G06Q', 'G06T', 'G06V', 'H04L'},\n",
       " {'G06F', 'G16H', 'H04L'},\n",
       " {'G06Q', 'H04L'},\n",
       " {'G06Q', 'H04L'},\n",
       " {'G06Q'},\n",
       " {'G06F', 'G06N', 'G06Q', 'H04L'},\n",
       " {'G06F', 'G06N', 'G06Q', 'H04L'},\n",
       " {'G06Q', 'H04L'},\n",
       " {'G01B', 'G01C', 'G01D', 'G06F', 'G06Q', 'G08B', 'G08C', 'H04L', 'H04M'},\n",
       " {'B60L', 'B60Y', 'G06Q', 'H04L', 'Y02T'},\n",
       " {'G06Q', 'Y04S'},\n",
       " {'G06K', 'G06Q', 'H04L'},\n",
       " {'G06F', 'G06Q', 'H04L'},\n",
       " {'G06Q', 'H04L'},\n",
       " {'G06Q', 'H04L'},\n",
       " {'G06Q', 'H04L'},\n",
       " {'G06Q', 'H04L'},\n",
       " {'G06Q', 'H04L'},\n",
       " {'G06F', 'G06N', 'G06Q', 'H04L'},\n",
       " {'G06Q', 'G07C', 'H04L'},\n",
       " {'G06Q', 'H04L'},\n",
       " {'G06F', 'G06Q', 'H04L'},\n",
       " {'G06F', 'G06Q', 'H04L'},\n",
       " {'G06Q', 'H04L'},\n",
       " {'G06F', 'G06Q', 'H04L'},\n",
       " {'G06F', 'G06Q', 'H04L'},\n",
       " {'G06Q', 'G07C', 'H04L'},\n",
       " {'G06Q', 'H04L'},\n",
       " {'G06Q', 'G07C'},\n",
       " {'G06Q', 'G07C'},\n",
       " {'G06Q', 'H04L'},\n",
       " {'G06Q', 'H04L'},\n",
       " {'G06F', 'G06Q'},\n",
       " {'G06Q', 'H04L', 'H04W'},\n",
       " {'G06Q'},\n",
       " {'G06Q'},\n",
       " {'G06Q'},\n",
       " {'G06Q', 'G07C'},\n",
       " {'G01N', 'G06Q', 'H04L'},\n",
       " {'G06Q', 'G07C', 'H04L'},\n",
       " {'G06N', 'G06Q'},\n",
       " {'G06Q', 'H04L'},\n",
       " {'G06Q'},\n",
       " {'G06Q', 'G07C'},\n",
       " {'G06F', 'G06Q', 'H04L'},\n",
       " {'G06Q', 'G16H', 'H04L'},\n",
       " {'B63B', 'G06F', 'G06Q', 'H04L'},\n",
       " {'G06Q', 'H04L'},\n",
       " {'G06Q'},\n",
       " {'G06Q', 'H04L', 'H04W'},\n",
       " {'G06Q', 'H04L'},\n",
       " {'G06Q', 'H04L'},\n",
       " {'G06F', 'G06Q'},\n",
       " {'G01N', 'G06Q', 'H04L'},\n",
       " {'G06N', 'G06Q', 'G09B'},\n",
       " {'B63J', 'G06F', 'G06Q', 'H04L'},\n",
       " {'G06F', 'G06Q'},\n",
       " {'G06Q'},\n",
       " {'G06Q', 'H04L'},\n",
       " {'G06Q', 'H04L'},\n",
       " {'G06F', 'G06Q', 'H04L'},\n",
       " {'G06Q', 'H04L'},\n",
       " {'G06Q', 'H04L'},\n",
       " {'G06Q'},\n",
       " {'G06Q', 'G16B', 'H04L'},\n",
       " {'G06F', 'G06Q'},\n",
       " {'G06Q', 'G08G'},\n",
       " {'G06N', 'G06Q'},\n",
       " {'G06Q'},\n",
       " {'B60K', 'B60W', 'G06Q'},\n",
       " {'G06Q', 'H04L', 'H05B'},\n",
       " {'G01N', 'G06Q', 'G08B', 'H04L'},\n",
       " {'G06Q', 'G06V', 'G08G'},\n",
       " {'G06Q', 'G07C'},\n",
       " {'G06Q', 'H04L'},\n",
       " {'G06Q', 'H04L'},\n",
       " {'G06Q'},\n",
       " {'G06Q', 'H04L'},\n",
       " {'G06Q', 'H04L'},\n",
       " {'G06N', 'G06Q', 'H04L'},\n",
       " {'G06F', 'G06Q', 'H04L'},\n",
       " {'G06Q'},\n",
       " {'G06F', 'G06Q', 'H04L'},\n",
       " {'G06Q'},\n",
       " {'G06Q', 'H04L'},\n",
       " {'G06F', 'H04L'},\n",
       " {'G06Q', 'H04L'},\n",
       " {'G06Q'},\n",
       " {'G06F', 'G06N', 'G06Q', 'H04L'},\n",
       " {'G06Q', 'H04L'},\n",
       " {'G16B', 'H04L'},\n",
       " {'G06F'},\n",
       " {'G06Q', 'H04L'},\n",
       " {'G06F', 'G06N', 'G06Q', 'H04L'},\n",
       " {'G06F', 'G06N', 'G06Q', 'H04L'},\n",
       " {'G06Q'},\n",
       " {'G16Y', 'H04L'},\n",
       " {'G06F'},\n",
       " {'G06F', 'H04L'},\n",
       " {'G06F', 'H04L'},\n",
       " {'G06F', 'G06N', 'G06Q', 'H04L'},\n",
       " {'G06F', 'G06N', 'G06Q', 'H04L'},\n",
       " {'G06F', 'G06N', 'G06Q', 'H04L'},\n",
       " {'G06F', 'H04L'},\n",
       " {'G06Q', 'H04L'},\n",
       " {'G06K', 'G06Q'},\n",
       " {'G06Q'},\n",
       " {'G06F', 'G06N', 'G06Q', 'H04L'},\n",
       " {'G06Q', 'H04L'},\n",
       " {'G06Q', 'H04L'},\n",
       " {'G06Q'},\n",
       " {'G06F', 'G06N', 'G06Q', 'H04L'},\n",
       " {'G06Q', 'H04L'},\n",
       " {'G06Q'},\n",
       " {'G06F'},\n",
       " {'G06F', 'H04L'},\n",
       " {'G06Q'},\n",
       " {'G06F', 'H04L'},\n",
       " {'G06Q'},\n",
       " {'G06F', 'H04L'},\n",
       " {'G06N', 'G06Q'},\n",
       " {'G06Q'},\n",
       " {'G06Q'},\n",
       " {'G06Q'},\n",
       " {'G06F', 'H04L'},\n",
       " {'G06Q', 'H04L'},\n",
       " {'G06Q'},\n",
       " {'G06Q'},\n",
       " {'G06F', 'G06Q', 'H04L'},\n",
       " {'H04L'},\n",
       " {'G06F', 'H04L'},\n",
       " {'H04L'},\n",
       " {'H04L'},\n",
       " {'G06Q'},\n",
       " {'H04L'},\n",
       " {'G06F', 'H04L'},\n",
       " {'G06Q'},\n",
       " {'G06Q'},\n",
       " {'H04L', 'H04N'},\n",
       " {'G06Q'},\n",
       " {'G06Q'},\n",
       " {'G06Q'},\n",
       " {'G06K', 'G06Q', 'G16H'},\n",
       " {'H04W'},\n",
       " {'G06Q', 'H04L'},\n",
       " {'G06Q'},\n",
       " {'G06F', 'G06Q'},\n",
       " {'G06Q', 'H04L'},\n",
       " {'G06Q', 'H04L'},\n",
       " {'H04L'},\n",
       " {'G06F', 'G06Q', 'H04L'},\n",
       " {'G06Q'},\n",
       " {'G06Q', 'H04L'},\n",
       " {'G06Q', 'H04L'},\n",
       " {'G06F', 'G06Q'},\n",
       " {'G06Q', 'H04L'},\n",
       " {'G06F', 'H04L'},\n",
       " {'G06Q'},\n",
       " {'G06F', 'G06Q', 'H04L'},\n",
       " {'G06Q'},\n",
       " {'G06Q'},\n",
       " {'G06Q', 'H04L'},\n",
       " {'G06Q'},\n",
       " {'G06Q'},\n",
       " {'G06Q', 'H04L'},\n",
       " {'G06Q', 'H04W'},\n",
       " {'H04L'},\n",
       " {'G06Q'},\n",
       " {'A63F', 'H04L'},\n",
       " {'G06Q'},\n",
       " {'G06Q'},\n",
       " {'G06Q'},\n",
       " {'G06Q', 'H04L'},\n",
       " {'G06Q'},\n",
       " {'A63F', 'H04L'},\n",
       " {'G06Q'},\n",
       " {'G06Q', 'H04L'},\n",
       " {'G06Q', 'H04L'},\n",
       " {'G06Q'},\n",
       " {'G06Q', 'H04L'},\n",
       " {'H04L'},\n",
       " {'G06Q'},\n",
       " {'H04L'},\n",
       " {'G06Q', 'H04L'},\n",
       " {'G06Q'},\n",
       " {'G06Q'},\n",
       " {'G06Q'},\n",
       " {'G06Q'},\n",
       " {'G06Q'},\n",
       " {'G06Q', 'H04W'},\n",
       " {'G06F', 'H04L'},\n",
       " {'G06F', 'H04L'},\n",
       " {'G06F', 'G06N', 'G06Q', 'H04L'},\n",
       " {'G06Q', 'H04L'},\n",
       " {'G06Q'},\n",
       " {'G06Q', 'H04L'},\n",
       " {'G06Q'},\n",
       " {'G06Q'},\n",
       " {'H04L'},\n",
       " {'G06Q'},\n",
       " {'G06Q', 'H04L'},\n",
       " {'G06Q'},\n",
       " {'G06Q', 'H04L'},\n",
       " {'H04L'},\n",
       " {'G06Q'},\n",
       " {'G06Q'},\n",
       " {'A63F', 'H04L'},\n",
       " {'G06Q'},\n",
       " {'G06F', 'H04L'},\n",
       " {'G06Q'},\n",
       " {'H04L'},\n",
       " {'G06F', 'H04L'},\n",
       " {'H04L'},\n",
       " {'G06Q', 'H04L'},\n",
       " {'G06Q'},\n",
       " {'H04L'},\n",
       " {'G06Q', 'H04L'},\n",
       " {'G06Q'},\n",
       " {'G06Q', 'H04L'},\n",
       " {'H04L'},\n",
       " {'H04L'},\n",
       " {'H04L'},\n",
       " ...]"
      ]
     },
     "execution_count": 36,
     "metadata": {},
     "output_type": "execute_result"
    }
   ],
   "source": [
    "lst_all"
   ]
  },
  {
   "cell_type": "code",
   "execution_count": 37,
   "metadata": {},
   "outputs": [],
   "source": [
    "df_all_2['IPC_remake'] = lst_all"
   ]
  },
  {
   "cell_type": "code",
   "execution_count": 38,
   "metadata": {},
   "outputs": [
    {
     "data": {
      "text/plain": [
       "IPC_remake\n",
       "False         24612\n",
       "dtype: int64"
      ]
     },
     "execution_count": 38,
     "metadata": {},
     "output_type": "execute_result"
    }
   ],
   "source": [
    "df_all_2[['IPC_remake']].isnull().value_counts()"
   ]
  },
  {
   "cell_type": "code",
   "execution_count": 39,
   "metadata": {},
   "outputs": [
    {
     "name": "stdout",
     "output_type": "stream",
     "text": [
      "12\n"
     ]
    }
   ],
   "source": [
    "fe = 0\n",
    "for i in lst_all:\n",
    "    fe = max(fe, len(i))\n",
    "    \n",
    "print(fe)"
   ]
  },
  {
   "cell_type": "code",
   "execution_count": 47,
   "metadata": {},
   "outputs": [],
   "source": [
    "df_all_2_small = df_all_2[['IPC_remake','요약']].copy()"
   ]
  },
  {
   "cell_type": "code",
   "execution_count": 48,
   "metadata": {},
   "outputs": [
    {
     "data": {
      "text/plain": [
       "IPC_remake  요약   \n",
       "False       False    24612\n",
       "dtype: int64"
      ]
     },
     "execution_count": 48,
     "metadata": {},
     "output_type": "execute_result"
    }
   ],
   "source": [
    "df_all_2_small.isnull().value_counts()"
   ]
  },
  {
   "cell_type": "code",
   "execution_count": 116,
   "metadata": {},
   "outputs": [
    {
     "data": {
      "text/plain": [
       "0"
      ]
     },
     "execution_count": 116,
     "metadata": {},
     "output_type": "execute_result"
    }
   ],
   "source": [
    "dict_all = {'a':'', 'b':'','c':'','d':''}\n",
    "''.join(list(dict_all.values()))\n",
    "len(''.join(list(dict_all.values())))"
   ]
  },
  {
   "cell_type": "code",
   "execution_count": 119,
   "metadata": {},
   "outputs": [
    {
     "name": "stderr",
     "output_type": "stream",
     "text": [
      "100%|██████████████████████████████████████████████████████████████████████████| 24612/24612 [00:10<00:00, 2253.96it/s]\n"
     ]
    }
   ],
   "source": [
    "import tqdm\n",
    "\n",
    "lst_a = []\n",
    "\n",
    "df_all_2_small['same_patent'] = 0\n",
    "\n",
    "for idx,i in zip(tqdm.tqdm(df_all_2_small.index) ,df_all_2_small['IPC_remake']):\n",
    "    \n",
    "    dict_all = {'a':'', 'b':'','c':'','d':''}\n",
    "\n",
    "    if ('G06Q' in i):\n",
    "        dict_all['a'] = 'A'\n",
    "    if ('G06N' in i):\n",
    "        dict_all['b']= 'B'\n",
    "    if ('H04L' in i):\n",
    "        dict_all['c'] = 'C'\n",
    "\n",
    "    if len(''.join(list(dict_all.values()))) == 0:\n",
    "        dict_all['d'] = 'E'\n",
    "        \n",
    "    \n",
    "    \n",
    "\n",
    "    df_all_2_small.loc[idx,'same_patent'] = dict_all['a'] + dict_all['b'] + dict_all['c'] + dict_all['d']"
   ]
  },
  {
   "cell_type": "code",
   "execution_count": 121,
   "metadata": {},
   "outputs": [
    {
     "data": {
      "text/plain": [
       "E      18194\n",
       "A       5224\n",
       "B        385\n",
       "AC       332\n",
       "AB       243\n",
       "C        180\n",
       "ABC       28\n",
       "BC        26\n",
       "Name: same_patent, dtype: int64"
      ]
     },
     "execution_count": 121,
     "metadata": {},
     "output_type": "execute_result"
    }
   ],
   "source": [
    "df_all_2_small['same_patent'].value_counts()"
   ]
  },
  {
   "cell_type": "code",
   "execution_count": 122,
   "metadata": {},
   "outputs": [],
   "source": [
    "df_all_2['same_patent'] = df_all_2_small['same_patent'].copy()"
   ]
  },
  {
   "cell_type": "code",
   "execution_count": 123,
   "metadata": {},
   "outputs": [],
   "source": [
    "# df_block_2.to_csv('블록체인_same_patent.csv',encoding = 'utf-8-sig')"
   ]
  },
  {
   "cell_type": "markdown",
   "metadata": {},
   "source": [
    "# LDA"
   ]
  },
  {
   "cell_type": "code",
   "execution_count": 124,
   "metadata": {},
   "outputs": [],
   "source": [
    "df_A = df_all_2[['same_patent','요약']]"
   ]
  },
  {
   "cell_type": "code",
   "execution_count": 125,
   "metadata": {},
   "outputs": [],
   "source": [
    "tokenizer = Tokenizer(vocab_path=direct + \"korpat_vocab.txt\", cased=True)"
   ]
  },
  {
   "cell_type": "code",
   "execution_count": 126,
   "metadata": {},
   "outputs": [],
   "source": [
    "df_A['same_patent'] = [i if len(i) != 0 else 'D' for i in df_A['same_patent'] ]"
   ]
  },
  {
   "cell_type": "code",
   "execution_count": 127,
   "metadata": {},
   "outputs": [
    {
     "data": {
      "text/plain": [
       "same_patent    0\n",
       "요약             0\n",
       "dtype: int64"
      ]
     },
     "execution_count": 127,
     "metadata": {},
     "output_type": "execute_result"
    }
   ],
   "source": [
    "df_A.isnull().sum()"
   ]
  },
  {
   "cell_type": "code",
   "execution_count": 128,
   "metadata": {},
   "outputs": [],
   "source": [
    "df_A_2 = df_A.dropna()"
   ]
  },
  {
   "cell_type": "code",
   "execution_count": 129,
   "metadata": {},
   "outputs": [],
   "source": [
    "tokenizer = Tokenizer(vocab_path=direct + \"korpat_vocab.txt\", cased=True)"
   ]
  },
  {
   "cell_type": "code",
   "execution_count": 130,
   "metadata": {},
   "outputs": [],
   "source": [
    "def make_tokenizer(row):\n",
    "    row = tokenizer.tokenize(row)\n",
    "    return row\n",
    "    \n",
    "df_A_3 = df_A_2.set_index('same_patent').copy()"
   ]
  },
  {
   "cell_type": "code",
   "execution_count": 131,
   "metadata": {},
   "outputs": [],
   "source": [
    "from tqdm import tqdm\n",
    "tqdm.pandas()"
   ]
  },
  {
   "cell_type": "code",
   "execution_count": 132,
   "metadata": {},
   "outputs": [
    {
     "name": "stderr",
     "output_type": "stream",
     "text": [
      "100%|███████████████████████████████████████████████████████████████████████████| 24612/24612 [00:46<00:00, 530.42it/s]\n"
     ]
    }
   ],
   "source": [
    "B = df_A_3['요약'].progress_apply(make_tokenizer).copy()"
   ]
  },
  {
   "cell_type": "code",
   "execution_count": 161,
   "metadata": {},
   "outputs": [],
   "source": [
    "df_B = df_A_3.copy()\n",
    "df_B['요약'] = B\n"
   ]
  },
  {
   "cell_type": "code",
   "execution_count": 162,
   "metadata": {},
   "outputs": [],
   "source": [
    "title_lst = [i for i in df_B['요약'] if len(i) >= 1]"
   ]
  },
  {
   "cell_type": "code",
   "execution_count": 163,
   "metadata": {},
   "outputs": [
    {
     "data": {
      "text/plain": [
       "E      18194\n",
       "A       5224\n",
       "B        385\n",
       "AC       332\n",
       "AB       243\n",
       "C        180\n",
       "ABC       28\n",
       "BC        26\n",
       "Name: same_patent, dtype: int64"
      ]
     },
     "execution_count": 163,
     "metadata": {},
     "output_type": "execute_result"
    }
   ],
   "source": [
    "df_B.index.value_counts()"
   ]
  },
  {
   "cell_type": "code",
   "execution_count": 209,
   "metadata": {},
   "outputs": [],
   "source": [
    "df_C = df_B[df_B.index != 'E'].copy()"
   ]
  },
  {
   "cell_type": "code",
   "execution_count": 210,
   "metadata": {},
   "outputs": [],
   "source": [
    "title_lst = [i for i in df_C['요약'] if len(i) >= 1]"
   ]
  },
  {
   "cell_type": "code",
   "execution_count": 211,
   "metadata": {},
   "outputs": [
    {
     "name": "stderr",
     "output_type": "stream",
     "text": [
      "<>:4: DeprecationWarning:\n",
      "\n",
      "invalid escape sequence \\d\n",
      "\n",
      "<>:19: DeprecationWarning:\n",
      "\n",
      "invalid escape sequence \\?\n",
      "\n",
      "<>:4: DeprecationWarning:\n",
      "\n",
      "invalid escape sequence \\d\n",
      "\n",
      "<>:19: DeprecationWarning:\n",
      "\n",
      "invalid escape sequence \\?\n",
      "\n",
      "<>:4: DeprecationWarning:\n",
      "\n",
      "invalid escape sequence \\d\n",
      "\n",
      "<>:19: DeprecationWarning:\n",
      "\n",
      "invalid escape sequence \\?\n",
      "\n",
      "<ipython-input-211-172c02ca9a37>:4: DeprecationWarning:\n",
      "\n",
      "invalid escape sequence \\d\n",
      "\n",
      "<ipython-input-211-172c02ca9a37>:19: DeprecationWarning:\n",
      "\n",
      "invalid escape sequence \\?\n",
      "\n"
     ]
    }
   ],
   "source": [
    "import re\n",
    "\n",
    "def hasNumber(stringVal):\n",
    "    if (re.search('\\d', stringVal) == None):\n",
    "        return False\n",
    "    else:\n",
    "        return True\n",
    "    \n",
    "    \n",
    "def hasEnglish(stringVal):\n",
    "    if (re.search('[A-Za-z]',stringVal) == None):\n",
    "        return False\n",
    "    else:\n",
    "        return True\n",
    "    \n",
    "    \n",
    "    \n",
    "def hasSpecial(stringVal):\n",
    "    if (re.search('[-=+,#/\\?:^.@*\\\"※~ㆍ!』‘|\\(\\)\\[\\]`\\'…》\\”\\“\\’·]',stringVal) == None):\n",
    "        return False\n",
    "    else:\n",
    "        return True"
   ]
  },
  {
   "cell_type": "code",
   "execution_count": 212,
   "metadata": {},
   "outputs": [
    {
     "name": "stderr",
     "output_type": "stream",
     "text": [
      "100%|████████████████████████████████████████████████████████████████████████████| 6418/6418 [00:03<00:00, 1754.60it/s]\n"
     ]
    }
   ],
   "source": [
    "title_lst_2 = []\n",
    "\n",
    "for cols in tqdm(title_lst):\n",
    "    title_lst_small = []\n",
    "    for col in cols:\n",
    "        if (hasNumber(col)) or (hasEnglish(col)) or (hasNumber(col)) or (len(col) <= 1) or ('#' in col):\n",
    "            pass\n",
    "        else:\n",
    "            title_lst_small.append(col)\n",
    "            \n",
    "    title_lst_2.append(title_lst_small)"
   ]
  },
  {
   "cell_type": "code",
   "execution_count": 213,
   "metadata": {},
   "outputs": [],
   "source": [
    "title_lst_3 = [i for i in title_lst_2 if len(i) >= 1]"
   ]
  },
  {
   "cell_type": "code",
   "execution_count": 214,
   "metadata": {},
   "outputs": [
    {
     "data": {
      "text/plain": [
       "6417"
      ]
     },
     "execution_count": 214,
     "metadata": {},
     "output_type": "execute_result"
    }
   ],
   "source": [
    "len(title_lst_3)"
   ]
  },
  {
   "cell_type": "code",
   "execution_count": 215,
   "metadata": {},
   "outputs": [],
   "source": [
    "lst_all = title_lst_3"
   ]
  },
  {
   "cell_type": "code",
   "execution_count": 242,
   "metadata": {},
   "outputs": [
    {
     "name": "stdout",
     "output_type": "stream",
     "text": [
      "Number of unique tokens: 2459\n",
      "Number of documents: 6417\n",
      "\n",
      "Coherence Score (c_v):  0.3835363109687925\n",
      "\n",
      "Coherence Score (u_mass):  -6.808523862984397\n"
     ]
    }
   ],
   "source": [
    "from konlpy.tag import Mecab\n",
    "from tqdm import tqdm\n",
    "import re\n",
    "from gensim.models.ldamodel import LdaModel\n",
    "from gensim.models.callbacks import CoherenceMetric\n",
    "from gensim import corpora\n",
    "from gensim.models.callbacks import PerplexityMetric\n",
    "import logging\n",
    "import pickle\n",
    "import pyLDAvis.gensim_models\n",
    "from gensim.models.coherencemodel import CoherenceModel\n",
    "import matplotlib.pyplot as plt\n",
    "\n",
    "\n",
    "if __name__ == '__main__':\n",
    "\n",
    "\n",
    "    # 정수 인코딩과 빈도수 생성\n",
    "    dictionary = corpora.Dictionary(lst_all)\n",
    "\n",
    "    # 출현빈도가 적거나 자주 등장하는 단어는 제거\n",
    "    dictionary.filter_extremes(no_below=10, no_above=0.05)\n",
    "    \n",
    "    corpus = [dictionary.doc2bow(text) for text in lst_all]\n",
    "    print('Number of unique tokens: %d' % len(dictionary))\n",
    "    print('Number of documents: %d' % len(corpus))\n",
    "    \n",
    "    perplexity_logger = PerplexityMetric(corpus=corpus, logger='shell')\n",
    "    coherence_logger = CoherenceMetric(corpus=corpus, coherence=\"u_mass\", logger='shell')\n",
    "\n",
    "\n",
    "\n",
    "    lda_model = LdaModel(corpus, id2word = dictionary,alpha='auto', num_topics=7, passes=30, callbacks=[coherence_logger, perplexity_logger])\n",
    "    \n",
    "    coherence_model_lda = CoherenceModel(model=lda_model, texts=lst_all, dictionary=dictionary, coherence='c_v')\n",
    "    coherence_lda = coherence_model_lda.get_coherence()\n",
    "    print('\\nCoherence Score (c_v): ', coherence_lda)\n",
    "\n",
    "    # Compute Coherence Score using UMass\n",
    "    coherence_model_lda = CoherenceModel(model=lda_model, texts=lst_all, dictionary=dictionary, coherence=\"u_mass\")\n",
    "    coherence_lda = coherence_model_lda.get_coherence()\n",
    "    print('\\nCoherence Score (u_mass): ', coherence_lda)\n",
    "\n",
    "\n",
    "    # 저장\n",
    "    pickle.dump(corpus, open('corpus.pkl', 'wb'))\n",
    "    dictionary.save('lda_dictionary.gensim')\n",
    "    lda_model.save('lda_model.gensim')\n",
    "\n",
    "    # pyLDAvis html 저장\n",
    "    lda_visualization = pyLDAvis.gensim_models.prepare(lda_model, corpus, dictionary, sort_topics=False)\n",
    "    pyLDAvis.save_html(lda_visualization, 'testing_5.html')\n",
    "    pyLDAvis.display(lda_visualization)\n",
    "\n"
   ]
  },
  {
   "cell_type": "code",
   "execution_count": 243,
   "metadata": {},
   "outputs": [
    {
     "name": "stderr",
     "output_type": "stream",
     "text": [
      "3565it [00:01, 1983.45it/s]"
     ]
    },
    {
     "name": "stdout",
     "output_type": "stream",
     "text": [
      "3124\n"
     ]
    },
    {
     "name": "stderr",
     "output_type": "stream",
     "text": [
      "6418it [00:03, 1773.02it/s]\n"
     ]
    }
   ],
   "source": [
    "for idx, cols in tqdm(enumerate(title_lst)):\n",
    "    title_lst_small = []\n",
    "    for col in cols:\n",
    "        if (hasNumber(col)) or (hasEnglish(col)) or (hasNumber(col)) or (len(col) <= 1) or ('#' in col):\n",
    "            pass\n",
    "        else:\n",
    "            title_lst_small.append(col)\n",
    "            \n",
    "    if len(title_lst_small) == 0:\n",
    "        print(idx)"
   ]
  },
  {
   "cell_type": "code",
   "execution_count": 244,
   "metadata": {},
   "outputs": [],
   "source": [
    "df_C_2 = df_C.reset_index()[df_C.reset_index().index != 3124].set_index('same_patent').copy()"
   ]
  },
  {
   "cell_type": "code",
   "execution_count": 245,
   "metadata": {},
   "outputs": [],
   "source": [
    "topic_dist = pd.get_dummies(df_C_2.index).values"
   ]
  },
  {
   "cell_type": "code",
   "execution_count": 246,
   "metadata": {},
   "outputs": [
    {
     "data": {
      "text/plain": [
       "Index(['AC', 'A', 'AB', 'A', 'A', 'A', 'A', 'AC', 'AB', 'A',\n",
       "       ...\n",
       "       'A', 'A', 'A', 'C', 'A', 'C', 'A', 'A', 'A', 'A'],\n",
       "      dtype='object', name='same_patent', length=6417)"
      ]
     },
     "execution_count": 246,
     "metadata": {},
     "output_type": "execute_result"
    }
   ],
   "source": [
    "df_C_2.index"
   ]
  },
  {
   "cell_type": "code",
   "execution_count": 247,
   "metadata": {},
   "outputs": [
    {
     "data": {
      "text/plain": [
       "0        AC\n",
       "1         A\n",
       "2        AB\n",
       "10        C\n",
       "31      ABC\n",
       "843       B\n",
       "1791     BC\n",
       "Name: same_patent, dtype: object"
      ]
     },
     "execution_count": 247,
     "metadata": {},
     "output_type": "execute_result"
    }
   ],
   "source": [
    "pd.Series(df_C_2.index).drop_duplicates().sort_index()"
   ]
  },
  {
   "cell_type": "code",
   "execution_count": 248,
   "metadata": {},
   "outputs": [
    {
     "data": {
      "text/plain": [
       "(array([0, 0, 0, 1, 0, 0, 0], dtype=uint8),\n",
       " array([1, 0, 0, 0, 0, 0, 0], dtype=uint8),\n",
       " array([0, 1, 0, 0, 0, 0, 0], dtype=uint8),\n",
       " array([0, 0, 0, 0, 0, 0, 1], dtype=uint8),\n",
       " array([0, 0, 1, 0, 0, 0, 0], dtype=uint8),\n",
       " array([0, 0, 0, 0, 1, 0, 0], dtype=uint8),\n",
       " array([0, 0, 0, 0, 0, 1, 0], dtype=uint8))"
      ]
     },
     "execution_count": 248,
     "metadata": {},
     "output_type": "execute_result"
    }
   ],
   "source": [
    "name = {\"AC\" : 4 , \"A\" :1 ,\"AB\" : 2, \"C\" : 7 , 'ABC' : 3, \"B\" : 5, \"BC\": 6}\n",
    "topic_dist[0],topic_dist[1],topic_dist[2],topic_dist[10],topic_dist[31],topic_dist[843],topic_dist[1791]\n"
   ]
  },
  {
   "cell_type": "code",
   "execution_count": 249,
   "metadata": {},
   "outputs": [
    {
     "data": {
      "text/plain": [
       "[('A', 1), ('AB', 2), ('ABC', 3), ('AC', 4), ('B', 5), ('BC', 6), ('C', 7)]"
      ]
     },
     "execution_count": 249,
     "metadata": {},
     "output_type": "execute_result"
    }
   ],
   "source": [
    "sorted(name.items(), key=lambda x: x[1])"
   ]
  },
  {
   "cell_type": "code",
   "execution_count": 176,
   "metadata": {},
   "outputs": [
    {
     "data": {
      "text/plain": [
       "Index(['E', 'AC', 'A', 'AB', 'A', 'A', 'A', 'A', 'E', 'AC',\n",
       "       ...\n",
       "       'A', 'E', 'E', 'E', 'E', 'E', 'E', 'E', 'E', 'E'],\n",
       "      dtype='object', name='same_patent', length=24611)"
      ]
     },
     "execution_count": 176,
     "metadata": {},
     "output_type": "execute_result"
    }
   ],
   "source": [
    "df_B_2.index"
   ]
  },
  {
   "cell_type": "code",
   "execution_count": 255,
   "metadata": {},
   "outputs": [],
   "source": [
    "df_C_2['lst']  = lst_all"
   ]
  },
  {
   "cell_type": "code",
   "execution_count": 258,
   "metadata": {},
   "outputs": [],
   "source": [
    "# df_C_2.to_csv('ABC.csv',encoding = 'utf-8-sig')"
   ]
  },
  {
   "cell_type": "code",
   "execution_count": 250,
   "metadata": {},
   "outputs": [
    {
     "data": {
      "text/plain": [
       "A      5223\n",
       "B       385\n",
       "AC      332\n",
       "AB      243\n",
       "C       180\n",
       "ABC      28\n",
       "BC       26\n",
       "Name: same_patent, dtype: int64"
      ]
     },
     "execution_count": 250,
     "metadata": {},
     "output_type": "execute_result"
    }
   ],
   "source": [
    "df_C_2.index.value_counts() # 이거와 역순으로 LDA가 만들어짐.(밑에서부터 시작한다고 보면 됨)\n",
    "# 나머지 값들중 가지고 있는 것들을 봄."
   ]
  },
  {
   "cell_type": "code",
   "execution_count": 251,
   "metadata": {},
   "outputs": [],
   "source": [
    "from scipy.sparse import csr_matrix"
   ]
  },
  {
   "cell_type": "code",
   "execution_count": 252,
   "metadata": {},
   "outputs": [
    {
     "data": {
      "text/plain": [
       "<7x6417 sparse matrix of type '<class 'numpy.uint8'>'\n",
       "\twith 6417 stored elements in Compressed Sparse Row format>"
      ]
     },
     "execution_count": 252,
     "metadata": {},
     "output_type": "execute_result"
    }
   ],
   "source": [
    "csr_matrix(topic_dist.T)"
   ]
  },
  {
   "cell_type": "code",
   "execution_count": 253,
   "metadata": {
    "scrolled": false
   },
   "outputs": [
    {
     "data": {
      "text/html": [
       "\n",
       "<link rel=\"stylesheet\" type=\"text/css\" href=\"https://cdn.jsdelivr.net/gh/bmabey/pyLDAvis@3.3.1/pyLDAvis/js/ldavis.v1.0.0.css\">\n",
       "\n",
       "\n",
       "<div id=\"ldavis_el318816238146803925587506810\"></div>\n",
       "<script type=\"text/javascript\">\n",
       "\n",
       "var ldavis_el318816238146803925587506810_data = {\"mdsDat\": {\"x\": [0.07498768482691867, -0.19441257017642305, 0.15285383207091077, 0.08255779705934986, -0.2593201361378969, 0.2098615817131463, -0.06652818935600613], \"y\": [0.18974896422534449, -0.18542022808445083, 0.14264925887761884, -0.2165356470861374, 0.15261754412167408, -0.07291753350084329, -0.010142358553206257], \"topics\": [1, 2, 3, 4, 5, 6, 7], \"cluster\": [1, 1, 1, 1, 1, 1, 1], \"Freq\": [82.70633950649867, 3.5362045793219945, 0.3382315322741097, 4.767724672224005, 5.439721293969084, 0.447456360823612, 2.7643220548885217]}, \"tinfo\": {\"Term\": [\"\\ud1b5\\ud569\", \"\\ub514\\uc9c0\\ud138\", \"\\ubaa8\\ubc14\\uc77c\", \"\\uc5c5\\uccb4\", \"\\uad11\\uace0\", \"\\uc218\\uc775\", \"\\uc9c0\\uc6d0\", \"\\ud3c9\\uac00\", \"\\uc0dd\\uc0b0\\uc790\", \"\\uc81c\\uc870\", \"\\uc9c0\\uc5ed\", \"\\uacf5\\uc720\", \"\\uc790\\uc2e0\", \"\\uc9c1\\uc811\", \"\\ubb34\\uc120\", \"\\uc644\\ub8cc\", \"\\ucf58\\ud150\\uce20\", \"\\uac80\\uc0c9\", \"\\uc77c\\ubc18\", \"\\ub9e4\\uc7a5\", \"\\uac01\\uc885\", \"\\ucc38\\uc5ec\", \"\\uc5f0\\ub3d9\", \"\\uae30\\uc874\", \"\\uc81c\\uc791\", \"\\ubaa9\\uc801\", \"\\uc6b4\\uc6a9\", \"\\uc911\\uac1c\", \"\\ubd84\\ubc30\", \"\\ubcf4\\uc548\", \"\\ucf58\\ud150\\uce20\", \"\\ub18d\\uc0b0\\ubb3c\", \"\\uc790\\uc7ac\", \"\\uc804\\uc0b0\", \"\\uc804\\ub825\", \"\\uac74\\uac15\", \"\\uc9c4\\ub2e8\", \"\\ub3d9\\uc601\\uc0c1\", \"\\uc218\\uc694\", \"\\ub300\\ud589\", \"\\uba40\\ud2f0\\ubbf8\\ub514\\uc5b4\", \"\\uacf5\\uc0ac\", \"\\ucd9c\\ud558\", \"\\uc74c\\uc545\", \"\\ubc29\\uc1a1\", \"\\uc800\\uc791\", \"\\ubb38\\ud654\", \"\\ube0c\\ub79c\\ub4dc\", \"\\uc8fc\\ub958\", \"\\ucee4\\ubba4\\ub2c8\\ud2f0\", \"\\uc815\\ubcf4\\ucc98\\ub9ac\", \"\\uc0dd\\ud65c\", \"\\ubd80\\ub3d9\\uc0b0\", \"\\uc720\\ub8cc\", \"\\ubb3c\\uac74\", \"\\uad6d\\ub0b4\", \"\\uac00\\uc815\", \"\\ub2f4\\ubcf4\", \"\\ud3b8\\uc9d1\", \"\\uc804\\uc790\\ucc45\", \"\\uac1c\\ubc1c\", \"\\uc81c\\uc791\", \"\\uc5c5\\uccb4\", \"\\uc0ac\\uc5c5\", \"\\uc2dc\\uc7a5\", \"\\uc608\\ucee8\\ub300\", \"\\ud65c\\ub3d9\", \"\\uae30\\uc874\", \"\\ubb38\\uc81c\\uc810\", \"\\uc720\\ud615\", \"\\ub514\\uc790\\uc778\", \"\\ud504\\ub85c\", \"\\ub514\\uc9c0\\ud138\", \"\\uc218\\uc775\", \"\\uccb4\\uacc4\", \"\\uc0c8\\ub85c\\uc6b4\", \"\\uc18c\\ube44\", \"\\uc9c0\\uc6d0\", \"\\uc2e0\\ub8b0\", \"\\uad00\\ub9ac\\uc790\", \"\\ud1b5\\ud569\", \"\\uac80\\uc0c9\", \"\\uacf5\\uc720\", \"\\uc644\\ub8cc\", \"\\ubc29\\uc2dd\", \"\\uad11\\uace0\", \"\\ud0c4\\uc18c\", \"\\uc628\\uc2e4\", \"\\uce5c\\ud658\\uacbd\", \"\\uacf5\\uc911\\ud569\\uccb4\", \"\\uc911\\ud569\\uccb4\", \"\\uad11\\uace0\\uc8fc\", \"\\uc74c\\uc2dd\\ubb3c\", \"\\uc870\\uc131\\ubb3c\", \"\\uc911\\uace0\", \"\\uc11c\\ube0c\", \"\\uc774\\ub3d9\\ud1b5\\uc2e0\", \"\\uac74\\uc124\", \"\\uc1fc\\ud551\\ubab0\", \"\\ud50c\\ub79c\\ud2b8\", \"\\ucd9c\\ud310\", \"\\uc0c1\\uc810\", \"\\ub3c4\\uba54\\uc778\", \"\\uc0c1\\uc704\", \"\\uc704\\uc131\", \"\\ud504\\ub85c\\uc138\\uc2f1\", \"\\uc720\\uc800\", \"\\uc810\\uc218\", \"\\uc694\\ub9ac\", \"\\ub2e8\\uae30\", \"\\uc778\\ub371\\uc2a4\", \"\\ud654\\ud569\\ubb3c\", \"\\ud544\\ub4dc\", \"\\ub2e8\\ub7c9\\uccb4\", \"\\uc2a4\\ud0c0\\uc77c\", \"\\ub808\\uc2dc\\ud53c\", \"\\uc21c\\ud658\", \"\\uba54\\uc778\", \"\\ub2e8\\uc704\", \"\\uc7ac\\ub8cc\", \"\\ub0b4\\uc9c0\", \"\\ud568\\uc720\", \"\\ube44\\ud2b8\", \"\\uc5f0\\uc0b0\", \"\\uc778\\ucd9c\", \"\\ud074\\ub77c\\uc774\\uc5b8\\ud2b8\", \"\\ud45c\\uc2dc\", \"\\ud30c\\uc77c\", \"\\uc720\\uae30\", \"\\ub9e4\\uccb4\", \"\\uc81c\\uc870\", \"\\ud2b9\\uc131\", \"\\ub2e4\\uc74c\", \"\\ubd80\\ubd84\", \"\\ucf54\\ub4dc\", \"\\uc774\\ubca4\\ud2b8\", \"\\uace0\\uac1d\", \"\\ucee8\\ud150\\uce20\", \"\\ud68c\\uc6d0\", \"\\ud310\\ub9e4\\uc790\", \"\\ubc30\\uc1a1\", \"\\ud560\\uc778\", \"\\ud3ec\\uc778\\ud2b8\", \"\\ubcf5\\uad8c\", \"\\uad6c\\ub9e4\\uc790\", \"\\uacf5\\uae09\\uc790\", \"\\uc758\\uc57d\\ud488\", \"\\uc0ac\\uc774\\ubc84\", \"\\ud22c\\uc790\", \"\\uc0ac\\uc774\\ud2b8\", \"\\uba38\\ub2c8\", \"\\uc801\\ub9bd\", \"\\ub9e4\\ucd9c\", \"\\ucfe0\\ud3f0\", \"\\uc0c1\\uac70\\ub798\", \"\\uc601\\uc5c5\", \"\\ub9c8\\uc77c\\ub9ac\\uc9c0\", \"\\uc1fc\\ud551\", \"\\ub300\\ucd9c\", \"\\ub3c4\\uc11c\", \"\\uae08\\uc735\", \"\\uc774\\uc775\", \"\\uacb0\\uc7ac\", \"\\ud604\\uae08\", \"\\ub0c9\\uc7a5\\uace0\", \"\\uc9c0\\uc2dd\", \"\\ubb3c\\ud488\", \"\\uae30\\uc5c5\", \"\\ubc14\\ucf54\\ub4dc\", \"\\uc8fc\\ubb38\", \"\\ubc1c\\ud589\", \"\\ub9c8\\ucf00\\ud305\", \"\\uac00\\uaca9\", \"\\uac00\\ub9f9\\uc810\", \"\\uc9c0\\uae09\", \"\\uad6c\\uc785\", \"\\uc7ac\\uace0\", \"\\uc804\\uc790\\uc0c1\\uac70\\ub798\", \"\\uc81c\\uc870\", \"\\ubc1c\\uc8fc\", \"\\uc624\\ud504\\ub77c\\uc778\", \"\\uc758\\ub8cc\", \"\\uae30\\ubd80\", \"\\ubb38\\uc11c\", \"\\ub514\\ubc14\\uc774\\uc2a4\", \"\\uba54\\ubaa8\\ub9ac\", \"\\uc6b4\\uc601\\uc11c\\ubc84\", \"\\ud658\\uc790\", \"\\ubd84\\uc0b0\", \"\\uc0ad\\uc81c\", \"\\ud0a4\\ub85c\", \"\\ubcf5\\ud638\", \"\\uac00\\uc785\\uc790\", \"\\uacf5\\uac1c\", \"\\ud074\\ub77c\\uc6b0\\ub4dc\", \"\\uc9c4\\ub8cc\", \"\\ud328\\ud0b7\", \"\\uacc4\\uce35\", \"\\ud504\\ub85c\\ud30c\\uc77c\", \"\\uc74c\\ud30c\", \"\\ubb34\\uc120\\ub2e8\\ub9d0\", \"\\uc0dd\\uccb4\", \"\\uccad\\uad6c\", \"\\uacc4\\uc815\", \"\\uc544\\uc774\\ub374\\ud2f0\\ud2f0\", \"\\ub9ac\\uc18c\\uc2a4\", \"\\uad50\\ud1b5\", \"\\uc2a4\\ud1a0\\ub9ac\\uc9c0\", \"\\ub808\\uc774\\uc5b4\", \"\\uc815\\ucc45\", \"\\uc9c0\\uc815\", \"\\uc608\\uc57d\", \"\\ud0a4\\ub97c\", \"\\uac00\\ub9f9\\uc810\", \"\\uce74\\ub4dc\", \"\\uc778\\uc99d\\uc11c\", \"\\ucef4\\ud4e8\\ud305\", \"\\uae08\\uc561\", \"\\uace0\\uc720\", \"\\ub79c\\ub364\", \"\\uacc4\\uc57d\", \"\\uc1a1\\uc2e0\", \"\\uc774\\ubca4\\ud2b8\", \"\\ud504\\ub85c\\uc138\\uc11c\", \"\\ubc1c\\uae09\", \"\\ub0b4\\uc5ed\", \"\\uc720\\ud6a8\", \"\\ubcf4\\uc548\", \"\\ud30c\\uc77c\", \"\\ubb34\\uc120\", \"\\uadf8\\ub8f9\", \"\\uc5f0\\ub3d9\", \"\\ud68c\\uc804\", \"\\uc4f0\\ub808\\uae30\", \"\\uc6b4\\ub3d9\", \"\\ud504\\ub808\\uc784\", \"\\uc0c1\\ubd80\", \"\\ud558\\ubd80\", \"\\uc13c\\uc2f1\", \"\\uc774\\uc1a1\", \"\\uc2e0\\uacbd\\ub9dd\", \"\\uace0\\uc815\", \"\\uc9c0\\uc9c0\", \"\\ubaa8\\ud130\", \"\\ud14c\\uc2a4\\ud2b8\", \"\\uc7a5\\ucc29\", \"\\ubd80\\ud488\", \"\\ud30c\\ub77c\\ubbf8\\ud130\", \"\\uc870\\uc815\", \"\\uace0\\uc7a5\", \"\\uc77c\\uce21\", \"\\uc720\\ub2db\", \"\\uc790\\ub3d9\\ucc28\", \"\\ud45c\\uba74\", \"\\ud569\\uc131\", \"\\uc218\\uc9c0\", \"\\uc804\\uae30\", \"\\ud2b8\\ub808\\uc774\\ub2dd\", \"\\ud615\\uc0c1\", \"\\uae30\\uad6c\", \"\\ubca8\\ud2b8\", \"\\uc721\\ub958\", \"\\uad6c\\ub3d9\", \"\\ubc29\\ud5a5\", \"\\uc774\\ub3d9\", \"\\ub0b4\\ubd80\", \"\\ubcf8\\uccb4\", \"\\uc13c\\uc11c\", \"\\uce21\\uc815\", \"\\uc628\\ub3c4\", \"\\uc18d\\ub3c4\", \"\\uac80\\uc0ac\", \"\\ubc30\\uce58\", \"\\uc870\\uc808\", \"\\uc678\\ubd80\", \"\\uace0\\uc548\", \"\\uacf5\\uc815\", \"\\uacf5\\uac04\", \"\\uc0c1\\ud488\\uad8c\", \"\\uac8c\\uc784\", \"\\uba54\\uc2dc\\uc9c0\", \"\\uc6b4\\uc1a1\", \"\\ucc3d\\uace0\", \"\\uc544\\uc774\\ud15c\", \"\\ud1a0\\ud070\", \"\\ud328\\ud0a4\\uc9c0\", \"\\ucc45\\uc784\", \"\\uc0c1\\ud488\\uc815\\ubcf4\", \"\\uc804\\uc790\\ubb38\\uc11c\", \"\\ubcf4\\ud5d8\", \"\\ud574\\uc26c\", \"\\uc74c\\uc6d0\", \"\\ud1b5\\uacc4\", \"\\uc774\\ub3d9\\ud1b5\\uc2e0\\ub2e8\\ub9d0\\uae30\", \"\\uc740\\ud589\", \"\\uc99d\\uba85\", \"\\ud654\\ubb3c\", \"\\ucc98\\ubc29\", \"\\ub3d9\\ubb3c\", \"\\ucc44\\uad8c\", \"\\ubc30\\ud130\\ub9ac\", \"\\uc99d\\uba85\\uc11c\", \"\\uc218\\ub839\", \"\\uad6d\\uc81c\", \"\\uac10\\uc815\", \"\\ub4dc\\ub860\", \"\\ucd95\\uc0b0\", \"\\ubb3c\\ub958\", \"\\ubc88\\ud638\", \"\\ucc28\\ub7c9\", \"\\uc790\\uc0b0\", \"\\ubc1c\\uc1a1\", \"\\ubc1c\\ud589\", \"\\uc57d\\ud488\", \"\\uc9c0\\ub3c4\", \"\\ud569\\uc758\", \"\\uc218\\uac70\", \"\\uc138\\ud2b8\", \"\\ud074\\ub77c\\uc774\\uc5b8\\ud2b8\", \"\\uad50\\ud658\", \"\\uc911\\uacc4\", \"\\ubaa8\\ubc14\\uc77c\", \"\\ud3c9\\uac00\", \"\\uc11c\\uba85\", \"\\uac00\\uc0c1\", \"\\ud1b5\\ud569\", \"\\ub9e4\\uce6d\", \"\\uc218\\ub2e8\", \"\\ucd94\\uc801\", \"\\ub514\\uc9c0\\ud138\", \"\\uace0\\uc720\", \"\\uc2dd\\ud488\", \"\\uc774\\ub825\", \"\\uac1d\\uccb4\", \"\\uc74c\\uc131\", \"\\uc2e0\\uc120\", \"\\uc18c\\ud504\\ud2b8\\uc6e8\\uc5b4\", \"\\ud658\\uc804\", \"\\ud14d\\uc2a4\\ud2b8\", \"\\uc5ec\\ud589\", \"\\ud488\\ubaa9\", \"\\ubbf8\\ub514\\uc5b4\", \"\\ud6c4\\ubcf4\", \"\\ub300\\ud654\", \"\\ub9ac\\ub354\\uae30\", \"\\ub9ac\\ub354\", \"\\uc0ac\\uc721\", \"\\ud310\\uc815\", \"\\uc74c\\uc2dd\", \"\\uc758\\ub958\", \"\\ube44\\ub514\\uc624\", \"\\uc2a4\\uce94\", \"\\uc5b8\\uc5b4\", \"\\uc2dc\\uc810\", \"\\ub18d\\uc791\\ubb3c\", \"\\uc54c\\ub9bc\", \"\\uc0c1\\ub2f4\", \"\\uc54c\\ub78c\", \"\\uc6a9\\uc5ed\", \"\\uac00\\ucd95\", \"\\uc218\\ud655\", \"\\ucd9c\\uace0\", \"\\ub18d\\ucd95\", \"\\uc0dd\\uc131\\ubd80\", \"\\uc815\\uc0c1\", \"\\uc8fc\\ubb38\", \"\\ucf54\\ub4dc\", \"\\uc7ac\\uace0\", \"\\uc6a9\\uae30\", \"\\ud0d0\\uc9c0\", \"\\uc800\\uc7a5\\ubd80\", \"\\ubcf4\\uad00\", \"\\uac00\\uacf5\", \"\\ud0dc\\uadf8\", \"\\ub9e4\\uce6d\", \"\\ud45c\\uc2dc\", \"\\ubd80\\ucc29\", \"\\uac80\\ucd9c\", \"\\ub514\\uc2a4\\ud50c\\ub808\\uc774\", \"\\ud3ec\\uc7a5\", \"\\uc81c\\uc5b4\\ubd80\", \"\\uc0b0\\ucd9c\", \"\\uc601\\uc5ed\", \"\\ucd94\\ucc9c\", \"\\ud658\\uacbd\", \"\\ucd2c\\uc601\", \"\\ud488\\uc9c8\", \"\\uc0dd\\uc0b0\\uc790\", \"\\ud328\\ud134\"], \"Freq\": [1397.0, 2034.0, 796.0, 1294.0, 696.0, 985.0, 1802.0, 526.0, 895.0, 795.0, 799.0, 1353.0, 801.0, 794.0, 764.0, 903.0, 7602.0, 1405.0, 624.0, 727.0, 669.0, 485.0, 716.0, 1108.0, 1924.0, 653.0, 466.0, 276.0, 732.0, 472.0, 7602.6303055509925, 2501.271162480116, 2096.558482805267, 1682.8632665704936, 1374.280952946283, 1373.5116201546043, 1255.4889889108017, 1006.2711669225246, 1004.9384218780324, 853.0558524467051, 845.5557350954041, 838.979746629484, 724.3483544397168, 700.2331243874505, 695.338124751579, 1333.402169086039, 670.4624304338358, 632.8699809219688, 620.420941398479, 578.6074053915218, 579.5550572127104, 567.6500330050476, 563.800096702762, 494.9645881867036, 493.41648497385904, 485.1808016258292, 436.9084650045261, 682.0189737295732, 405.46849626349285, 404.5625312579796, 1164.7670010849833, 1912.0140324532986, 1290.6750326044858, 971.1842420510948, 952.2968422062695, 856.2481424771249, 894.7420041682199, 1103.3076402544975, 871.7840930726379, 839.0006137499586, 714.1076253657229, 820.5008680932224, 2006.4206795021892, 981.1821537232026, 1030.6203458504751, 1290.0702655129135, 1471.008403194137, 1759.1325919050723, 983.7065061973408, 1252.9653952410445, 1361.7206537304446, 1346.6849449230358, 1261.3292216788977, 881.5121549367905, 900.0360874831676, 695.7766556739807, 135.13578577525914, 97.3249901169911, 97.1262246882543, 86.34863852988929, 86.08484810963273, 76.19587465189397, 74.20270496048033, 66.93350381450728, 75.02264276985079, 63.45866138068959, 63.02637536684051, 46.893015555571765, 196.35057396255434, 40.4112721667625, 37.69086400838569, 35.56507318234071, 35.031644391361624, 40.65835010167211, 33.19211925705895, 31.86622423538938, 39.977919571101665, 29.922391049796715, 28.180269573116675, 28.601100984960794, 26.527903186390176, 26.417643770808354, 26.420837433077395, 26.32295117760077, 26.20301749999635, 35.35904850857332, 135.38404384441674, 104.44325168710202, 162.76002759486437, 37.02884924970567, 88.15441425796598, 31.31245333654806, 48.80033149430528, 58.32181276939809, 49.54101375862956, 61.81692431308329, 86.80890710838139, 83.61037830635905, 40.799881047103554, 46.86116409720853, 82.53813509456813, 57.253653389867395, 45.48845708370209, 42.639179076533765, 44.47219522297382, 43.80120171094313, 20.895766478031874, 19.869510421529412, 19.010330418124795, 11.901052040047944, 10.258877881802619, 8.397555755451322, 8.143578618764877, 8.050914178602397, 11.95199362654239, 6.05190027365461, 5.56872439943254, 5.547982832416892, 5.126584803219885, 4.853796269278973, 4.685490198433399, 4.6003327067010105, 4.421591073740274, 7.7168086199089885, 4.3610874665901065, 4.394633863586932, 3.8570090485736728, 3.756580872926861, 3.6164573752321303, 3.132014245260507, 3.0241184926126152, 2.9589504378382117, 2.8017785295378417, 2.7866664950270206, 2.7861498177517205, 2.7803199370391667, 17.451997620984912, 7.5947354678064585, 8.591132077388465, 10.156357783824205, 5.314073875546455, 5.255882127676159, 9.749638121575117, 6.917313375510275, 5.570903986226767, 5.6904581426642835, 5.269950334448367, 4.982236731797457, 5.555321046151221, 4.765795500949025, 4.764366104733199, 255.51051196083426, 201.38688864558935, 199.3769053928554, 155.36324566416442, 148.55192615278065, 135.61112114600837, 95.60764057002962, 212.7472822330892, 86.47408844623715, 73.87244528532028, 66.59204912278801, 66.13143115025014, 118.08832593820989, 62.61233105510473, 61.20147048588842, 54.38372084777802, 53.607758743688464, 52.30144787952304, 51.97052053268999, 48.18537941202521, 43.83983853086829, 57.471247896552086, 79.48557957541198, 37.90306546445936, 36.78237256547436, 95.85482863895595, 34.824863739777356, 33.09180515818298, 30.945990946143866, 147.17558377236128, 58.13112871628255, 101.11136975325644, 131.53649856336415, 79.69967108219862, 45.955071366392076, 84.43487983010709, 65.78738109581172, 121.73241435550153, 69.15944672003388, 89.58860453031957, 86.17484697047621, 139.03178453072906, 109.40359775349498, 76.40545045305043, 133.64761414937675, 68.20310206431895, 130.97731812112033, 91.32161116786301, 138.97882346995175, 81.86300957668573, 78.69038176909089, 145.8620570357889, 139.33372876606882, 120.81945157889277, 119.23090151511133, 108.98025629483163, 91.1764528490603, 77.53304379153997, 75.22715143719688, 70.28389840666205, 131.2247732821852, 66.4769379729405, 65.92362362332642, 59.777276520617306, 65.19259414216504, 51.264851479558274, 48.2815773175098, 48.23044686438516, 48.430801382754, 45.9445487880148, 45.91747073386796, 44.30374222830869, 43.60483459965326, 43.615327696548775, 43.24558015796356, 55.50188228208572, 42.613576939329505, 41.55053327069618, 40.05515155149624, 39.888706205645576, 48.19490945269354, 114.73097247071564, 81.25539817288518, 125.95671460963786, 120.16665867809206, 52.78229240840301, 107.42866289336234, 110.4489155523479, 67.41892112325877, 65.80537353316322, 82.19236559793353, 95.52156192576513, 68.46435672650114, 58.33115059603006, 54.87071813689545, 54.95097597967833, 55.422903324477375, 29.048902191221714, 22.459005933254957, 21.742860071361065, 17.19925099425018, 16.538537565618753, 12.442165829241276, 11.92854730039835, 10.432569498196244, 9.998657863587141, 9.046409718692303, 8.296825407072902, 8.947984846308827, 6.071774248033762, 6.013028861954808, 5.298149988986552, 5.109782245010138, 5.087100628763437, 4.934561627916992, 4.368587565608323, 3.9304310819134116, 3.8414129223674536, 3.8035777285695076, 3.667459550779313, 3.273274099919945, 5.05504565499723, 3.164460585452616, 3.1649619415402412, 3.1245299079455435, 2.9727319083176553, 19.4919241592288, 11.385834723711014, 22.079845257103443, 4.724992730654776, 5.076808203943074, 9.691785858944058, 4.352972658351064, 5.805688613094389, 5.7436061557382345, 8.043664701282978, 9.448293063789606, 11.516660438850522, 6.685462836176157, 11.577023301273584, 17.8730561286211, 14.873192748054862, 7.90264508780092, 6.853443809784949, 14.237565597519279, 8.661516033113003, 8.061665796674788, 8.318950759246945, 8.153278999961913, 7.008168353699148, 204.21072794497013, 186.50871528685093, 80.67893007397652, 62.98617446422577, 55.43730513751507, 48.71164419874549, 37.88936210051179, 37.14581188187003, 36.28400921076536, 35.826695170253515, 33.11419612541795, 29.197091959416866, 25.90121023915708, 25.56573575735092, 22.849575106054544, 22.7012404166162, 22.4508214071393, 22.44388496130705, 21.772106984630227, 21.71082659251988, 27.783616758883, 18.682389559224248, 26.14305062778294, 18.069875713437796, 17.996001614257693, 17.64803011715412, 17.657318867743015, 17.14217839203775, 15.747722938656807, 15.529969897121191, 32.93652420118451, 29.51185379549861, 26.759666740894318, 40.68116741999984, 65.9863838404417, 151.2690469622612, 38.56558631360531, 40.75389231368899, 39.940638422966, 41.807376120239496, 60.41969584673643, 124.93473525345325, 137.7205197364092, 63.07944239675999, 76.55939137935638, 57.15368237346411, 49.663218047469854, 68.6953829601407, 44.417432609945536, 47.25340863317251, 72.58245561271906, 49.05434837192297, 67.66762233525515, 74.3255261182785, 53.50762268155813, 54.41515580564737, 65.27113102376461, 39.77559983357787], \"Total\": [1397.0, 2034.0, 796.0, 1294.0, 696.0, 985.0, 1802.0, 526.0, 895.0, 795.0, 799.0, 1353.0, 801.0, 794.0, 764.0, 903.0, 7602.0, 1405.0, 624.0, 727.0, 669.0, 485.0, 716.0, 1108.0, 1924.0, 653.0, 466.0, 276.0, 732.0, 472.0, 7602.83085238229, 2501.4716015052572, 2096.7587837627543, 1683.0637144624277, 1374.4815852545146, 1373.7125112609422, 1255.6898637044067, 1006.471645969656, 1005.1389204537386, 853.2564529493281, 845.7562348094275, 839.1801784284676, 724.5489816873535, 700.4340758285646, 695.5389551670933, 1333.7972291203841, 670.6627387737599, 633.070494883531, 620.6212644844713, 578.8077779589923, 579.7557700787938, 567.8507957597074, 564.0005982898253, 495.16534968872725, 493.6168177585523, 485.38120946700656, 437.109116794544, 682.3540372864436, 405.6692062702291, 404.76306209881136, 1166.2667175170502, 1924.6828084065546, 1294.9738124442222, 972.3193550694241, 953.5564943399861, 856.9698237284645, 896.3379573520579, 1108.6283352994724, 873.9191674358879, 840.9095711712691, 714.5773969721747, 822.2877765559763, 2034.3560175581372, 985.4794431738517, 1036.3773040873225, 1304.548308863068, 1493.9216185375399, 1802.2609067463027, 992.0382716568824, 1277.3847211590498, 1397.083488012053, 1405.7394532975688, 1353.578559479689, 903.4850816742326, 939.1867788863601, 696.4987438529756, 135.85638804163273, 98.04554705203918, 97.8485219372817, 87.06847498589809, 86.8046765216261, 76.91692868440782, 74.92409896340041, 67.65338881026832, 75.83934343892497, 64.1791696086741, 63.7478248153343, 47.619656944986446, 200.04860976387272, 41.17616355961172, 38.413118317865155, 36.286603911924885, 35.75250622513977, 41.530860125622894, 33.91365494729939, 32.58866362207618, 40.92514697333286, 30.657296222107334, 28.901108862449746, 29.335439961216707, 27.248549904079937, 27.137571608997177, 27.142402140846343, 27.0427612708786, 26.925007371741913, 36.36250029973553, 143.85570586074277, 112.27406824958962, 179.49866060814293, 39.2263302386375, 102.89239115984128, 32.935572582837494, 58.885066169524634, 74.6727375279379, 61.490228291644144, 87.30292414692872, 168.4046686000861, 175.75994510425699, 47.62127487815587, 63.80533045233665, 795.8444167259631, 273.4130338873433, 155.47712631182458, 84.36893410034054, 196.43899527576627, 199.5219457531323, 21.673178470748553, 20.647844321789535, 19.78775775914528, 12.67791053757378, 11.035296467476428, 9.172790741136623, 8.919960372627429, 8.825272622855664, 13.313806232945808, 6.82884440273142, 6.344281581636778, 6.323247201241202, 5.90343078451383, 5.633057201881002, 5.4603243580654635, 5.375510967397759, 5.197216102233369, 9.087762162905165, 5.1368488288644585, 5.1768257210922, 4.632885732021123, 4.533049224640763, 4.393367858089277, 3.9075464369464044, 3.799812684019571, 3.7358474172979186, 3.577419234804438, 3.5627310864813353, 3.563116043398395, 3.5571486832764094, 25.686160588033545, 12.3165733754563, 19.043768489794275, 78.09826862632872, 16.747214753149365, 26.799883084894418, 258.0576316609581, 139.1654080261526, 46.62520129413224, 63.25891938593213, 44.58844517094144, 48.61231169559164, 795.8444167259631, 42.9593949515679, 157.31335212434215, 256.225952848474, 202.1014733192742, 200.09163771064595, 156.0770164396115, 149.2655438468346, 136.32440899864832, 96.32127500615252, 214.63652452257134, 87.28574898063903, 74.58532504982259, 67.3054427971681, 66.84586685800718, 119.37499032566757, 63.326747051028406, 61.914290097647154, 55.09751607920566, 54.32201396059713, 53.01563278792128, 52.68307593244526, 48.897853100279235, 44.55370194946522, 58.42195962225196, 80.94669981628908, 38.61556082943821, 37.49632715264147, 97.81515088871038, 35.53913869562325, 33.805985125556845, 31.6605861013702, 150.58405858015476, 59.724919470114855, 105.20873677883992, 139.1654080261526, 83.67992432244023, 47.18489273569412, 90.36593527421974, 69.29194737743796, 147.30738295615652, 75.18203004226689, 105.15233122279756, 102.16957617843627, 199.5219457531323, 150.2728280620047, 92.57136893586926, 272.0190211947413, 78.11782356046456, 472.70646100750923, 175.75994510425699, 764.582192534692, 747.3336427561762, 716.0816800072594, 146.58857100792284, 140.06225192075, 121.54647803631178, 119.96251160798624, 109.70672332416575, 91.90308147733231, 78.26071979232097, 75.95369317066843, 71.01289993112277, 132.61003594504382, 67.2032699336155, 66.65032845096493, 60.506233291760054, 66.07091907358972, 51.993578885710804, 49.00981665952099, 48.958588610316156, 49.175007924431156, 46.67110917191849, 46.64488909338752, 45.03253850552392, 44.33255854161166, 44.3446166877759, 43.97272645932185, 56.438990689142656, 43.34214806233558, 42.27759366039868, 40.781922518616966, 40.615394985352395, 49.075326951297484, 128.27211998405232, 90.74389814997267, 156.24904923554095, 147.84141475247588, 56.684698631450374, 143.37665808216298, 151.4264583777599, 88.66235286582923, 92.99800891051109, 244.27017174604975, 477.52106015666936, 164.4545719139444, 168.26702254919428, 143.77117190327817, 268.01755065458565, 892.3705780772466, 29.927091045759425, 23.231169887291117, 22.633803238126347, 17.970985080114588, 17.311000975046, 13.21318768970059, 12.699586625972188, 11.205179508319134, 10.842443102928428, 9.82038271665715, 9.069118416439323, 9.952924710172965, 6.843684939427476, 6.786479324647644, 6.075628634188433, 5.880920633829646, 5.861118662788385, 5.706400357850953, 5.139131272438135, 4.702621380516803, 4.613034645059997, 4.575599072689329, 4.439102343068953, 4.044015904107027, 6.268195409742248, 3.936982822916434, 3.943776769881879, 3.896073949764059, 3.747304059953194, 24.725471791884274, 14.657805474346787, 32.09166188896438, 6.200549174716343, 6.9313272053916535, 16.747214753149365, 5.977671238183575, 10.508838860872856, 11.634854172486712, 26.012260909003317, 42.691258479115504, 87.30292414692872, 18.236161976839867, 113.61055409415985, 796.2191357914494, 526.0784590802132, 50.948219606178554, 27.000816504579234, 1397.083488012053, 118.14294672265555, 81.33851895241514, 167.06127552708585, 2034.3560175581372, 147.30738295615652, 204.96341302959786, 187.26224979015205, 81.43235561137476, 63.73953681204148, 56.192010368644105, 49.46746174435839, 38.64241970120543, 37.89953870482509, 37.03709321462384, 36.58396882280226, 33.86907555434823, 29.95035603882002, 26.653816629571338, 26.320515206056598, 23.604041995316493, 23.45367659439853, 23.204467479980394, 23.200204355425512, 22.525629598436353, 22.465735561019073, 28.818369118374903, 19.436831174817144, 27.220846075478676, 18.822875521477044, 18.750154088820864, 18.400813183400942, 18.411577966873438, 17.896869888470746, 16.500521867025327, 16.284793427690374, 34.579037175843496, 31.77478814133883, 28.70305315891801, 45.2300074445252, 78.09826862632872, 196.43899527576627, 44.58844517094144, 48.45108712050455, 47.77156087614253, 53.91183087752279, 88.96911112016551, 273.12216761949935, 318.99108422933796, 118.14294672265555, 168.4046686000861, 105.14697473509705, 83.00068844866905, 152.84154116176092, 72.2926064200301, 91.26172196475659, 266.42477159738155, 105.08695092247126, 276.9972842446573, 400.1897034742292, 238.45034373251156, 294.38822442333367, 895.4794556794202, 92.42679782515006], \"Category\": [\"Default\", \"Default\", \"Default\", \"Default\", \"Default\", \"Default\", \"Default\", \"Default\", \"Default\", \"Default\", \"Default\", \"Default\", \"Default\", \"Default\", \"Default\", \"Default\", \"Default\", \"Default\", \"Default\", \"Default\", \"Default\", \"Default\", \"Default\", \"Default\", \"Default\", \"Default\", \"Default\", \"Default\", \"Default\", \"Default\", \"Topic1\", \"Topic1\", \"Topic1\", \"Topic1\", \"Topic1\", \"Topic1\", \"Topic1\", \"Topic1\", \"Topic1\", \"Topic1\", \"Topic1\", \"Topic1\", \"Topic1\", \"Topic1\", \"Topic1\", \"Topic1\", \"Topic1\", \"Topic1\", \"Topic1\", \"Topic1\", \"Topic1\", \"Topic1\", \"Topic1\", \"Topic1\", \"Topic1\", \"Topic1\", \"Topic1\", \"Topic1\", \"Topic1\", \"Topic1\", \"Topic1\", \"Topic1\", \"Topic1\", \"Topic1\", \"Topic1\", \"Topic1\", \"Topic1\", \"Topic1\", \"Topic1\", \"Topic1\", \"Topic1\", \"Topic1\", \"Topic1\", \"Topic1\", \"Topic1\", \"Topic1\", \"Topic1\", \"Topic1\", \"Topic1\", \"Topic1\", \"Topic1\", \"Topic1\", \"Topic1\", \"Topic1\", \"Topic1\", \"Topic2\", \"Topic2\", \"Topic2\", \"Topic2\", \"Topic2\", \"Topic2\", \"Topic2\", \"Topic2\", \"Topic2\", \"Topic2\", \"Topic2\", \"Topic2\", \"Topic2\", \"Topic2\", \"Topic2\", \"Topic2\", \"Topic2\", \"Topic2\", \"Topic2\", \"Topic2\", \"Topic2\", \"Topic2\", \"Topic2\", \"Topic2\", \"Topic2\", \"Topic2\", \"Topic2\", \"Topic2\", \"Topic2\", \"Topic2\", \"Topic2\", \"Topic2\", \"Topic2\", \"Topic2\", \"Topic2\", \"Topic2\", \"Topic2\", \"Topic2\", \"Topic2\", \"Topic2\", \"Topic2\", \"Topic2\", \"Topic2\", \"Topic2\", \"Topic2\", \"Topic2\", \"Topic2\", \"Topic2\", \"Topic2\", \"Topic2\", \"Topic2\", \"Topic3\", \"Topic3\", \"Topic3\", \"Topic3\", \"Topic3\", \"Topic3\", \"Topic3\", \"Topic3\", \"Topic3\", \"Topic3\", \"Topic3\", \"Topic3\", \"Topic3\", \"Topic3\", \"Topic3\", \"Topic3\", \"Topic3\", \"Topic3\", \"Topic3\", \"Topic3\", \"Topic3\", \"Topic3\", \"Topic3\", \"Topic3\", \"Topic3\", \"Topic3\", \"Topic3\", \"Topic3\", \"Topic3\", \"Topic3\", \"Topic3\", \"Topic3\", \"Topic3\", \"Topic3\", \"Topic3\", \"Topic3\", \"Topic3\", \"Topic3\", \"Topic3\", \"Topic3\", \"Topic3\", \"Topic3\", \"Topic3\", \"Topic3\", \"Topic3\", \"Topic4\", \"Topic4\", \"Topic4\", \"Topic4\", \"Topic4\", \"Topic4\", \"Topic4\", \"Topic4\", \"Topic4\", \"Topic4\", \"Topic4\", \"Topic4\", \"Topic4\", \"Topic4\", \"Topic4\", \"Topic4\", \"Topic4\", \"Topic4\", \"Topic4\", \"Topic4\", \"Topic4\", \"Topic4\", \"Topic4\", \"Topic4\", \"Topic4\", \"Topic4\", \"Topic4\", \"Topic4\", \"Topic4\", \"Topic4\", \"Topic4\", \"Topic4\", \"Topic4\", \"Topic4\", \"Topic4\", \"Topic4\", \"Topic4\", \"Topic4\", \"Topic4\", \"Topic4\", \"Topic4\", \"Topic4\", \"Topic4\", \"Topic4\", \"Topic4\", \"Topic4\", \"Topic4\", \"Topic4\", \"Topic4\", \"Topic4\", \"Topic4\", \"Topic5\", \"Topic5\", \"Topic5\", \"Topic5\", \"Topic5\", \"Topic5\", \"Topic5\", \"Topic5\", \"Topic5\", \"Topic5\", \"Topic5\", \"Topic5\", \"Topic5\", \"Topic5\", \"Topic5\", \"Topic5\", \"Topic5\", \"Topic5\", \"Topic5\", \"Topic5\", \"Topic5\", \"Topic5\", \"Topic5\", \"Topic5\", \"Topic5\", \"Topic5\", \"Topic5\", \"Topic5\", \"Topic5\", \"Topic5\", \"Topic5\", \"Topic5\", \"Topic5\", \"Topic5\", \"Topic5\", \"Topic5\", \"Topic5\", \"Topic5\", \"Topic5\", \"Topic5\", \"Topic5\", \"Topic5\", \"Topic5\", \"Topic5\", \"Topic5\", \"Topic5\", \"Topic6\", \"Topic6\", \"Topic6\", \"Topic6\", \"Topic6\", \"Topic6\", \"Topic6\", \"Topic6\", \"Topic6\", \"Topic6\", \"Topic6\", \"Topic6\", \"Topic6\", \"Topic6\", \"Topic6\", \"Topic6\", \"Topic6\", \"Topic6\", \"Topic6\", \"Topic6\", \"Topic6\", \"Topic6\", \"Topic6\", \"Topic6\", \"Topic6\", \"Topic6\", \"Topic6\", \"Topic6\", \"Topic6\", \"Topic6\", \"Topic6\", \"Topic6\", \"Topic6\", \"Topic6\", \"Topic6\", \"Topic6\", \"Topic6\", \"Topic6\", \"Topic6\", \"Topic6\", \"Topic6\", \"Topic6\", \"Topic6\", \"Topic6\", \"Topic6\", \"Topic6\", \"Topic6\", \"Topic6\", \"Topic6\", \"Topic6\", \"Topic6\", \"Topic6\", \"Topic6\", \"Topic7\", \"Topic7\", \"Topic7\", \"Topic7\", \"Topic7\", \"Topic7\", \"Topic7\", \"Topic7\", \"Topic7\", \"Topic7\", \"Topic7\", \"Topic7\", \"Topic7\", \"Topic7\", \"Topic7\", \"Topic7\", \"Topic7\", \"Topic7\", \"Topic7\", \"Topic7\", \"Topic7\", \"Topic7\", \"Topic7\", \"Topic7\", \"Topic7\", \"Topic7\", \"Topic7\", \"Topic7\", \"Topic7\", \"Topic7\", \"Topic7\", \"Topic7\", \"Topic7\", \"Topic7\", \"Topic7\", \"Topic7\", \"Topic7\", \"Topic7\", \"Topic7\", \"Topic7\", \"Topic7\", \"Topic7\", \"Topic7\", \"Topic7\", \"Topic7\", \"Topic7\", \"Topic7\", \"Topic7\", \"Topic7\", \"Topic7\", \"Topic7\", \"Topic7\", \"Topic7\", \"Topic7\", \"Topic7\", \"Topic7\", \"Topic7\", \"Topic7\"], \"logprob\": [30.0, 29.0, 28.0, 27.0, 26.0, 25.0, 24.0, 23.0, 22.0, 21.0, 20.0, 19.0, 18.0, 17.0, 16.0, 15.0, 14.0, 13.0, 12.0, 11.0, 10.0, 9.0, 8.0, 7.0, 6.0, 5.0, 4.0, 3.0, 2.0, 1.0, -3.2881, -4.3998, -4.5763, -4.7961, -4.9987, -4.9992, -5.0891, -5.3103, -5.3117, -5.4755, -5.4844, -5.4922, -5.6391, -5.6729, -5.68, -5.0289, -5.7164, -5.7741, -5.794, -5.8637, -5.8621, -5.8828, -5.8897, -6.0199, -6.023, -6.0398, -6.1446, -5.6993, -6.2193, -6.2215, -5.1641, -4.6684, -5.0614, -5.3458, -5.3655, -5.4718, -5.4278, -5.2183, -5.4538, -5.4921, -5.6533, -5.5144, -4.6202, -5.3356, -5.2864, -5.0619, -4.9307, -4.7518, -5.333, -5.0911, -5.0079, -5.019, -5.0844, -5.4427, -5.4219, -2.5271, -4.1658, -4.4941, -4.4961, -4.6137, -4.6168, -4.7388, -4.7653, -4.8684, -4.7543, -4.9217, -4.9286, -5.2242, -3.7922, -5.373, -5.4427, -5.5007, -5.5159, -5.3669, -5.5698, -5.6106, -5.3838, -5.6735, -5.7335, -5.7187, -5.7939, -5.7981, -5.798, -5.8017, -5.8062, -5.5066, -4.164, -4.4235, -3.9798, -5.4604, -4.593, -5.6281, -5.1844, -5.0061, -5.1693, -4.9479, -4.6084, -4.6459, -5.3634, -5.2249, -4.6589, -5.0246, -5.2547, -5.3193, -5.2772, -5.2925, -3.6855, -3.7358, -3.7801, -4.2484, -4.3969, -4.5971, -4.6278, -4.6392, -4.2441, -4.9247, -5.0079, -5.0116, -5.0906, -5.1453, -5.1806, -5.1989, -5.2385, -4.6816, -5.2523, -5.2446, -5.3751, -5.4015, -5.4395, -5.5834, -5.6184, -5.6402, -5.6948, -5.7002, -5.7004, -5.7025, -3.8656, -4.6976, -4.5743, -4.4069, -5.0547, -5.0657, -4.4478, -4.791, -5.0075, -4.9862, -5.063, -5.1192, -5.0103, -5.1636, -5.1639, -3.8277, -4.0657, -4.0757, -4.3252, -4.37, -4.4611, -4.8107, -4.0108, -4.9111, -5.0686, -5.1723, -5.1793, -4.5995, -5.234, -5.2568, -5.3749, -5.3892, -5.4139, -5.4203, -5.4959, -5.5904, -5.3196, -4.9954, -5.7359, -5.7659, -4.8081, -5.8206, -5.8716, -5.9387, -4.3793, -5.3082, -4.7547, -4.4916, -4.9927, -5.5433, -4.9349, -5.1845, -4.5691, -5.1345, -4.8757, -4.9145, -4.4362, -4.6759, -5.0349, -4.4757, -5.1484, -4.4959, -4.8565, -4.4366, -4.9659, -5.0054, -4.5201, -4.5659, -4.7085, -4.7217, -4.8116, -4.99, -5.1521, -5.1823, -5.2502, -4.6259, -5.3059, -5.3143, -5.4122, -5.3254, -5.5658, -5.6257, -5.6268, -5.6227, -5.6754, -5.6759, -5.7117, -5.7276, -5.7274, -5.7359, -5.4864, -5.7506, -5.7759, -5.8125, -5.8167, -5.6275, -4.7602, -5.1052, -4.6668, -4.7139, -5.5366, -4.826, -4.7982, -5.2919, -5.3161, -5.0937, -4.9434, -5.2765, -5.4366, -5.4978, -5.4963, -5.4878, -3.6359, -3.8932, -3.9256, -4.16, -4.1992, -4.4838, -4.5259, -4.6599, -4.7024, -4.8025, -4.889, -4.8135, -5.2012, -5.211, -5.3375, -5.3737, -5.3782, -5.4086, -5.5304, -5.6361, -5.659, -5.6689, -5.7054, -5.8191, -5.3845, -5.8529, -5.8527, -5.8656, -5.9154, -4.0349, -4.5725, -3.9102, -5.452, -5.3802, -4.7336, -5.534, -5.246, -5.2568, -4.92, -4.759, -4.5611, -5.1049, -4.5559, -4.1216, -4.3053, -4.9377, -5.0801, -4.349, -4.846, -4.9178, -4.8863, -4.9065, -5.0578, -3.5067, -3.5974, -4.4354, -4.6829, -4.8106, -4.9399, -5.1912, -5.211, -5.2345, -5.2472, -5.3259, -5.4518, -5.5716, -5.5846, -5.6969, -5.7034, -5.7145, -5.7148, -5.7452, -5.748, -5.5014, -5.8983, -5.5623, -5.9316, -5.9357, -5.9552, -5.9547, -5.9843, -6.0692, -6.0831, -5.3313, -5.4411, -5.539, -5.1201, -4.6364, -3.8068, -5.1735, -5.1183, -5.1385, -5.0928, -4.7245, -3.9981, -3.9006, -4.6815, -4.4878, -4.7801, -4.9206, -4.5962, -5.0322, -4.9703, -4.5411, -4.9329, -4.6112, -4.5174, -4.846, -4.8292, -4.6473, -5.1426], \"loglift\": [30.0, 29.0, 28.0, 27.0, 26.0, 25.0, 24.0, 23.0, 22.0, 21.0, 20.0, 19.0, 18.0, 17.0, 16.0, 15.0, 14.0, 13.0, 12.0, 11.0, 10.0, 9.0, 8.0, 7.0, 6.0, 5.0, 4.0, 3.0, 2.0, 1.0, 0.1898, 0.1898, 0.1898, 0.1898, 0.1897, 0.1897, 0.1897, 0.1897, 0.1897, 0.1896, 0.1896, 0.1896, 0.1896, 0.1896, 0.1896, 0.1896, 0.1896, 0.1896, 0.1896, 0.1895, 0.1895, 0.1895, 0.1895, 0.1895, 0.1895, 0.1895, 0.1894, 0.1894, 0.1894, 0.1894, 0.1886, 0.1833, 0.1865, 0.1887, 0.1886, 0.189, 0.1881, 0.1851, 0.1874, 0.1876, 0.1892, 0.1877, 0.176, 0.1855, 0.1843, 0.1787, 0.1744, 0.1657, 0.1814, 0.1706, 0.1642, 0.147, 0.1193, 0.1653, 0.1473, 3.3411, 3.3368, 3.3347, 3.3347, 3.3338, 3.3338, 3.3327, 3.3324, 3.3314, 3.3313, 3.3308, 3.3307, 3.3267, 3.3235, 3.3234, 3.3231, 3.322, 3.3217, 3.3209, 3.3206, 3.3197, 3.3187, 3.3179, 3.3169, 3.3168, 3.3153, 3.3152, 3.3152, 3.3151, 3.3149, 3.3141, 3.2814, 3.2698, 3.2442, 3.2845, 3.1875, 3.2916, 3.1543, 3.095, 3.126, 2.9969, 2.6795, 2.5992, 3.1875, 3.0335, 1.076, 1.7786, 2.1131, 2.6597, 1.8566, 1.8259, 5.6527, 5.6508, 5.6491, 5.626, 5.6162, 5.6009, 5.5981, 5.5974, 5.5813, 5.5684, 5.5588, 5.5584, 5.5481, 5.5403, 5.5362, 5.5335, 5.5276, 5.5257, 5.5255, 5.5254, 5.5059, 5.5013, 5.4946, 5.468, 5.4609, 5.4561, 5.4448, 5.4435, 5.4432, 5.4428, 5.3027, 5.2057, 4.8932, 3.6493, 4.5413, 4.0601, 2.4132, 2.6876, 3.5646, 3.2807, 3.5537, 3.4112, 0.7245, 3.4904, 2.1921, 3.0405, 3.0398, 3.0397, 3.0387, 3.0385, 3.0381, 3.0359, 3.0345, 3.034, 3.0337, 3.0326, 3.0326, 3.0325, 3.032, 3.0317, 3.0303, 3.0301, 3.0297, 3.0297, 3.0286, 3.0271, 3.0269, 3.0251, 3.0247, 3.0241, 3.0231, 3.023, 3.0219, 3.0205, 3.0204, 3.0163, 3.0036, 2.9869, 2.9946, 3.0169, 2.9754, 2.9914, 2.8526, 2.9598, 2.8831, 2.873, 2.6821, 2.7259, 2.8514, 2.3326, 2.9076, 1.7599, 2.3886, 1.3383, 0.8318, 0.835, 2.9065, 2.9062, 2.9054, 2.9053, 2.9048, 2.9035, 2.9021, 2.9018, 2.9011, 2.9009, 2.9006, 2.9005, 2.8993, 2.8981, 2.8973, 2.8965, 2.8965, 2.8962, 2.8958, 2.8957, 2.8951, 2.8949, 2.8949, 2.8948, 2.8947, 2.8945, 2.8941, 2.8935, 2.8934, 2.8933, 2.7999, 2.801, 2.6959, 2.7042, 2.8401, 2.6228, 2.5959, 2.6375, 2.5656, 1.8222, 1.3022, 2.0351, 1.852, 1.9482, 1.3268, 0.1326, 5.3796, 5.3755, 5.3692, 5.3655, 5.3637, 5.3492, 5.3467, 5.3379, 5.3283, 5.3273, 5.3203, 5.3029, 5.2897, 5.2883, 5.2724, 5.2688, 5.2677, 5.264, 5.2469, 5.23, 5.2263, 5.2246, 5.2184, 5.1979, 5.1942, 5.1909, 5.1893, 5.1887, 5.1778, 5.1715, 5.1567, 5.0354, 5.1376, 5.098, 4.8624, 5.0922, 4.816, 4.7034, 4.2357, 3.9012, 3.3838, 4.4059, 3.1256, 1.6128, 1.8435, 3.5457, 4.0382, 0.8231, 2.7963, 3.0978, 2.4095, -0.1102, 2.3639, 3.5847, 3.5843, 3.5791, 3.5765, 3.5749, 3.573, 3.5687, 3.5683, 3.5678, 3.5675, 3.5658, 3.5629, 3.5597, 3.5593, 3.5559, 3.5558, 3.5554, 3.5552, 3.5544, 3.5542, 3.5518, 3.5488, 3.548, 3.5475, 3.5473, 3.5466, 3.5465, 3.5453, 3.5417, 3.5409, 3.5397, 3.5145, 3.5183, 3.4824, 3.4199, 3.3271, 3.4433, 3.4154, 3.4093, 3.3341, 3.2014, 2.8062, 2.7484, 2.9609, 2.8001, 2.9788, 3.0748, 2.7887, 3.1013, 2.9302, 2.288, 2.8265, 2.179, 1.9049, 2.094, 1.9001, 0.9696, 2.7452]}, \"token.table\": {\"Topic\": [1, 2, 3, 7, 1, 4, 5, 6, 7, 1, 3, 4, 1, 3, 4, 5, 6, 7, 1, 4, 1, 1, 7, 1, 2, 3, 5, 1, 6, 1, 6, 1, 7, 1, 1, 2, 1, 5, 6, 1, 3, 4, 7, 1, 5, 7, 1, 6, 1, 3, 1, 3, 4, 1, 3, 4, 1, 4, 1, 3, 1, 5, 1, 4, 6, 7, 1, 5, 1, 3, 5, 1, 4, 5, 7, 1, 3, 4, 1, 3, 1, 1, 2, 3, 4, 6, 1, 2, 5, 1, 2, 1, 7, 1, 2, 1, 2, 1, 4, 6, 1, 3, 5, 6, 1, 4, 5, 1, 3, 6, 1, 3, 7, 1, 1, 6, 1, 2, 3, 4, 5, 1, 3, 4, 1, 3, 1, 5, 1, 4, 1, 3, 1, 3, 5, 1, 4, 5, 6, 7, 1, 3, 4, 1, 2, 5, 6, 7, 1, 3, 1, 1, 7, 1, 2, 7, 1, 2, 4, 5, 1, 2, 1, 2, 1, 2, 3, 4, 1, 1, 3, 1, 1, 7, 1, 2, 1, 3, 1, 6, 1, 1, 6, 1, 4, 1, 4, 5, 7, 1, 1, 3, 4, 6, 1, 2, 4, 1, 2, 1, 4, 1, 7, 1, 7, 1, 4, 1, 3, 1, 2, 3, 1, 3, 7, 1, 2, 3, 4, 1, 3, 1, 2, 4, 6, 7, 1, 3, 1, 1, 4, 1, 6, 1, 2, 3, 5, 1, 3, 6, 1, 5, 1, 3, 5, 6, 7, 1, 3, 4, 6, 1, 4, 1, 4, 1, 5, 1, 1, 1, 3, 6, 1, 3, 7, 1, 7, 1, 3, 7, 1, 3, 4, 6, 7, 1, 3, 6, 1, 3, 1, 3, 6, 7, 1, 1, 2, 3, 4, 5, 6, 7, 1, 2, 5, 1, 3, 1, 5, 6, 1, 6, 1, 3, 6, 1, 5, 1, 4, 5, 6, 7, 1, 4, 1, 6, 1, 3, 1, 4, 1, 5, 7, 1, 1, 2, 4, 5, 7, 1, 3, 5, 7, 1, 5, 1, 3, 6, 1, 4, 6, 1, 1, 7, 1, 2, 4, 1, 3, 1, 7, 1, 3, 1, 3, 1, 4, 1, 2, 5, 6, 7, 1, 3, 1, 7, 1, 5, 1, 2, 1, 2, 1, 6, 1, 6, 1, 2, 3, 5, 1, 3, 7, 1, 4, 7, 1, 4, 1, 1, 4, 6, 1, 2, 1, 5, 6, 1, 4, 5, 7, 1, 5, 1, 2, 1, 7, 1, 2, 5, 7, 1, 4, 5, 6, 7, 1, 3, 1, 2, 3, 1, 5, 6, 1, 2, 3, 5, 6, 1, 6, 1, 1, 3, 1, 5, 1, 7, 1, 2, 5, 1, 7, 1, 2, 1, 4, 1, 3, 1, 7, 1, 7, 1, 5, 1, 4, 5, 6, 7, 1, 7, 1, 5, 1, 4, 1, 6, 1, 7, 1, 7, 1, 3, 6, 1, 7, 1, 3, 1, 7, 1, 3, 4, 5, 6, 7, 1, 2, 4, 5, 6, 1, 3, 1, 2, 4, 5, 7, 1, 3, 4, 1, 5, 1, 2, 3, 1, 5, 7, 1, 2, 1, 3, 4, 6, 7, 1, 4, 5, 6, 7, 1, 2, 1, 5, 7, 1, 7, 1, 5, 1, 6, 1, 4, 1, 6, 1, 2, 1, 2, 5, 7, 1, 5, 1, 1, 2, 1, 2, 1, 2, 4, 6, 1, 5, 1, 6, 1, 7, 1, 7, 1, 2, 1, 1, 6, 1, 4, 1, 4, 1, 7, 1, 3, 1, 3, 5, 7, 1, 2, 1, 6, 1, 7, 1, 2, 4, 7, 1, 5, 1, 3, 1, 2, 1, 4, 1, 2, 4, 5, 1, 3, 5, 7, 1, 5, 1, 5, 1, 3, 6, 1, 3, 4, 6, 1, 1, 5, 1, 3, 7, 1, 2, 5, 1, 1, 4, 7, 1, 3, 1, 5, 1, 1, 1, 6, 1, 3, 1, 1, 2, 1, 1, 5, 7, 1, 4, 1, 5, 7, 1, 3, 5, 1, 2, 3, 5, 1, 2, 1, 5, 1, 5, 1, 1, 3, 7, 1, 3, 1, 3, 6, 1, 2, 1, 2, 1, 6, 1, 6, 1, 3, 1, 4, 6, 1, 3, 1, 3, 7, 1, 3, 4, 6, 1, 3, 4, 1, 5, 1, 2, 3, 5, 1, 1, 4, 1, 5, 6, 1, 3, 4, 6, 1, 6, 1, 6, 1, 6, 1, 6, 1, 4, 1, 2, 6, 1, 5, 7, 1, 6, 7, 1, 7, 1, 6, 1, 3, 7, 1, 2, 1, 1, 5, 7, 1, 2, 1, 3, 4, 1, 1, 3, 1, 2, 4, 1, 2, 7, 1, 1, 3, 6, 1, 4, 1, 2, 3, 4, 6, 7, 1, 4, 1, 4, 7, 1, 2, 1, 4, 7, 1, 7, 1, 5, 1, 7, 1, 6, 1, 6, 1, 2, 3, 6, 7, 1, 3, 1, 5, 1, 2, 5, 7, 1, 5, 1, 2, 4, 1, 3, 1, 7, 1, 6, 1, 4, 1, 2, 4, 5, 7, 1, 1, 6, 1, 3, 1, 3, 5, 7, 1, 5, 1, 2, 3, 7, 1, 7, 1, 5, 7, 1, 5, 1, 2, 1, 2, 4, 5, 7, 1, 2, 1, 4, 1, 2, 1, 2, 1, 5, 1, 3, 1, 2, 5, 1, 5, 1, 2, 6, 1, 6, 1, 3, 1, 5, 1, 6, 1, 2, 1, 4, 5, 6, 7, 1, 4, 1, 7, 1, 4, 1, 3, 1, 5, 1, 7], \"Freq\": [0.87189825990347, 0.04262613715083631, 0.038751033773487556, 0.050376343905533826, 0.48696157166301196, 0.014645460801895096, 0.03661365200473774, 0.003661365200473774, 0.45767065005922175, 0.0071856937308161775, 0.05029985611571324, 0.9485115724677354, 0.03703591703719048, 0.11110775111157145, 0.29628733629752385, 0.03703591703719048, 0.25925141926033335, 0.29628733629752385, 0.014959788046794013, 0.9873460110884049, 0.999750367150097, 0.06060414379974259, 0.9696663007958815, 0.9812073486192554, 0.005973865136190292, 0.004480398852142718, 0.008960797704285437, 0.25356404744732836, 0.760692142341985, 0.9989138697880816, 0.0008574367981013576, 0.012280131066972554, 0.9946906164247769, 1.0002092786785453, 0.02099973129069934, 0.986987370662869, 0.6591062627465633, 0.33569387295166575, 0.004093827718922753, 0.9582145516654751, 0.0007113693776284151, 0.027743405727508188, 0.013516018174939887, 0.012048092837427969, 0.397587063635123, 0.6024046418713984, 0.043045615216608685, 0.9470035347653911, 0.27953111848649903, 0.8385933554594971, 0.11412015178792669, 0.02853003794698167, 0.8559011384094501, 0.012353808151160325, 0.012353808151160325, 0.9759508439416656, 0.01840874310597831, 0.9940721277228287, 0.04613997902290433, 0.968939559480991, 0.6190392609435958, 0.3825523522685143, 0.006788526005499892, 0.8282001726709868, 0.04751968203849924, 0.11540494209349815, 0.020335533072749733, 0.9761055874919872, 0.007540907389652013, 0.007540907389652013, 0.9878588680444137, 0.9076946505175831, 0.0044824427186053485, 0.06163358738082355, 0.02465343495232942, 0.008376964029667307, 0.008376964029667307, 0.9884817555007422, 0.14643766075560563, 0.8786259645336337, 0.9997852923208875, 0.9316045907854246, 0.029551295504692293, 0.0007387823876173073, 0.03472277221801345, 0.002216347162851922, 0.75741308546477, 0.037310989431762066, 0.20521044187469137, 0.011485213220536633, 0.9877283369661506, 0.9809104330471997, 0.018788388182867353, 0.0014357527688680092, 0.9992839271321343, 0.01300103913539016, 0.9880789742896521, 0.010223365101565447, 0.9814430497502828, 0.010223365101565447, 0.054836099902491074, 0.10967219980498215, 0.49352489912241965, 0.3838526993174375, 0.0077959263487991535, 0.101347042534389, 0.8965315301119027, 0.07511000103978081, 0.9013200124773698, 0.07511000103978081, 0.8694426103685736, 0.09484828476748076, 0.031616094922493586, 0.9992146184080237, 0.25400161620700723, 0.7620048486210217, 0.8764492356912389, 0.012042813925528473, 0.0013380904361698304, 0.10972341576592609, 0.0013380904361698304, 0.014431691384756902, 0.0432950741542707, 0.9524916313939554, 0.2631708673971176, 0.7895126021913528, 0.0245206684295842, 0.980826737183368, 0.004948009450778364, 0.9945498996064511, 0.4059570667571947, 0.6495313068115115, 0.994923154027132, 0.001804031104310303, 0.0027060466564654546, 0.00676400453603785, 0.11498807711264344, 0.811680544324542, 0.00676400453603785, 0.06087604082434065, 0.5036412505209341, 0.007352427014904148, 0.4926126099985779, 0.009718891637444016, 0.8552624640950733, 0.10690780801188417, 0.009718891637444016, 0.019437783274888033, 0.2806532225782435, 0.8419596677347304, 0.9998114703740896, 0.053126845516190783, 0.9562832192914341, 0.03147149228979454, 0.06294298457958908, 0.9441447686938362, 0.6045905415789189, 0.2894316422452271, 0.05145451417692927, 0.05145451417692927, 0.034088460964691945, 0.9885653679760665, 0.03697847235285344, 0.9614402811741893, 0.005571072210856571, 0.908084770369621, 0.005571072210856571, 0.08356608316284855, 0.9994811530860849, 0.22761581372221143, 0.9104632548888457, 0.9996994421214844, 0.03751807907654547, 0.9754700559901821, 0.02797006715285428, 0.9789523503498998, 0.2559150648972098, 0.7677451946916294, 0.21677704091619585, 0.8671081636647834, 0.9995313867295271, 0.25666863948015123, 0.7700059184404536, 0.0064070932595441735, 0.993099455229347, 0.3729352607068627, 0.1373972013130547, 0.039256343232301344, 0.4514479471714654, 0.9991919742009455, 0.9860614281308671, 0.0014746681377829517, 0.007864896734842409, 0.003932448367421204, 0.013301050788836189, 0.06650525394418094, 0.917772504429697, 0.027500859175167147, 0.9625300711308502, 0.029580560847020376, 0.9761585079516724, 0.042365625353421234, 0.9744093831286884, 0.03799317726766574, 0.9878226089593093, 0.026669278725064513, 0.9867633128273869, 0.21584819005750533, 0.8633927602300213, 0.03731359561652878, 0.7835855079471042, 0.18656797808264386, 0.9835970435670248, 0.002747477775326885, 0.013737388876634424, 0.015672671748750085, 0.736615572191254, 0.015672671748750085, 0.25076274798000137, 0.19241070225466972, 0.7696428090186789, 0.2708583194147091, 0.09310754729880626, 0.02539296744512898, 0.07617890233538695, 0.5332523163477086, 0.18313930353292962, 0.9156965176646481, 1.000288221570873, 0.0066994697786793116, 0.9982209970232174, 0.04418170421820726, 0.9719974928005597, 0.008906776209239707, 0.9263047257609296, 0.008906776209239707, 0.05344065725543824, 0.9758620021454956, 0.0012559356526969055, 0.0226068417485443, 0.015003676999667094, 0.9902426819780282, 0.9417468636092798, 0.003062591426371642, 0.04900146282194627, 0.003062591426371642, 0.003062591426371642, 0.8148241040438986, 0.002615807717636914, 0.1817986363757655, 0.001307903858818457, 0.020450795619783343, 0.9816381897496005, 0.0049977101064368696, 0.9945443111809371, 0.9978039531487577, 0.002288541176946692, 0.9990118151263754, 0.9987504117842799, 0.04044412209469885, 0.1617764883787954, 0.7684383197992782, 0.038931470375758365, 0.6618349963878922, 0.2725202926303086, 0.029525458951347627, 0.9743401453944717, 0.05251061524592199, 0.4725955372132979, 0.5251061524592199, 0.010802476094879518, 0.021604952189759035, 0.8209881832108433, 0.021604952189759035, 0.11882723704367469, 0.14427251381555506, 0.14427251381555506, 0.7213625690777753, 0.8845562197242516, 0.11638897627950678, 0.059711421555154236, 0.29855710777577116, 0.5971142155515423, 0.059711421555154236, 0.9992251258350242, 0.9582758405811187, 0.01597126400968531, 0.0021295018679580416, 0.005323754669895104, 0.008518007471832166, 0.0010647509339790208, 0.008518007471832166, 0.011020024711163472, 0.09918022240047124, 0.8926220016042412, 0.09061831759094388, 0.9061831759094388, 0.797870569048825, 0.2010382536186016, 0.0020941484751937664, 0.225270769339518, 0.901083077358072, 0.06822303664420572, 0.20466910993261714, 0.7504534030862628, 0.024621205834896884, 0.9848482333958753, 0.011239856028789104, 0.23603697660457118, 0.011239856028789104, 0.05619928014394552, 0.6743913617273463, 0.723493390107412, 0.2771275850996227, 0.1004729794627997, 0.9042568151651973, 0.11331094717801726, 0.9064875774241381, 0.014857639418755527, 0.9954618410566203, 0.01764144511910962, 0.9349965913128099, 0.052924335357328864, 0.9999989392035626, 0.011852703968153648, 0.5096662706306069, 0.09482163174522919, 0.3437284150764558, 0.047410815872614594, 0.00951049711624475, 0.00951049711624475, 0.4374828673472585, 0.5420983356259508, 0.019233144196481273, 0.9808903540205449, 0.9952617882320391, 0.002730485015725759, 0.0013652425078628796, 0.004659039286180946, 0.9923753679565417, 0.004659039286180946, 0.9998886460763837, 0.04451223051584066, 0.9792690713484946, 0.016982234461978746, 0.8321294886369586, 0.1528401101578087, 0.9986430846382464, 0.0010284686762494814, 0.04263723838670271, 0.9806564828941624, 0.15814659275122253, 0.9488795565073352, 0.17752349464267433, 0.8876174732133716, 0.011456623924047572, 0.9852696574680911, 0.6906264717683945, 0.022520428427230257, 0.011260214213615128, 0.0037534047378717096, 0.2739985458646348, 0.19467187634195146, 0.7786875053678058, 0.05434542430451296, 0.9782176374812332, 0.009115211626958912, 0.9935580673385213, 0.02407848036316107, 0.987217694889604, 0.02755837946221717, 0.9921016606398182, 0.03341454064048423, 0.9690216785740426, 0.10182902528878214, 0.9164612275990393, 0.9888480106376841, 0.009965134990922398, 0.0007665488454555691, 0.0007665488454555691, 0.925761048723356, 0.0011167202035263642, 0.07258681322921368, 0.03483949928474076, 0.03483949928474076, 0.9406664806880005, 0.022444824026839436, 0.9875722571809352, 1.000262752542405, 0.01962777124951249, 0.8243663924795246, 0.15702216999609991, 0.015581379536341734, 0.9816269107895292, 0.02342399909548692, 0.7729919701510685, 0.2108159918593823, 0.006974635992889046, 0.013949271985778092, 0.746286051239128, 0.23713762375822756, 0.012777802231485752, 0.9966685740558886, 0.9846567462086941, 0.014726341547648724, 0.020215308502544035, 0.9905501166246578, 0.21505836774683357, 0.06451751032405008, 0.7096926135645508, 0.01075291838734168, 0.009787649488273577, 0.8417378559915276, 0.019575298976547154, 0.019575298976547154, 0.10766414437100934, 0.22060206065360968, 0.8824082426144387, 0.004998785051195055, 0.9797618700342308, 0.014996355153585165, 0.03844340957128728, 0.6535379627118837, 0.30754727657029823, 0.4425947320366235, 0.18441447168192646, 0.03688289433638529, 0.23359166413044016, 0.09835438489702744, 0.15953554964890934, 0.7976777482445467, 0.999861789797498, 0.9954545544253819, 0.004058938040470466, 0.022741369037580075, 0.9778788686159432, 0.06140698096296498, 0.9825116954074397, 0.0069514100536827795, 0.9384403572471752, 0.055611280429462236, 0.03470008992848902, 0.9716025179976926, 0.03714019410258401, 0.9656450466671843, 0.028137991991436555, 0.9848297197002794, 0.9983676957272852, 0.001048705562738745, 0.036736550995776315, 0.9551503258901842, 0.004878919536022726, 0.9952995853486362, 0.01408194850470725, 0.9857363953295075, 0.9918972161795159, 0.00403210250479478, 0.001008025626198695, 0.001008025626198695, 0.00201605125239739, 0.01779612427887103, 0.9787868353379067, 0.0071396824361057674, 0.9924158586187017, 0.025896296169746664, 0.9840592544503732, 0.0756819643740836, 0.9081835724890032, 0.05431364991089979, 0.9776456983961962, 0.053332895039844806, 0.9599921107172065, 0.1672892268835896, 0.1672892268835896, 0.6691569075343584, 0.051448715637126365, 0.977525597105401, 0.9969313569077342, 0.003088865551999176, 0.02699995904660134, 0.9719985256776482, 0.8700124823660959, 0.0013964887357401216, 0.11032261012346961, 0.013964887357401217, 0.002792977471480243, 0.0013964887357401216, 0.013391768309362733, 0.7767225619430385, 0.13391768309362734, 0.0401753049280882, 0.0401753049280882, 0.1931685658116034, 0.7726742632464136, 0.009515929344431717, 0.25693009229965635, 0.057095576066590305, 0.2093504455774978, 0.4662805378771542, 0.0167434298592965, 0.0167434298592965, 0.9711189318391971, 0.9988683105266822, 0.0011669022319236943, 0.9471541861381786, 0.019070218512849235, 0.03178369752141539, 0.011278744220935324, 0.7556758628026667, 0.23685362863964182, 0.010199341327242884, 0.9893361087425598, 0.9762197715158518, 0.0011068251377730745, 0.011068251377730745, 0.004427300551092298, 0.007747775964411522, 0.10102989725767511, 0.4160054592963093, 0.3446902377026563, 0.017828805398413257, 0.11885870265608837, 0.03460074853042289, 0.9688209588518409, 0.02063937177535071, 0.14447560242745497, 0.8462142427893792, 0.055875692578186816, 0.9498867738291759, 0.00822730544032096, 0.9955039582788362, 0.05564525236329581, 0.9459692901760288, 0.007335443500876759, 0.9976203161192392, 0.9914979334312386, 0.006424392657221848, 0.029486647828255736, 0.9730593783324393, 0.020999017824672, 0.8609597308115519, 0.041998035649344, 0.083996071298688, 0.021438576003426753, 0.9861744961576308, 0.9996660717701042, 0.024434854214490855, 0.9773941685796341, 0.9977291599040675, 0.002378377020033534, 0.01280117589586943, 0.05120470358347772, 0.8704799609191213, 0.06400587947934715, 0.020376838263194932, 0.9780882366333566, 0.1706158939161039, 0.8530794695805196, 0.01568884949617461, 0.9883975182590005, 0.04310306860577906, 0.9482675093271393, 0.013346840520411048, 0.9876661985104176, 0.9993802759695106, 0.14735180822965527, 0.8841108493779316, 0.01898142776025996, 0.987034243533518, 0.0039028052735601555, 0.9991181500313998, 0.04439387567970204, 0.9766652649534449, 0.15762225984648168, 0.94573355907889, 0.00640003894354921, 0.00640003894354921, 0.8064049068872005, 0.18560112936292708, 0.015686809752282777, 0.9882690143938149, 0.1700414037638188, 0.850207018819094, 0.00534010459193249, 0.9985995586913757, 0.005011979991601004, 0.2205271196304442, 0.6966652188325396, 0.08019167986561607, 0.013165916734990011, 0.9874437551242509, 0.26767688513448035, 0.803030655403441, 0.03669920063710508, 0.9908784172018372, 0.02119322397534087, 0.9748883028656802, 0.01626274658238485, 0.8131373291192425, 0.0650509863295394, 0.1301019726590788, 0.976676709638291, 0.004803328080188317, 0.009606656160376634, 0.009606656160376634, 0.021426531696865894, 0.9856204580558311, 0.022206165434740816, 0.9770712791285958, 0.16127603730289697, 0.16127603730289697, 0.8063801865144848, 0.9913331075321836, 0.003740879651064844, 0.003740879651064844, 0.0024939197673765623, 1.0001150424355503, 0.015135251847884862, 0.983791370112516, 0.022427335067779084, 0.11213667533889543, 0.8746660676433844, 0.02549308064038606, 0.9432439836942842, 0.05098616128077212, 0.9994022861174259, 0.0927440214627292, 0.12984163004782087, 0.7790497802869252, 0.18602882703894694, 0.9301441351947347, 0.01771824739935282, 0.992221854363758, 0.9996496240766839, 0.9999621437608807, 0.11026430068300018, 0.8821144054640014, 0.884549582197701, 0.10285460258112802, 1.0005853743174093, 0.032618662544640464, 0.9785598763392138, 1.00042126345922, 0.022109215905535818, 0.08843686362214327, 0.9064778521269685, 0.03158501225461276, 0.9791353798929954, 0.010957496510817313, 0.47117234996514445, 0.5150023360084137, 0.9934104423070861, 0.0010391322618274958, 0.005715227440051227, 0.8368469841628944, 0.1042917412695499, 0.007539162019485535, 0.05277413413639875, 0.014781225561434427, 0.9903421126161066, 0.5776671265163215, 0.413488048453788, 0.020425425413290777, 0.9804204198379574, 0.9989989635869351, 0.025608762334658905, 0.1280438116732945, 0.8450891570437438, 0.9827842774529375, 0.014452709962543199, 0.8890019136452033, 0.008801999145002013, 0.10562398974002415, 0.013185768160101771, 0.9889326120076328, 0.011520116658125726, 0.9907300325988124, 0.17524182274105335, 0.8762091137052667, 0.2472789483801037, 0.7418368451403111, 0.8793527719345167, 0.1286857715026122, 0.09515799159536649, 0.38063196638146596, 0.570947949572199, 0.28112403754765813, 0.8433721126429744, 0.9831005804823231, 0.005003056389223018, 0.012507640973057545, 0.9759963129731292, 0.0005548586202234958, 0.020529768948269345, 0.002774293101117479, 0.0066408091894249715, 0.019922427568274916, 0.9761989508454708, 0.01488022831311358, 0.9820950686654963, 0.9863920417488886, 0.0025163062289512463, 0.00377445934342687, 0.00754891868685374, 0.9994506098007581, 0.016151360185554346, 0.9852329713188152, 0.031160742109896094, 0.28044667898906483, 0.685536326417714, 0.9689271614513197, 0.0020615471520240847, 0.020615471520240847, 0.008246188608096339, 0.057766734658585665, 0.9820344891959564, 0.21855061689490324, 0.874202467579613, 0.09223013581965772, 0.9223013581965772, 0.2126473553969389, 0.8505894215877556, 0.01711685137687707, 0.9756605284819929, 0.9948114416765832, 0.0038595982218296147, 0.0009648995554574037, 0.7045492045440654, 0.0712936695074352, 0.22646224431773532, 0.8679450072586747, 0.04788662109013378, 0.08380158690773412, 0.7545200328224199, 0.2454897714446151, 0.2668585158826131, 0.8005755476478393, 0.028919255180956515, 0.028919255180956515, 0.954335420971565, 0.026032773276178426, 0.9892453844947802, 0.9992423125265113, 0.05943479162371954, 0.7264252309565722, 0.21132370355100283, 0.010219878442731853, 0.9913282089449896, 0.01195029761435662, 0.03585089284306986, 0.9560238091485296, 1.0003320999619, 0.048431205912604955, 0.9686241182520992, 0.011066116861021272, 0.055330584305106366, 0.9295538163257869, 0.005090638946692705, 0.22398811365447902, 0.7686864809505984, 1.0000222479785483, 0.11003809101451234, 0.8803047281160987, 0.11003809101451234, 0.015791115864426206, 0.9948402994588509, 0.011454370054283911, 0.7101709433656025, 0.022908740108567822, 0.034363110162851734, 0.13745244065140694, 0.09163496043427129, 0.013407463188395379, 0.992152275941258, 0.009504914046274574, 0.959996318673732, 0.028514742138823723, 0.0073607138715741025, 0.9936963726625038, 0.020932956379480734, 0.14653069465636515, 0.8373182551792293, 0.5674139778460718, 0.43261397205943597, 0.01652722282641553, 0.9916333695849318, 0.0263855454228177, 0.9762651806442549, 0.07874272048783693, 0.9449126458540431, 0.16459202170008494, 0.8229601085004247, 0.9748880519216684, 0.0035788841847344656, 0.0035788841847344656, 0.010020875717256503, 0.007873545206415825, 0.1693930252596929, 0.8469651262984645, 0.023072229797235225, 0.9921058812811147, 0.7132066720723618, 0.20847579645192113, 0.02925976090553279, 0.04754711147149079, 0.020404075513017306, 0.9793956246248308, 0.005689578472540042, 0.4779245916933635, 0.5177516410011438, 0.07887735104584306, 0.9465282125501168, 0.04309514971040589, 0.9480932936289296, 0.08924444264882714, 0.8924444264882714, 0.01814963851659748, 0.9800804798962639, 0.010819372990631642, 0.19474871383136957, 0.06491623794378985, 0.302942443737686, 0.4327749196252657, 0.9983503646323519, 0.9713380032579625, 0.02851285723849205, 0.11210812136214052, 0.8968649708971241, 0.013832673208514034, 0.013832673208514034, 0.35964950342136487, 0.6086376211746175, 0.02255678519121279, 0.9924985484133627, 0.023752310629219425, 0.5166127561855225, 0.005938077657304856, 0.45723197961247397, 0.027334377110465782, 0.9840375759767682, 0.8050593751304104, 0.010190625001650763, 0.18343125002971375, 0.008335937507442343, 0.9919765633856388, 0.9984339101313534, 0.002432238514327292, 0.006654562989839958, 0.08650931886791946, 0.7253473658925556, 0.07320019288823955, 0.10647300783743933, 0.030685517258295332, 0.9819365522654506, 0.01886236091909542, 0.9808427677929618, 0.02428589537129354, 0.9714358148517416, 0.03684272286626796, 0.957910794522967, 0.010881027969085539, 0.990173545186784, 0.10901807620175662, 0.8721446096140529, 0.030362308032898546, 0.941231549019855, 0.030362308032898546, 0.022550651571550544, 0.9922286691482239, 0.08594864922026525, 0.4297432461013263, 0.5156918953215915, 0.1461201105619069, 0.8767206633714415, 0.2806835474601119, 0.8420506423803358, 0.02365319105038605, 0.9934340241162141, 0.19458541667599288, 0.7783416667039715, 0.0368492809308133, 0.9580813042011457, 0.7446468447661851, 0.04997629830645538, 0.017491704407259383, 0.0024988149153227688, 0.1849123037338849, 0.01038192237318417, 0.9966645478256803, 0.025878296642195146, 0.9833752724034156, 0.9985073070474328, 0.0011156506223993664, 0.050536296844337074, 0.9601896400424044, 0.006821814232338426, 0.9959848779214102, 0.03338858472012334, 0.968268956883577], \"Term\": [\"\\uac00\\uaca9\", \"\\uac00\\uaca9\", \"\\uac00\\uaca9\", \"\\uac00\\uaca9\", \"\\uac00\\uacf5\", \"\\uac00\\uacf5\", \"\\uac00\\uacf5\", \"\\uac00\\uacf5\", \"\\uac00\\uacf5\", \"\\uac00\\ub9f9\\uc810\", \"\\uac00\\ub9f9\\uc810\", \"\\uac00\\ub9f9\\uc810\", \"\\uac00\\uc0c1\", \"\\uac00\\uc0c1\", \"\\uac00\\uc0c1\", \"\\uac00\\uc0c1\", \"\\uac00\\uc0c1\", \"\\uac00\\uc0c1\", \"\\uac00\\uc785\\uc790\", \"\\uac00\\uc785\\uc790\", \"\\uac00\\uc815\", \"\\uac00\\ucd95\", \"\\uac00\\ucd95\", \"\\uac01\\uc885\", \"\\uac01\\uc885\", \"\\uac01\\uc885\", \"\\uac01\\uc885\", \"\\uac10\\uc815\", \"\\uac10\\uc815\", \"\\uac1c\\ubc1c\", \"\\uac1c\\ubc1c\", \"\\uac1d\\uccb4\", \"\\uac1d\\uccb4\", \"\\uac74\\uac15\", \"\\uac74\\uc124\", \"\\uac74\\uc124\", \"\\uac80\\uc0ac\", \"\\uac80\\uc0ac\", \"\\uac80\\uc0ac\", \"\\uac80\\uc0c9\", \"\\uac80\\uc0c9\", \"\\uac80\\uc0c9\", \"\\uac80\\uc0c9\", \"\\uac80\\ucd9c\", \"\\uac80\\ucd9c\", \"\\uac80\\ucd9c\", \"\\uac8c\\uc784\", \"\\uac8c\\uc784\", \"\\uacb0\\uc7ac\", \"\\uacb0\\uc7ac\", \"\\uacc4\\uc57d\", \"\\uacc4\\uc57d\", \"\\uacc4\\uc57d\", \"\\uacc4\\uc815\", \"\\uacc4\\uc815\", \"\\uacc4\\uc815\", \"\\uacc4\\uce35\", \"\\uacc4\\uce35\", \"\\uace0\\uac1d\", \"\\uace0\\uac1d\", \"\\uace0\\uc548\", \"\\uace0\\uc548\", \"\\uace0\\uc720\", \"\\uace0\\uc720\", \"\\uace0\\uc720\", \"\\uace0\\uc720\", \"\\uace0\\uc7a5\", \"\\uace0\\uc7a5\", \"\\uace0\\uc815\", \"\\uace0\\uc815\", \"\\uace0\\uc815\", \"\\uacf5\\uac04\", \"\\uacf5\\uac04\", \"\\uacf5\\uac04\", \"\\uacf5\\uac04\", \"\\uacf5\\uac1c\", \"\\uacf5\\uac1c\", \"\\uacf5\\uac1c\", \"\\uacf5\\uae09\\uc790\", \"\\uacf5\\uae09\\uc790\", \"\\uacf5\\uc0ac\", \"\\uacf5\\uc720\", \"\\uacf5\\uc720\", \"\\uacf5\\uc720\", \"\\uacf5\\uc720\", \"\\uacf5\\uc720\", \"\\uacf5\\uc815\", \"\\uacf5\\uc815\", \"\\uacf5\\uc815\", \"\\uacf5\\uc911\\ud569\\uccb4\", \"\\uacf5\\uc911\\ud569\\uccb4\", \"\\uad00\\ub9ac\\uc790\", \"\\uad00\\ub9ac\\uc790\", \"\\uad11\\uace0\", \"\\uad11\\uace0\", \"\\uad11\\uace0\\uc8fc\", \"\\uad11\\uace0\\uc8fc\", \"\\uad50\\ud1b5\", \"\\uad50\\ud1b5\", \"\\uad50\\ud1b5\", \"\\uad50\\ud658\", \"\\uad50\\ud658\", \"\\uad50\\ud658\", \"\\uad50\\ud658\", \"\\uad6c\\ub3d9\", \"\\uad6c\\ub3d9\", \"\\uad6c\\ub3d9\", \"\\uad6c\\ub9e4\\uc790\", \"\\uad6c\\ub9e4\\uc790\", \"\\uad6c\\ub9e4\\uc790\", \"\\uad6c\\uc785\", \"\\uad6c\\uc785\", \"\\uad6c\\uc785\", \"\\uad6d\\ub0b4\", \"\\uad6d\\uc81c\", \"\\uad6d\\uc81c\", \"\\uadf8\\ub8f9\", \"\\uadf8\\ub8f9\", \"\\uadf8\\ub8f9\", \"\\uadf8\\ub8f9\", \"\\uadf8\\ub8f9\", \"\\uae08\\uc561\", \"\\uae08\\uc561\", \"\\uae08\\uc561\", \"\\uae08\\uc735\", \"\\uae08\\uc735\", \"\\uae30\\uad6c\", \"\\uae30\\uad6c\", \"\\uae30\\ubd80\", \"\\uae30\\ubd80\", \"\\uae30\\uc5c5\", \"\\uae30\\uc5c5\", \"\\uae30\\uc874\", \"\\uae30\\uc874\", \"\\uae30\\uc874\", \"\\ub0b4\\ubd80\", \"\\ub0b4\\ubd80\", \"\\ub0b4\\ubd80\", \"\\ub0b4\\ubd80\", \"\\ub0b4\\ubd80\", \"\\ub0b4\\uc5ed\", \"\\ub0b4\\uc5ed\", \"\\ub0b4\\uc5ed\", \"\\ub0b4\\uc9c0\", \"\\ub0b4\\uc9c0\", \"\\ub0b4\\uc9c0\", \"\\ub0b4\\uc9c0\", \"\\ub0b4\\uc9c0\", \"\\ub0c9\\uc7a5\\uace0\", \"\\ub0c9\\uc7a5\\uace0\", \"\\ub18d\\uc0b0\\ubb3c\", \"\\ub18d\\uc791\\ubb3c\", \"\\ub18d\\uc791\\ubb3c\", \"\\ub18d\\ucd95\", \"\\ub18d\\ucd95\", \"\\ub18d\\ucd95\", \"\\ub2e4\\uc74c\", \"\\ub2e4\\uc74c\", \"\\ub2e4\\uc74c\", \"\\ub2e4\\uc74c\", \"\\ub2e8\\uae30\", \"\\ub2e8\\uae30\", \"\\ub2e8\\ub7c9\\uccb4\", \"\\ub2e8\\ub7c9\\uccb4\", \"\\ub2e8\\uc704\", \"\\ub2e8\\uc704\", \"\\ub2e8\\uc704\", \"\\ub2e8\\uc704\", \"\\ub2f4\\ubcf4\", \"\\ub300\\ucd9c\", \"\\ub300\\ucd9c\", \"\\ub300\\ud589\", \"\\ub300\\ud654\", \"\\ub300\\ud654\", \"\\ub3c4\\uba54\\uc778\", \"\\ub3c4\\uba54\\uc778\", \"\\ub3c4\\uc11c\", \"\\ub3c4\\uc11c\", \"\\ub3d9\\ubb3c\", \"\\ub3d9\\ubb3c\", \"\\ub3d9\\uc601\\uc0c1\", \"\\ub4dc\\ub860\", \"\\ub4dc\\ub860\", \"\\ub514\\ubc14\\uc774\\uc2a4\", \"\\ub514\\ubc14\\uc774\\uc2a4\", \"\\ub514\\uc2a4\\ud50c\\ub808\\uc774\", \"\\ub514\\uc2a4\\ud50c\\ub808\\uc774\", \"\\ub514\\uc2a4\\ud50c\\ub808\\uc774\", \"\\ub514\\uc2a4\\ud50c\\ub808\\uc774\", \"\\ub514\\uc790\\uc778\", \"\\ub514\\uc9c0\\ud138\", \"\\ub514\\uc9c0\\ud138\", \"\\ub514\\uc9c0\\ud138\", \"\\ub514\\uc9c0\\ud138\", \"\\ub79c\\ub364\", \"\\ub79c\\ub364\", \"\\ub79c\\ub364\", \"\\ub808\\uc2dc\\ud53c\", \"\\ub808\\uc2dc\\ud53c\", \"\\ub808\\uc774\\uc5b4\", \"\\ub808\\uc774\\uc5b4\", \"\\ub9ac\\ub354\", \"\\ub9ac\\ub354\", \"\\ub9ac\\ub354\\uae30\", \"\\ub9ac\\ub354\\uae30\", \"\\ub9ac\\uc18c\\uc2a4\", \"\\ub9ac\\uc18c\\uc2a4\", \"\\ub9c8\\uc77c\\ub9ac\\uc9c0\", \"\\ub9c8\\uc77c\\ub9ac\\uc9c0\", \"\\ub9c8\\ucf00\\ud305\", \"\\ub9c8\\ucf00\\ud305\", \"\\ub9c8\\ucf00\\ud305\", \"\\ub9e4\\uc7a5\", \"\\ub9e4\\uc7a5\", \"\\ub9e4\\uc7a5\", \"\\ub9e4\\uccb4\", \"\\ub9e4\\uccb4\", \"\\ub9e4\\uccb4\", \"\\ub9e4\\uccb4\", \"\\ub9e4\\ucd9c\", \"\\ub9e4\\ucd9c\", \"\\ub9e4\\uce6d\", \"\\ub9e4\\uce6d\", \"\\ub9e4\\uce6d\", \"\\ub9e4\\uce6d\", \"\\ub9e4\\uce6d\", \"\\uba38\\ub2c8\", \"\\uba38\\ub2c8\", \"\\uba40\\ud2f0\\ubbf8\\ub514\\uc5b4\", \"\\uba54\\ubaa8\\ub9ac\", \"\\uba54\\ubaa8\\ub9ac\", \"\\uba54\\uc2dc\\uc9c0\", \"\\uba54\\uc2dc\\uc9c0\", \"\\uba54\\uc778\", \"\\uba54\\uc778\", \"\\uba54\\uc778\", \"\\uba54\\uc778\", \"\\ubaa8\\ubc14\\uc77c\", \"\\ubaa8\\ubc14\\uc77c\", \"\\ubaa8\\ubc14\\uc77c\", \"\\ubaa8\\ud130\", \"\\ubaa8\\ud130\", \"\\ubaa9\\uc801\", \"\\ubaa9\\uc801\", \"\\ubaa9\\uc801\", \"\\ubaa9\\uc801\", \"\\ubaa9\\uc801\", \"\\ubb34\\uc120\", \"\\ubb34\\uc120\", \"\\ubb34\\uc120\", \"\\ubb34\\uc120\", \"\\ubb34\\uc120\\ub2e8\\ub9d0\", \"\\ubb34\\uc120\\ub2e8\\ub9d0\", \"\\ubb38\\uc11c\", \"\\ubb38\\uc11c\", \"\\ubb38\\uc81c\\uc810\", \"\\ubb38\\uc81c\\uc810\", \"\\ubb38\\ud654\", \"\\ubb3c\\uac74\", \"\\ubb3c\\ub958\", \"\\ubb3c\\ub958\", \"\\ubb3c\\ub958\", \"\\ubb3c\\ud488\", \"\\ubb3c\\ud488\", \"\\ubb3c\\ud488\", \"\\ubbf8\\ub514\\uc5b4\", \"\\ubbf8\\ub514\\uc5b4\", \"\\ubc14\\ucf54\\ub4dc\", \"\\ubc14\\ucf54\\ub4dc\", \"\\ubc14\\ucf54\\ub4dc\", \"\\ubc1c\\uae09\", \"\\ubc1c\\uae09\", \"\\ubc1c\\uae09\", \"\\ubc1c\\uae09\", \"\\ubc1c\\uae09\", \"\\ubc1c\\uc1a1\", \"\\ubc1c\\uc1a1\", \"\\ubc1c\\uc1a1\", \"\\ubc1c\\uc8fc\", \"\\ubc1c\\uc8fc\", \"\\ubc1c\\ud589\", \"\\ubc1c\\ud589\", \"\\ubc1c\\ud589\", \"\\ubc1c\\ud589\", \"\\ubc29\\uc1a1\", \"\\ubc29\\uc2dd\", \"\\ubc29\\uc2dd\", \"\\ubc29\\uc2dd\", \"\\ubc29\\uc2dd\", \"\\ubc29\\uc2dd\", \"\\ubc29\\uc2dd\", \"\\ubc29\\uc2dd\", \"\\ubc29\\ud5a5\", \"\\ubc29\\ud5a5\", \"\\ubc29\\ud5a5\", \"\\ubc30\\uc1a1\", \"\\ubc30\\uc1a1\", \"\\ubc30\\uce58\", \"\\ubc30\\uce58\", \"\\ubc30\\uce58\", \"\\ubc30\\ud130\\ub9ac\", \"\\ubc30\\ud130\\ub9ac\", \"\\ubc88\\ud638\", \"\\ubc88\\ud638\", \"\\ubc88\\ud638\", \"\\ubca8\\ud2b8\", \"\\ubca8\\ud2b8\", \"\\ubcf4\\uad00\", \"\\ubcf4\\uad00\", \"\\ubcf4\\uad00\", \"\\ubcf4\\uad00\", \"\\ubcf4\\uad00\", \"\\ubcf4\\uc548\", \"\\ubcf4\\uc548\", \"\\ubcf4\\ud5d8\", \"\\ubcf4\\ud5d8\", \"\\ubcf5\\uad8c\", \"\\ubcf5\\uad8c\", \"\\ubcf5\\ud638\", \"\\ubcf5\\ud638\", \"\\ubcf8\\uccb4\", \"\\ubcf8\\uccb4\", \"\\ubcf8\\uccb4\", \"\\ubd80\\ub3d9\\uc0b0\", \"\\ubd80\\ubd84\", \"\\ubd80\\ubd84\", \"\\ubd80\\ubd84\", \"\\ubd80\\ubd84\", \"\\ubd80\\ubd84\", \"\\ubd80\\ucc29\", \"\\ubd80\\ucc29\", \"\\ubd80\\ucc29\", \"\\ubd80\\ucc29\", \"\\ubd80\\ud488\", \"\\ubd80\\ud488\", \"\\ubd84\\ubc30\", \"\\ubd84\\ubc30\", \"\\ubd84\\ubc30\", \"\\ubd84\\uc0b0\", \"\\ubd84\\uc0b0\", \"\\ubd84\\uc0b0\", \"\\ube0c\\ub79c\\ub4dc\", \"\\ube44\\ub514\\uc624\", \"\\ube44\\ub514\\uc624\", \"\\ube44\\ud2b8\", \"\\ube44\\ud2b8\", \"\\ube44\\ud2b8\", \"\\uc0ac\\uc5c5\", \"\\uc0ac\\uc5c5\", \"\\uc0ac\\uc721\", \"\\uc0ac\\uc721\", \"\\uc0ac\\uc774\\ubc84\", \"\\uc0ac\\uc774\\ubc84\", \"\\uc0ac\\uc774\\ud2b8\", \"\\uc0ac\\uc774\\ud2b8\", \"\\uc0ad\\uc81c\", \"\\uc0ad\\uc81c\", \"\\uc0b0\\ucd9c\", \"\\uc0b0\\ucd9c\", \"\\uc0b0\\ucd9c\", \"\\uc0b0\\ucd9c\", \"\\uc0b0\\ucd9c\", \"\\uc0c1\\uac70\\ub798\", \"\\uc0c1\\uac70\\ub798\", \"\\uc0c1\\ub2f4\", \"\\uc0c1\\ub2f4\", \"\\uc0c1\\ubd80\", \"\\uc0c1\\ubd80\", \"\\uc0c1\\uc704\", \"\\uc0c1\\uc704\", \"\\uc0c1\\uc810\", \"\\uc0c1\\uc810\", \"\\uc0c1\\ud488\\uad8c\", \"\\uc0c1\\ud488\\uad8c\", \"\\uc0c1\\ud488\\uc815\\ubcf4\", \"\\uc0c1\\ud488\\uc815\\ubcf4\", \"\\uc0c8\\ub85c\\uc6b4\", \"\\uc0c8\\ub85c\\uc6b4\", \"\\uc0c8\\ub85c\\uc6b4\", \"\\uc0c8\\ub85c\\uc6b4\", \"\\uc0dd\\uc0b0\\uc790\", \"\\uc0dd\\uc0b0\\uc790\", \"\\uc0dd\\uc0b0\\uc790\", \"\\uc0dd\\uc131\\ubd80\", \"\\uc0dd\\uc131\\ubd80\", \"\\uc0dd\\uc131\\ubd80\", \"\\uc0dd\\uccb4\", \"\\uc0dd\\uccb4\", \"\\uc0dd\\ud65c\", \"\\uc11c\\uba85\", \"\\uc11c\\uba85\", \"\\uc11c\\uba85\", \"\\uc11c\\ube0c\", \"\\uc11c\\ube0c\", \"\\uc138\\ud2b8\", \"\\uc138\\ud2b8\", \"\\uc138\\ud2b8\", \"\\uc13c\\uc11c\", \"\\uc13c\\uc11c\", \"\\uc13c\\uc11c\", \"\\uc13c\\uc11c\", \"\\uc13c\\uc2f1\", \"\\uc13c\\uc2f1\", \"\\uc18c\\ube44\", \"\\uc18c\\ube44\", \"\\uc18c\\ud504\\ud2b8\\uc6e8\\uc5b4\", \"\\uc18c\\ud504\\ud2b8\\uc6e8\\uc5b4\", \"\\uc18d\\ub3c4\", \"\\uc18d\\ub3c4\", \"\\uc18d\\ub3c4\", \"\\uc18d\\ub3c4\", \"\\uc1a1\\uc2e0\", \"\\uc1a1\\uc2e0\", \"\\uc1a1\\uc2e0\", \"\\uc1a1\\uc2e0\", \"\\uc1a1\\uc2e0\", \"\\uc1fc\\ud551\", \"\\uc1fc\\ud551\", \"\\uc1fc\\ud551\\ubab0\", \"\\uc1fc\\ud551\\ubab0\", \"\\uc1fc\\ud551\\ubab0\", \"\\uc218\\uac70\", \"\\uc218\\uac70\", \"\\uc218\\uac70\", \"\\uc218\\ub2e8\", \"\\uc218\\ub2e8\", \"\\uc218\\ub2e8\", \"\\uc218\\ub2e8\", \"\\uc218\\ub2e8\", \"\\uc218\\ub839\", \"\\uc218\\ub839\", \"\\uc218\\uc694\", \"\\uc218\\uc775\", \"\\uc218\\uc775\", \"\\uc218\\uc9c0\", \"\\uc218\\uc9c0\", \"\\uc218\\ud655\", \"\\uc218\\ud655\", \"\\uc21c\\ud658\", \"\\uc21c\\ud658\", \"\\uc21c\\ud658\", \"\\uc2a4\\uce94\", \"\\uc2a4\\uce94\", \"\\uc2a4\\ud0c0\\uc77c\", \"\\uc2a4\\ud0c0\\uc77c\", \"\\uc2a4\\ud1a0\\ub9ac\\uc9c0\", \"\\uc2a4\\ud1a0\\ub9ac\\uc9c0\", \"\\uc2dc\\uc7a5\", \"\\uc2dc\\uc7a5\", \"\\uc2dc\\uc810\", \"\\uc2dc\\uc810\", \"\\uc2dd\\ud488\", \"\\uc2dd\\ud488\", \"\\uc2e0\\uacbd\\ub9dd\", \"\\uc2e0\\uacbd\\ub9dd\", \"\\uc2e0\\ub8b0\", \"\\uc2e0\\ub8b0\", \"\\uc2e0\\ub8b0\", \"\\uc2e0\\ub8b0\", \"\\uc2e0\\ub8b0\", \"\\uc2e0\\uc120\", \"\\uc2e0\\uc120\", \"\\uc4f0\\ub808\\uae30\", \"\\uc4f0\\ub808\\uae30\", \"\\uc544\\uc774\\ub374\\ud2f0\\ud2f0\", \"\\uc544\\uc774\\ub374\\ud2f0\\ud2f0\", \"\\uc544\\uc774\\ud15c\", \"\\uc544\\uc774\\ud15c\", \"\\uc54c\\ub78c\", \"\\uc54c\\ub78c\", \"\\uc54c\\ub9bc\", \"\\uc54c\\ub9bc\", \"\\uc57d\\ud488\", \"\\uc57d\\ud488\", \"\\uc57d\\ud488\", \"\\uc5b8\\uc5b4\", \"\\uc5b8\\uc5b4\", \"\\uc5c5\\uccb4\", \"\\uc5c5\\uccb4\", \"\\uc5ec\\ud589\", \"\\uc5ec\\ud589\", \"\\uc5f0\\ub3d9\", \"\\uc5f0\\ub3d9\", \"\\uc5f0\\ub3d9\", \"\\uc5f0\\ub3d9\", \"\\uc5f0\\ub3d9\", \"\\uc5f0\\ub3d9\", \"\\uc5f0\\uc0b0\", \"\\uc5f0\\uc0b0\", \"\\uc5f0\\uc0b0\", \"\\uc5f0\\uc0b0\", \"\\uc5f0\\uc0b0\", \"\\uc601\\uc5c5\", \"\\uc601\\uc5c5\", \"\\uc601\\uc5ed\", \"\\uc601\\uc5ed\", \"\\uc601\\uc5ed\", \"\\uc601\\uc5ed\", \"\\uc601\\uc5ed\", \"\\uc608\\uc57d\", \"\\uc608\\uc57d\", \"\\uc608\\uc57d\", \"\\uc608\\ucee8\\ub300\", \"\\uc608\\ucee8\\ub300\", \"\\uc624\\ud504\\ub77c\\uc778\", \"\\uc624\\ud504\\ub77c\\uc778\", \"\\uc624\\ud504\\ub77c\\uc778\", \"\\uc628\\ub3c4\", \"\\uc628\\ub3c4\", \"\\uc628\\ub3c4\", \"\\uc628\\uc2e4\", \"\\uc628\\uc2e4\", \"\\uc644\\ub8cc\", \"\\uc644\\ub8cc\", \"\\uc644\\ub8cc\", \"\\uc644\\ub8cc\", \"\\uc644\\ub8cc\", \"\\uc678\\ubd80\", \"\\uc678\\ubd80\", \"\\uc678\\ubd80\", \"\\uc678\\ubd80\", \"\\uc678\\ubd80\", \"\\uc694\\ub9ac\", \"\\uc694\\ub9ac\", \"\\uc6a9\\uae30\", \"\\uc6a9\\uae30\", \"\\uc6a9\\uae30\", \"\\uc6a9\\uc5ed\", \"\\uc6a9\\uc5ed\", \"\\uc6b4\\ub3d9\", \"\\uc6b4\\ub3d9\", \"\\uc6b4\\uc1a1\", \"\\uc6b4\\uc1a1\", \"\\uc6b4\\uc601\\uc11c\\ubc84\", \"\\uc6b4\\uc601\\uc11c\\ubc84\", \"\\uc6b4\\uc6a9\", \"\\uc6b4\\uc6a9\", \"\\uc704\\uc131\", \"\\uc704\\uc131\", \"\\uc720\\uae30\", \"\\uc720\\uae30\", \"\\uc720\\uae30\", \"\\uc720\\uae30\", \"\\uc720\\ub2db\", \"\\uc720\\ub2db\", \"\\uc720\\ub8cc\", \"\\uc720\\uc800\", \"\\uc720\\uc800\", \"\\uc720\\ud615\", \"\\uc720\\ud615\", \"\\uc720\\ud6a8\", \"\\uc720\\ud6a8\", \"\\uc720\\ud6a8\", \"\\uc720\\ud6a8\", \"\\uc721\\ub958\", \"\\uc721\\ub958\", \"\\uc740\\ud589\", \"\\uc740\\ud589\", \"\\uc74c\\uc131\", \"\\uc74c\\uc131\", \"\\uc74c\\uc2dd\", \"\\uc74c\\uc2dd\", \"\\uc74c\\uc2dd\\ubb3c\", \"\\uc74c\\uc2dd\\ubb3c\", \"\\uc74c\\uc545\", \"\\uc74c\\uc6d0\", \"\\uc74c\\uc6d0\", \"\\uc74c\\ud30c\", \"\\uc74c\\ud30c\", \"\\uc758\\ub8cc\", \"\\uc758\\ub8cc\", \"\\uc758\\ub958\", \"\\uc758\\ub958\", \"\\uc758\\uc57d\\ud488\", \"\\uc758\\uc57d\\ud488\", \"\\uc774\\ub3d9\", \"\\uc774\\ub3d9\", \"\\uc774\\ub3d9\", \"\\uc774\\ub3d9\", \"\\uc774\\ub3d9\\ud1b5\\uc2e0\", \"\\uc774\\ub3d9\\ud1b5\\uc2e0\", \"\\uc774\\ub3d9\\ud1b5\\uc2e0\\ub2e8\\ub9d0\\uae30\", \"\\uc774\\ub3d9\\ud1b5\\uc2e0\\ub2e8\\ub9d0\\uae30\", \"\\uc774\\ub825\", \"\\uc774\\ub825\", \"\\uc774\\ubca4\\ud2b8\", \"\\uc774\\ubca4\\ud2b8\", \"\\uc774\\ubca4\\ud2b8\", \"\\uc774\\ubca4\\ud2b8\", \"\\uc774\\uc1a1\", \"\\uc774\\uc1a1\", \"\\uc774\\uc775\", \"\\uc774\\uc775\", \"\\uc778\\ub371\\uc2a4\", \"\\uc778\\ub371\\uc2a4\", \"\\uc778\\uc99d\\uc11c\", \"\\uc778\\uc99d\\uc11c\", \"\\uc778\\ucd9c\", \"\\uc778\\ucd9c\", \"\\uc778\\ucd9c\", \"\\uc778\\ucd9c\", \"\\uc77c\\ubc18\", \"\\uc77c\\ubc18\", \"\\uc77c\\ubc18\", \"\\uc77c\\ubc18\", \"\\uc77c\\uce21\", \"\\uc77c\\uce21\", \"\\uc790\\ub3d9\\ucc28\", \"\\uc790\\ub3d9\\ucc28\", \"\\uc790\\uc0b0\", \"\\uc790\\uc0b0\", \"\\uc790\\uc0b0\", \"\\uc790\\uc2e0\", \"\\uc790\\uc2e0\", \"\\uc790\\uc2e0\", \"\\uc790\\uc2e0\", \"\\uc790\\uc7ac\", \"\\uc7a5\\ucc29\", \"\\uc7a5\\ucc29\", \"\\uc7ac\\uace0\", \"\\uc7ac\\uace0\", \"\\uc7ac\\uace0\", \"\\uc7ac\\ub8cc\", \"\\uc7ac\\ub8cc\", \"\\uc7ac\\ub8cc\", \"\\uc800\\uc791\", \"\\uc800\\uc7a5\\ubd80\", \"\\uc800\\uc7a5\\ubd80\", \"\\uc800\\uc7a5\\ubd80\", \"\\uc801\\ub9bd\", \"\\uc801\\ub9bd\", \"\\uc804\\uae30\", \"\\uc804\\uae30\", \"\\uc804\\ub825\", \"\\uc804\\uc0b0\", \"\\uc804\\uc790\\ubb38\\uc11c\", \"\\uc804\\uc790\\ubb38\\uc11c\", \"\\uc804\\uc790\\uc0c1\\uac70\\ub798\", \"\\uc804\\uc790\\uc0c1\\uac70\\ub798\", \"\\uc804\\uc790\\ucc45\", \"\\uc810\\uc218\", \"\\uc810\\uc218\", \"\\uc815\\ubcf4\\ucc98\\ub9ac\", \"\\uc815\\uc0c1\", \"\\uc815\\uc0c1\", \"\\uc815\\uc0c1\", \"\\uc815\\ucc45\", \"\\uc815\\ucc45\", \"\\uc81c\\uc5b4\\ubd80\", \"\\uc81c\\uc5b4\\ubd80\", \"\\uc81c\\uc5b4\\ubd80\", \"\\uc81c\\uc791\", \"\\uc81c\\uc791\", \"\\uc81c\\uc791\", \"\\uc81c\\uc870\", \"\\uc81c\\uc870\", \"\\uc81c\\uc870\", \"\\uc81c\\uc870\", \"\\uc870\\uc131\\ubb3c\", \"\\uc870\\uc131\\ubb3c\", \"\\uc870\\uc808\", \"\\uc870\\uc808\", \"\\uc870\\uc815\", \"\\uc870\\uc815\", \"\\uc8fc\\ub958\", \"\\uc8fc\\ubb38\", \"\\uc8fc\\ubb38\", \"\\uc8fc\\ubb38\", \"\\uc911\\uac1c\", \"\\uc911\\uac1c\", \"\\uc911\\uacc4\", \"\\uc911\\uacc4\", \"\\uc911\\uacc4\", \"\\uc911\\uace0\", \"\\uc911\\uace0\", \"\\uc911\\ud569\\uccb4\", \"\\uc911\\ud569\\uccb4\", \"\\uc99d\\uba85\", \"\\uc99d\\uba85\", \"\\uc99d\\uba85\\uc11c\", \"\\uc99d\\uba85\\uc11c\", \"\\uc9c0\\uae09\", \"\\uc9c0\\uae09\", \"\\uc9c0\\ub3c4\", \"\\uc9c0\\ub3c4\", \"\\uc9c0\\ub3c4\", \"\\uc9c0\\uc2dd\", \"\\uc9c0\\uc2dd\", \"\\uc9c0\\uc5ed\", \"\\uc9c0\\uc5ed\", \"\\uc9c0\\uc5ed\", \"\\uc9c0\\uc6d0\", \"\\uc9c0\\uc6d0\", \"\\uc9c0\\uc6d0\", \"\\uc9c0\\uc6d0\", \"\\uc9c0\\uc815\", \"\\uc9c0\\uc815\", \"\\uc9c0\\uc815\", \"\\uc9c0\\uc9c0\", \"\\uc9c0\\uc9c0\", \"\\uc9c1\\uc811\", \"\\uc9c1\\uc811\", \"\\uc9c1\\uc811\", \"\\uc9c1\\uc811\", \"\\uc9c4\\ub2e8\", \"\\uc9c4\\ub8cc\", \"\\uc9c4\\ub8cc\", \"\\ucc28\\ub7c9\", \"\\ucc28\\ub7c9\", \"\\ucc28\\ub7c9\", \"\\ucc38\\uc5ec\", \"\\ucc38\\uc5ec\", \"\\ucc38\\uc5ec\", \"\\ucc38\\uc5ec\", \"\\ucc3d\\uace0\", \"\\ucc3d\\uace0\", \"\\ucc44\\uad8c\", \"\\ucc44\\uad8c\", \"\\ucc45\\uc784\", \"\\ucc45\\uc784\", \"\\ucc98\\ubc29\", \"\\ucc98\\ubc29\", \"\\uccad\\uad6c\", \"\\uccad\\uad6c\", \"\\uccb4\\uacc4\", \"\\uccb4\\uacc4\", \"\\uccb4\\uacc4\", \"\\ucd2c\\uc601\", \"\\ucd2c\\uc601\", \"\\ucd2c\\uc601\", \"\\ucd94\\uc801\", \"\\ucd94\\uc801\", \"\\ucd94\\uc801\", \"\\ucd94\\ucc9c\", \"\\ucd94\\ucc9c\", \"\\ucd95\\uc0b0\", \"\\ucd95\\uc0b0\", \"\\ucd9c\\uace0\", \"\\ucd9c\\uace0\", \"\\ucd9c\\uace0\", \"\\ucd9c\\ud310\", \"\\ucd9c\\ud310\", \"\\ucd9c\\ud558\", \"\\uce21\\uc815\", \"\\uce21\\uc815\", \"\\uce21\\uc815\", \"\\uce5c\\ud658\\uacbd\", \"\\uce5c\\ud658\\uacbd\", \"\\uce74\\ub4dc\", \"\\uce74\\ub4dc\", \"\\uce74\\ub4dc\", \"\\ucee4\\ubba4\\ub2c8\\ud2f0\", \"\\ucee8\\ud150\\uce20\", \"\\ucee8\\ud150\\uce20\", \"\\ucef4\\ud4e8\\ud305\", \"\\ucef4\\ud4e8\\ud305\", \"\\ucef4\\ud4e8\\ud305\", \"\\ucf54\\ub4dc\", \"\\ucf54\\ub4dc\", \"\\ucf54\\ub4dc\", \"\\ucf58\\ud150\\uce20\", \"\\ucfe0\\ud3f0\", \"\\ucfe0\\ud3f0\", \"\\ucfe0\\ud3f0\", \"\\ud074\\ub77c\\uc6b0\\ub4dc\", \"\\ud074\\ub77c\\uc6b0\\ub4dc\", \"\\ud074\\ub77c\\uc774\\uc5b8\\ud2b8\", \"\\ud074\\ub77c\\uc774\\uc5b8\\ud2b8\", \"\\ud074\\ub77c\\uc774\\uc5b8\\ud2b8\", \"\\ud074\\ub77c\\uc774\\uc5b8\\ud2b8\", \"\\ud074\\ub77c\\uc774\\uc5b8\\ud2b8\", \"\\ud074\\ub77c\\uc774\\uc5b8\\ud2b8\", \"\\ud0a4\\ub85c\", \"\\ud0a4\\ub85c\", \"\\ud0a4\\ub97c\", \"\\ud0a4\\ub97c\", \"\\ud0a4\\ub97c\", \"\\ud0c4\\uc18c\", \"\\ud0c4\\uc18c\", \"\\ud0d0\\uc9c0\", \"\\ud0d0\\uc9c0\", \"\\ud0d0\\uc9c0\", \"\\ud0dc\\uadf8\", \"\\ud0dc\\uadf8\", \"\\ud14c\\uc2a4\\ud2b8\", \"\\ud14c\\uc2a4\\ud2b8\", \"\\ud14d\\uc2a4\\ud2b8\", \"\\ud14d\\uc2a4\\ud2b8\", \"\\ud1a0\\ud070\", \"\\ud1a0\\ud070\", \"\\ud1b5\\uacc4\", \"\\ud1b5\\uacc4\", \"\\ud1b5\\ud569\", \"\\ud1b5\\ud569\", \"\\ud1b5\\ud569\", \"\\ud1b5\\ud569\", \"\\ud1b5\\ud569\", \"\\ud22c\\uc790\", \"\\ud22c\\uc790\", \"\\ud2b8\\ub808\\uc774\\ub2dd\", \"\\ud2b8\\ub808\\uc774\\ub2dd\", \"\\ud2b9\\uc131\", \"\\ud2b9\\uc131\", \"\\ud2b9\\uc131\", \"\\ud2b9\\uc131\", \"\\ud30c\\ub77c\\ubbf8\\ud130\", \"\\ud30c\\ub77c\\ubbf8\\ud130\", \"\\ud30c\\uc77c\", \"\\ud30c\\uc77c\", \"\\ud30c\\uc77c\", \"\\ud310\\ub9e4\\uc790\", \"\\ud310\\ub9e4\\uc790\", \"\\ud310\\uc815\", \"\\ud310\\uc815\", \"\\ud328\\ud0a4\\uc9c0\", \"\\ud328\\ud0a4\\uc9c0\", \"\\ud328\\ud0b7\", \"\\ud328\\ud0b7\", \"\\ud328\\ud134\", \"\\ud328\\ud134\", \"\\ud328\\ud134\", \"\\ud328\\ud134\", \"\\ud328\\ud134\", \"\\ud3b8\\uc9d1\", \"\\ud3c9\\uac00\", \"\\ud3c9\\uac00\", \"\\ud3ec\\uc778\\ud2b8\", \"\\ud3ec\\uc778\\ud2b8\", \"\\ud3ec\\uc7a5\", \"\\ud3ec\\uc7a5\", \"\\ud3ec\\uc7a5\", \"\\ud3ec\\uc7a5\", \"\\ud45c\\uba74\", \"\\ud45c\\uba74\", \"\\ud45c\\uc2dc\", \"\\ud45c\\uc2dc\", \"\\ud45c\\uc2dc\", \"\\ud45c\\uc2dc\", \"\\ud488\\ubaa9\", \"\\ud488\\ubaa9\", \"\\ud488\\uc9c8\", \"\\ud488\\uc9c8\", \"\\ud488\\uc9c8\", \"\\ud504\\ub808\\uc784\", \"\\ud504\\ub808\\uc784\", \"\\ud504\\ub85c\", \"\\ud504\\ub85c\", \"\\ud504\\ub85c\\uc138\\uc11c\", \"\\ud504\\ub85c\\uc138\\uc11c\", \"\\ud504\\ub85c\\uc138\\uc11c\", \"\\ud504\\ub85c\\uc138\\uc11c\", \"\\ud504\\ub85c\\uc138\\uc11c\", \"\\ud504\\ub85c\\uc138\\uc2f1\", \"\\ud504\\ub85c\\uc138\\uc2f1\", \"\\ud504\\ub85c\\ud30c\\uc77c\", \"\\ud504\\ub85c\\ud30c\\uc77c\", \"\\ud50c\\ub79c\\ud2b8\", \"\\ud50c\\ub79c\\ud2b8\", \"\\ud544\\ub4dc\", \"\\ud544\\ub4dc\", \"\\ud558\\ubd80\", \"\\ud558\\ubd80\", \"\\ud560\\uc778\", \"\\ud560\\uc778\", \"\\ud568\\uc720\", \"\\ud568\\uc720\", \"\\ud568\\uc720\", \"\\ud569\\uc131\", \"\\ud569\\uc131\", \"\\ud569\\uc758\", \"\\ud569\\uc758\", \"\\ud569\\uc758\", \"\\ud574\\uc26c\", \"\\ud574\\uc26c\", \"\\ud604\\uae08\", \"\\ud604\\uae08\", \"\\ud615\\uc0c1\", \"\\ud615\\uc0c1\", \"\\ud654\\ubb3c\", \"\\ud654\\ubb3c\", \"\\ud654\\ud569\\ubb3c\", \"\\ud654\\ud569\\ubb3c\", \"\\ud658\\uacbd\", \"\\ud658\\uacbd\", \"\\ud658\\uacbd\", \"\\ud658\\uacbd\", \"\\ud658\\uacbd\", \"\\ud658\\uc790\", \"\\ud658\\uc790\", \"\\ud658\\uc804\", \"\\ud658\\uc804\", \"\\ud65c\\ub3d9\", \"\\ud65c\\ub3d9\", \"\\ud68c\\uc6d0\", \"\\ud68c\\uc6d0\", \"\\ud68c\\uc804\", \"\\ud68c\\uc804\", \"\\ud6c4\\ubcf4\", \"\\ud6c4\\ubcf4\"]}, \"R\": 30, \"lambda.step\": 0.01, \"plot.opts\": {\"xlab\": \"PC1\", \"ylab\": \"PC2\"}, \"topic.order\": [1, 2, 3, 4, 5, 6, 7]};\n",
       "\n",
       "function LDAvis_load_lib(url, callback){\n",
       "  var s = document.createElement('script');\n",
       "  s.src = url;\n",
       "  s.async = true;\n",
       "  s.onreadystatechange = s.onload = callback;\n",
       "  s.onerror = function(){console.warn(\"failed to load library \" + url);};\n",
       "  document.getElementsByTagName(\"head\")[0].appendChild(s);\n",
       "}\n",
       "\n",
       "if(typeof(LDAvis) !== \"undefined\"){\n",
       "   // already loaded: just create the visualization\n",
       "   !function(LDAvis){\n",
       "       new LDAvis(\"#\" + \"ldavis_el318816238146803925587506810\", ldavis_el318816238146803925587506810_data);\n",
       "   }(LDAvis);\n",
       "}else if(typeof define === \"function\" && define.amd){\n",
       "   // require.js is available: use it to load d3/LDAvis\n",
       "   require.config({paths: {d3: \"https://d3js.org/d3.v5\"}});\n",
       "   require([\"d3\"], function(d3){\n",
       "      window.d3 = d3;\n",
       "      LDAvis_load_lib(\"https://cdn.jsdelivr.net/gh/bmabey/pyLDAvis@3.3.1/pyLDAvis/js/ldavis.v3.0.0.js\", function(){\n",
       "        new LDAvis(\"#\" + \"ldavis_el318816238146803925587506810\", ldavis_el318816238146803925587506810_data);\n",
       "      });\n",
       "    });\n",
       "}else{\n",
       "    // require.js not available: dynamically load d3 & LDAvis\n",
       "    LDAvis_load_lib(\"https://d3js.org/d3.v5.js\", function(){\n",
       "         LDAvis_load_lib(\"https://cdn.jsdelivr.net/gh/bmabey/pyLDAvis@3.3.1/pyLDAvis/js/ldavis.v3.0.0.js\", function(){\n",
       "                 new LDAvis(\"#\" + \"ldavis_el318816238146803925587506810\", ldavis_el318816238146803925587506810_data);\n",
       "            })\n",
       "         });\n",
       "}\n",
       "</script>"
      ],
      "text/plain": [
       "<IPython.core.display.HTML object>"
      ]
     },
     "execution_count": 253,
     "metadata": {},
     "output_type": "execute_result"
    }
   ],
   "source": [
    "lda_visualization = pyLDAvis.gensim_models.prepare(lda_model, corpus, dictionary, \n",
    "                                                   sort_topics=False,\n",
    "                                                    doc_topic_dist=csr_matrix(topic_dist.T))\n",
    "pyLDAvis.save_html(lda_visualization, 'make_l_LDA_3.html',)\n",
    "pyLDAvis.display(lda_visualization)"
   ]
  },
  {
   "cell_type": "code",
   "execution_count": 108,
   "metadata": {},
   "outputs": [],
   "source": [
    "from sklearn.preprocessing import LabelEncoder, OneHotEncoder"
   ]
  },
  {
   "cell_type": "code",
   "execution_count": 109,
   "metadata": {},
   "outputs": [
    {
     "data": {
      "text/plain": [
       "array([3, 6, 6, ..., 7, 7, 7])"
      ]
     },
     "execution_count": 109,
     "metadata": {},
     "output_type": "execute_result"
    }
   ],
   "source": [
    "class_le = LabelEncoder()\n",
    "y_label = class_le.fit_transform( df_B_2.index)\n",
    "y_label\n"
   ]
  },
  {
   "cell_type": "code",
   "execution_count": 114,
   "metadata": {},
   "outputs": [
    {
     "data": {
      "text/plain": [
       "8535"
      ]
     },
     "execution_count": 114,
     "metadata": {},
     "output_type": "execute_result"
    }
   ],
   "source": [
    "len(y_label)"
   ]
  },
  {
   "cell_type": "code",
   "execution_count": null,
   "metadata": {},
   "outputs": [],
   "source": []
  },
  {
   "cell_type": "code",
   "execution_count": null,
   "metadata": {},
   "outputs": [],
   "source": []
  }
 ],
 "metadata": {
  "hide_input": false,
  "kernelspec": {
   "display_name": "Python 3",
   "language": "python",
   "name": "python3"
  },
  "language_info": {
   "codemirror_mode": {
    "name": "ipython",
    "version": 3
   },
   "file_extension": ".py",
   "mimetype": "text/x-python",
   "name": "python",
   "nbconvert_exporter": "python",
   "pygments_lexer": "ipython3",
   "version": "3.7.4"
  },
  "toc": {
   "base_numbering": 1,
   "nav_menu": {},
   "number_sections": true,
   "sideBar": true,
   "skip_h1_title": false,
   "title_cell": "Table of Contents",
   "title_sidebar": "Contents",
   "toc_cell": false,
   "toc_position": {},
   "toc_section_display": true,
   "toc_window_display": false
  },
  "varInspector": {
   "cols": {
    "lenName": 16,
    "lenType": 16,
    "lenVar": 40
   },
   "kernels_config": {
    "python": {
     "delete_cmd_postfix": "",
     "delete_cmd_prefix": "del ",
     "library": "var_list.py",
     "varRefreshCmd": "print(var_dic_list())"
    },
    "r": {
     "delete_cmd_postfix": ") ",
     "delete_cmd_prefix": "rm(",
     "library": "var_list.r",
     "varRefreshCmd": "cat(var_dic_list()) "
    }
   },
   "position": {
    "height": "586.844px",
    "left": "1550px",
    "right": "20px",
    "top": "120px",
    "width": "350px"
   },
   "types_to_exclude": [
    "module",
    "function",
    "builtin_function_or_method",
    "instance",
    "_Feature"
   ],
   "window_display": false
  }
 },
 "nbformat": 4,
 "nbformat_minor": 2
}
